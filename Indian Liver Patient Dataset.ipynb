{
 "cells": [
  {
   "cell_type": "code",
   "execution_count": 1,
   "metadata": {},
   "outputs": [
    {
     "data": {
      "text/html": [
       "        <script type=\"text/javascript\">\n",
       "        window.PlotlyConfig = {MathJaxConfig: 'local'};\n",
       "        if (window.MathJax) {MathJax.Hub.Config({SVG: {font: \"STIX-Web\"}});}\n",
       "        if (typeof require !== 'undefined') {\n",
       "        require.undef(\"plotly\");\n",
       "        requirejs.config({\n",
       "            paths: {\n",
       "                'plotly': ['https://cdn.plot.ly/plotly-latest.min']\n",
       "            }\n",
       "        });\n",
       "        require(['plotly'], function(Plotly) {\n",
       "            window._Plotly = Plotly;\n",
       "        });\n",
       "        }\n",
       "        </script>\n",
       "        "
      ]
     },
     "metadata": {},
     "output_type": "display_data"
    },
    {
     "data": {
      "text/html": [
       "        <script type=\"text/javascript\">\n",
       "        window.PlotlyConfig = {MathJaxConfig: 'local'};\n",
       "        if (window.MathJax) {MathJax.Hub.Config({SVG: {font: \"STIX-Web\"}});}\n",
       "        if (typeof require !== 'undefined') {\n",
       "        require.undef(\"plotly\");\n",
       "        requirejs.config({\n",
       "            paths: {\n",
       "                'plotly': ['https://cdn.plot.ly/plotly-latest.min']\n",
       "            }\n",
       "        });\n",
       "        require(['plotly'], function(Plotly) {\n",
       "            window._Plotly = Plotly;\n",
       "        });\n",
       "        }\n",
       "        </script>\n",
       "        "
      ]
     },
     "metadata": {},
     "output_type": "display_data"
    },
    {
     "data": {
      "text/html": [
       "        <script type=\"text/javascript\">\n",
       "        window.PlotlyConfig = {MathJaxConfig: 'local'};\n",
       "        if (window.MathJax) {MathJax.Hub.Config({SVG: {font: \"STIX-Web\"}});}\n",
       "        if (typeof require !== 'undefined') {\n",
       "        require.undef(\"plotly\");\n",
       "        requirejs.config({\n",
       "            paths: {\n",
       "                'plotly': ['https://cdn.plot.ly/plotly-latest.min']\n",
       "            }\n",
       "        });\n",
       "        require(['plotly'], function(Plotly) {\n",
       "            window._Plotly = Plotly;\n",
       "        });\n",
       "        }\n",
       "        </script>\n",
       "        "
      ]
     },
     "metadata": {},
     "output_type": "display_data"
    },
    {
     "data": {
      "text/html": [
       "        <script type=\"text/javascript\">\n",
       "        window.PlotlyConfig = {MathJaxConfig: 'local'};\n",
       "        if (window.MathJax) {MathJax.Hub.Config({SVG: {font: \"STIX-Web\"}});}\n",
       "        if (typeof require !== 'undefined') {\n",
       "        require.undef(\"plotly\");\n",
       "        requirejs.config({\n",
       "            paths: {\n",
       "                'plotly': ['https://cdn.plot.ly/plotly-latest.min']\n",
       "            }\n",
       "        });\n",
       "        require(['plotly'], function(Plotly) {\n",
       "            window._Plotly = Plotly;\n",
       "        });\n",
       "        }\n",
       "        </script>\n",
       "        "
      ]
     },
     "metadata": {},
     "output_type": "display_data"
    }
   ],
   "source": [
    "import numpy as np\n",
    "import pandas as pd\n",
    "import seaborn as sns\n",
    "import matplotlib.pyplot as plt\n",
    "from scipy.stats import skew\n",
    "\n",
    "from sklearn.model_selection import train_test_split\n",
    "from sklearn.preprocessing import StandardScaler\n",
    "from sklearn.metrics import accuracy_score, auc, recall_score, precision_score, f1_score\n",
    "from sklearn.metrics import roc_auc_score, mean_squared_error, confusion_matrix, classification_report\n",
    "from imblearn.over_sampling import SMOTE\n",
    "from sklearn.ensemble import RandomForestClassifier\n",
    "from pycaret.classification import *\n",
    "from sklearn.feature_selection import SelectKBest, chi2\n",
    "\n",
    "from sklearn.ensemble import GradientBoostingClassifier, RandomForestClassifier, ExtraTreesClassifier\n",
    "from sklearn.tree import DecisionTreeClassifier\n",
    "from catboost import CatBoostClassifier\n",
    "from xgboost import XGBClassifier\n",
    "from lightgbm import LGBMClassifier\n",
    "from sklearn.linear_model import LogisticRegression\n",
    "\n",
    "import plotly.express as px\n",
    "import plotly.graph_objects as go\n",
    "import plotly.figure_factory as ff\n",
    "from plotly.offline import init_notebook_mode,iplot\n",
    "import plotly as py\n",
    "import cufflinks as cf\n",
    "py.offline.init_notebook_mode(connected=True)\n",
    "init_notebook_mode(connected=True)\n",
    "\n",
    "init_notebook_mode(connected=True)\n",
    "cf.go_offline()\n",
    "\n",
    "import warnings\n",
    "warnings.filterwarnings('ignore')"
   ]
  },
  {
   "cell_type": "code",
   "execution_count": 2,
   "metadata": {},
   "outputs": [],
   "source": [
    "df = pd.read_csv(\"Indian Liver Patient Dataset (ILPD).csv\",header=None)"
   ]
  },
  {
   "cell_type": "code",
   "execution_count": 3,
   "metadata": {},
   "outputs": [
    {
     "data": {
      "text/html": [
       "<div>\n",
       "<style scoped>\n",
       "    .dataframe tbody tr th:only-of-type {\n",
       "        vertical-align: middle;\n",
       "    }\n",
       "\n",
       "    .dataframe tbody tr th {\n",
       "        vertical-align: top;\n",
       "    }\n",
       "\n",
       "    .dataframe thead th {\n",
       "        text-align: right;\n",
       "    }\n",
       "</style>\n",
       "<table border=\"1\" class=\"dataframe\">\n",
       "  <thead>\n",
       "    <tr style=\"text-align: right;\">\n",
       "      <th></th>\n",
       "      <th>0</th>\n",
       "      <th>1</th>\n",
       "      <th>2</th>\n",
       "      <th>3</th>\n",
       "      <th>4</th>\n",
       "      <th>5</th>\n",
       "      <th>6</th>\n",
       "      <th>7</th>\n",
       "      <th>8</th>\n",
       "      <th>9</th>\n",
       "      <th>10</th>\n",
       "    </tr>\n",
       "  </thead>\n",
       "  <tbody>\n",
       "    <tr>\n",
       "      <th>0</th>\n",
       "      <td>65</td>\n",
       "      <td>Female</td>\n",
       "      <td>0.7</td>\n",
       "      <td>0.1</td>\n",
       "      <td>187</td>\n",
       "      <td>16</td>\n",
       "      <td>18</td>\n",
       "      <td>6.8</td>\n",
       "      <td>3.3</td>\n",
       "      <td>0.90</td>\n",
       "      <td>1</td>\n",
       "    </tr>\n",
       "    <tr>\n",
       "      <th>1</th>\n",
       "      <td>62</td>\n",
       "      <td>Male</td>\n",
       "      <td>10.9</td>\n",
       "      <td>5.5</td>\n",
       "      <td>699</td>\n",
       "      <td>64</td>\n",
       "      <td>100</td>\n",
       "      <td>7.5</td>\n",
       "      <td>3.2</td>\n",
       "      <td>0.74</td>\n",
       "      <td>1</td>\n",
       "    </tr>\n",
       "    <tr>\n",
       "      <th>2</th>\n",
       "      <td>62</td>\n",
       "      <td>Male</td>\n",
       "      <td>7.3</td>\n",
       "      <td>4.1</td>\n",
       "      <td>490</td>\n",
       "      <td>60</td>\n",
       "      <td>68</td>\n",
       "      <td>7.0</td>\n",
       "      <td>3.3</td>\n",
       "      <td>0.89</td>\n",
       "      <td>1</td>\n",
       "    </tr>\n",
       "    <tr>\n",
       "      <th>3</th>\n",
       "      <td>58</td>\n",
       "      <td>Male</td>\n",
       "      <td>1.0</td>\n",
       "      <td>0.4</td>\n",
       "      <td>182</td>\n",
       "      <td>14</td>\n",
       "      <td>20</td>\n",
       "      <td>6.8</td>\n",
       "      <td>3.4</td>\n",
       "      <td>1.00</td>\n",
       "      <td>1</td>\n",
       "    </tr>\n",
       "    <tr>\n",
       "      <th>4</th>\n",
       "      <td>72</td>\n",
       "      <td>Male</td>\n",
       "      <td>3.9</td>\n",
       "      <td>2.0</td>\n",
       "      <td>195</td>\n",
       "      <td>27</td>\n",
       "      <td>59</td>\n",
       "      <td>7.3</td>\n",
       "      <td>2.4</td>\n",
       "      <td>0.40</td>\n",
       "      <td>1</td>\n",
       "    </tr>\n",
       "  </tbody>\n",
       "</table>\n",
       "</div>"
      ],
      "text/plain": [
       "   0       1     2    3    4   5    6    7    8     9   10\n",
       "0  65  Female   0.7  0.1  187  16   18  6.8  3.3  0.90   1\n",
       "1  62    Male  10.9  5.5  699  64  100  7.5  3.2  0.74   1\n",
       "2  62    Male   7.3  4.1  490  60   68  7.0  3.3  0.89   1\n",
       "3  58    Male   1.0  0.4  182  14   20  6.8  3.4  1.00   1\n",
       "4  72    Male   3.9  2.0  195  27   59  7.3  2.4  0.40   1"
      ]
     },
     "execution_count": 3,
     "metadata": {},
     "output_type": "execute_result"
    }
   ],
   "source": [
    "df.head()"
   ]
  },
  {
   "cell_type": "code",
   "execution_count": 4,
   "metadata": {},
   "outputs": [],
   "source": [
    "data= df.copy()"
   ]
  },
  {
   "cell_type": "code",
   "execution_count": 5,
   "metadata": {},
   "outputs": [],
   "source": [
    "data.columns=(['age','gender','Total_Bilirubin','Direct_Bilirubin',\n",
    "                                              'Alkaline_Phosphotase','Alanine_Aminotransferase',\n",
    "                                              'Aspartate_Aminotransferase','Total_Protiens','Albumin',\n",
    "                                              'Albumin_and_Globulin_Ratio','outcome'])"
   ]
  },
  {
   "cell_type": "code",
   "execution_count": 6,
   "metadata": {},
   "outputs": [
    {
     "data": {
      "text/html": [
       "<div>\n",
       "<style scoped>\n",
       "    .dataframe tbody tr th:only-of-type {\n",
       "        vertical-align: middle;\n",
       "    }\n",
       "\n",
       "    .dataframe tbody tr th {\n",
       "        vertical-align: top;\n",
       "    }\n",
       "\n",
       "    .dataframe thead th {\n",
       "        text-align: right;\n",
       "    }\n",
       "</style>\n",
       "<table border=\"1\" class=\"dataframe\">\n",
       "  <thead>\n",
       "    <tr style=\"text-align: right;\">\n",
       "      <th></th>\n",
       "      <th>age</th>\n",
       "      <th>gender</th>\n",
       "      <th>Total_Bilirubin</th>\n",
       "      <th>Direct_Bilirubin</th>\n",
       "      <th>Alkaline_Phosphotase</th>\n",
       "      <th>Alanine_Aminotransferase</th>\n",
       "      <th>Aspartate_Aminotransferase</th>\n",
       "      <th>Total_Protiens</th>\n",
       "      <th>Albumin</th>\n",
       "      <th>Albumin_and_Globulin_Ratio</th>\n",
       "      <th>outcome</th>\n",
       "    </tr>\n",
       "  </thead>\n",
       "  <tbody>\n",
       "    <tr>\n",
       "      <th>0</th>\n",
       "      <td>65</td>\n",
       "      <td>Female</td>\n",
       "      <td>0.7</td>\n",
       "      <td>0.1</td>\n",
       "      <td>187</td>\n",
       "      <td>16</td>\n",
       "      <td>18</td>\n",
       "      <td>6.8</td>\n",
       "      <td>3.3</td>\n",
       "      <td>0.90</td>\n",
       "      <td>1</td>\n",
       "    </tr>\n",
       "    <tr>\n",
       "      <th>1</th>\n",
       "      <td>62</td>\n",
       "      <td>Male</td>\n",
       "      <td>10.9</td>\n",
       "      <td>5.5</td>\n",
       "      <td>699</td>\n",
       "      <td>64</td>\n",
       "      <td>100</td>\n",
       "      <td>7.5</td>\n",
       "      <td>3.2</td>\n",
       "      <td>0.74</td>\n",
       "      <td>1</td>\n",
       "    </tr>\n",
       "    <tr>\n",
       "      <th>2</th>\n",
       "      <td>62</td>\n",
       "      <td>Male</td>\n",
       "      <td>7.3</td>\n",
       "      <td>4.1</td>\n",
       "      <td>490</td>\n",
       "      <td>60</td>\n",
       "      <td>68</td>\n",
       "      <td>7.0</td>\n",
       "      <td>3.3</td>\n",
       "      <td>0.89</td>\n",
       "      <td>1</td>\n",
       "    </tr>\n",
       "    <tr>\n",
       "      <th>3</th>\n",
       "      <td>58</td>\n",
       "      <td>Male</td>\n",
       "      <td>1.0</td>\n",
       "      <td>0.4</td>\n",
       "      <td>182</td>\n",
       "      <td>14</td>\n",
       "      <td>20</td>\n",
       "      <td>6.8</td>\n",
       "      <td>3.4</td>\n",
       "      <td>1.00</td>\n",
       "      <td>1</td>\n",
       "    </tr>\n",
       "    <tr>\n",
       "      <th>4</th>\n",
       "      <td>72</td>\n",
       "      <td>Male</td>\n",
       "      <td>3.9</td>\n",
       "      <td>2.0</td>\n",
       "      <td>195</td>\n",
       "      <td>27</td>\n",
       "      <td>59</td>\n",
       "      <td>7.3</td>\n",
       "      <td>2.4</td>\n",
       "      <td>0.40</td>\n",
       "      <td>1</td>\n",
       "    </tr>\n",
       "  </tbody>\n",
       "</table>\n",
       "</div>"
      ],
      "text/plain": [
       "   age  gender  Total_Bilirubin  Direct_Bilirubin  Alkaline_Phosphotase  \\\n",
       "0   65  Female              0.7               0.1                   187   \n",
       "1   62    Male             10.9               5.5                   699   \n",
       "2   62    Male              7.3               4.1                   490   \n",
       "3   58    Male              1.0               0.4                   182   \n",
       "4   72    Male              3.9               2.0                   195   \n",
       "\n",
       "   Alanine_Aminotransferase  Aspartate_Aminotransferase  Total_Protiens  \\\n",
       "0                        16                          18             6.8   \n",
       "1                        64                         100             7.5   \n",
       "2                        60                          68             7.0   \n",
       "3                        14                          20             6.8   \n",
       "4                        27                          59             7.3   \n",
       "\n",
       "   Albumin  Albumin_and_Globulin_Ratio  outcome  \n",
       "0      3.3                        0.90        1  \n",
       "1      3.2                        0.74        1  \n",
       "2      3.3                        0.89        1  \n",
       "3      3.4                        1.00        1  \n",
       "4      2.4                        0.40        1  "
      ]
     },
     "execution_count": 6,
     "metadata": {},
     "output_type": "execute_result"
    }
   ],
   "source": [
    "data.head()"
   ]
  },
  {
   "cell_type": "code",
   "execution_count": 7,
   "metadata": {},
   "outputs": [
    {
     "name": "stdout",
     "output_type": "stream",
     "text": [
      "<class 'pandas.core.frame.DataFrame'>\n",
      "RangeIndex: 583 entries, 0 to 582\n",
      "Data columns (total 11 columns):\n",
      " #   Column                      Non-Null Count  Dtype  \n",
      "---  ------                      --------------  -----  \n",
      " 0   age                         583 non-null    int64  \n",
      " 1   gender                      583 non-null    object \n",
      " 2   Total_Bilirubin             583 non-null    float64\n",
      " 3   Direct_Bilirubin            583 non-null    float64\n",
      " 4   Alkaline_Phosphotase        583 non-null    int64  \n",
      " 5   Alanine_Aminotransferase    583 non-null    int64  \n",
      " 6   Aspartate_Aminotransferase  583 non-null    int64  \n",
      " 7   Total_Protiens              583 non-null    float64\n",
      " 8   Albumin                     583 non-null    float64\n",
      " 9   Albumin_and_Globulin_Ratio  579 non-null    float64\n",
      " 10  outcome                     583 non-null    int64  \n",
      "dtypes: float64(5), int64(5), object(1)\n",
      "memory usage: 50.2+ KB\n"
     ]
    }
   ],
   "source": [
    "data.info()"
   ]
  },
  {
   "cell_type": "code",
   "execution_count": 8,
   "metadata": {},
   "outputs": [
    {
     "data": {
      "application/vnd.plotly.v1+json": {
       "config": {
        "plotlyServerURL": "https://plot.ly"
       },
       "data": [
        {
         "alignmentgroup": "True",
         "hovertemplate": "variable=outcome<br>index=%{x}<br>value=%{y}<extra></extra>",
         "legendgroup": "outcome",
         "marker": {
          "color": "#636efa"
         },
         "name": "outcome",
         "offsetgroup": "outcome",
         "orientation": "v",
         "showlegend": true,
         "textposition": "auto",
         "type": "bar",
         "x": [
          1,
          2
         ],
         "xaxis": "x",
         "y": [
          416,
          167
         ],
         "yaxis": "y"
        }
       ],
       "layout": {
        "barmode": "relative",
        "legend": {
         "title": {
          "text": "variable"
         },
         "tracegroupgap": 0
        },
        "margin": {
         "t": 60
        },
        "template": {
         "data": {
          "bar": [
           {
            "error_x": {
             "color": "#2a3f5f"
            },
            "error_y": {
             "color": "#2a3f5f"
            },
            "marker": {
             "line": {
              "color": "#E5ECF6",
              "width": 0.5
             }
            },
            "type": "bar"
           }
          ],
          "barpolar": [
           {
            "marker": {
             "line": {
              "color": "#E5ECF6",
              "width": 0.5
             }
            },
            "type": "barpolar"
           }
          ],
          "carpet": [
           {
            "aaxis": {
             "endlinecolor": "#2a3f5f",
             "gridcolor": "white",
             "linecolor": "white",
             "minorgridcolor": "white",
             "startlinecolor": "#2a3f5f"
            },
            "baxis": {
             "endlinecolor": "#2a3f5f",
             "gridcolor": "white",
             "linecolor": "white",
             "minorgridcolor": "white",
             "startlinecolor": "#2a3f5f"
            },
            "type": "carpet"
           }
          ],
          "choropleth": [
           {
            "colorbar": {
             "outlinewidth": 0,
             "ticks": ""
            },
            "type": "choropleth"
           }
          ],
          "contour": [
           {
            "colorbar": {
             "outlinewidth": 0,
             "ticks": ""
            },
            "colorscale": [
             [
              0,
              "#0d0887"
             ],
             [
              0.1111111111111111,
              "#46039f"
             ],
             [
              0.2222222222222222,
              "#7201a8"
             ],
             [
              0.3333333333333333,
              "#9c179e"
             ],
             [
              0.4444444444444444,
              "#bd3786"
             ],
             [
              0.5555555555555556,
              "#d8576b"
             ],
             [
              0.6666666666666666,
              "#ed7953"
             ],
             [
              0.7777777777777778,
              "#fb9f3a"
             ],
             [
              0.8888888888888888,
              "#fdca26"
             ],
             [
              1,
              "#f0f921"
             ]
            ],
            "type": "contour"
           }
          ],
          "contourcarpet": [
           {
            "colorbar": {
             "outlinewidth": 0,
             "ticks": ""
            },
            "type": "contourcarpet"
           }
          ],
          "heatmap": [
           {
            "colorbar": {
             "outlinewidth": 0,
             "ticks": ""
            },
            "colorscale": [
             [
              0,
              "#0d0887"
             ],
             [
              0.1111111111111111,
              "#46039f"
             ],
             [
              0.2222222222222222,
              "#7201a8"
             ],
             [
              0.3333333333333333,
              "#9c179e"
             ],
             [
              0.4444444444444444,
              "#bd3786"
             ],
             [
              0.5555555555555556,
              "#d8576b"
             ],
             [
              0.6666666666666666,
              "#ed7953"
             ],
             [
              0.7777777777777778,
              "#fb9f3a"
             ],
             [
              0.8888888888888888,
              "#fdca26"
             ],
             [
              1,
              "#f0f921"
             ]
            ],
            "type": "heatmap"
           }
          ],
          "heatmapgl": [
           {
            "colorbar": {
             "outlinewidth": 0,
             "ticks": ""
            },
            "colorscale": [
             [
              0,
              "#0d0887"
             ],
             [
              0.1111111111111111,
              "#46039f"
             ],
             [
              0.2222222222222222,
              "#7201a8"
             ],
             [
              0.3333333333333333,
              "#9c179e"
             ],
             [
              0.4444444444444444,
              "#bd3786"
             ],
             [
              0.5555555555555556,
              "#d8576b"
             ],
             [
              0.6666666666666666,
              "#ed7953"
             ],
             [
              0.7777777777777778,
              "#fb9f3a"
             ],
             [
              0.8888888888888888,
              "#fdca26"
             ],
             [
              1,
              "#f0f921"
             ]
            ],
            "type": "heatmapgl"
           }
          ],
          "histogram": [
           {
            "marker": {
             "colorbar": {
              "outlinewidth": 0,
              "ticks": ""
             }
            },
            "type": "histogram"
           }
          ],
          "histogram2d": [
           {
            "colorbar": {
             "outlinewidth": 0,
             "ticks": ""
            },
            "colorscale": [
             [
              0,
              "#0d0887"
             ],
             [
              0.1111111111111111,
              "#46039f"
             ],
             [
              0.2222222222222222,
              "#7201a8"
             ],
             [
              0.3333333333333333,
              "#9c179e"
             ],
             [
              0.4444444444444444,
              "#bd3786"
             ],
             [
              0.5555555555555556,
              "#d8576b"
             ],
             [
              0.6666666666666666,
              "#ed7953"
             ],
             [
              0.7777777777777778,
              "#fb9f3a"
             ],
             [
              0.8888888888888888,
              "#fdca26"
             ],
             [
              1,
              "#f0f921"
             ]
            ],
            "type": "histogram2d"
           }
          ],
          "histogram2dcontour": [
           {
            "colorbar": {
             "outlinewidth": 0,
             "ticks": ""
            },
            "colorscale": [
             [
              0,
              "#0d0887"
             ],
             [
              0.1111111111111111,
              "#46039f"
             ],
             [
              0.2222222222222222,
              "#7201a8"
             ],
             [
              0.3333333333333333,
              "#9c179e"
             ],
             [
              0.4444444444444444,
              "#bd3786"
             ],
             [
              0.5555555555555556,
              "#d8576b"
             ],
             [
              0.6666666666666666,
              "#ed7953"
             ],
             [
              0.7777777777777778,
              "#fb9f3a"
             ],
             [
              0.8888888888888888,
              "#fdca26"
             ],
             [
              1,
              "#f0f921"
             ]
            ],
            "type": "histogram2dcontour"
           }
          ],
          "mesh3d": [
           {
            "colorbar": {
             "outlinewidth": 0,
             "ticks": ""
            },
            "type": "mesh3d"
           }
          ],
          "parcoords": [
           {
            "line": {
             "colorbar": {
              "outlinewidth": 0,
              "ticks": ""
             }
            },
            "type": "parcoords"
           }
          ],
          "pie": [
           {
            "automargin": true,
            "type": "pie"
           }
          ],
          "scatter": [
           {
            "marker": {
             "colorbar": {
              "outlinewidth": 0,
              "ticks": ""
             }
            },
            "type": "scatter"
           }
          ],
          "scatter3d": [
           {
            "line": {
             "colorbar": {
              "outlinewidth": 0,
              "ticks": ""
             }
            },
            "marker": {
             "colorbar": {
              "outlinewidth": 0,
              "ticks": ""
             }
            },
            "type": "scatter3d"
           }
          ],
          "scattercarpet": [
           {
            "marker": {
             "colorbar": {
              "outlinewidth": 0,
              "ticks": ""
             }
            },
            "type": "scattercarpet"
           }
          ],
          "scattergeo": [
           {
            "marker": {
             "colorbar": {
              "outlinewidth": 0,
              "ticks": ""
             }
            },
            "type": "scattergeo"
           }
          ],
          "scattergl": [
           {
            "marker": {
             "colorbar": {
              "outlinewidth": 0,
              "ticks": ""
             }
            },
            "type": "scattergl"
           }
          ],
          "scattermapbox": [
           {
            "marker": {
             "colorbar": {
              "outlinewidth": 0,
              "ticks": ""
             }
            },
            "type": "scattermapbox"
           }
          ],
          "scatterpolar": [
           {
            "marker": {
             "colorbar": {
              "outlinewidth": 0,
              "ticks": ""
             }
            },
            "type": "scatterpolar"
           }
          ],
          "scatterpolargl": [
           {
            "marker": {
             "colorbar": {
              "outlinewidth": 0,
              "ticks": ""
             }
            },
            "type": "scatterpolargl"
           }
          ],
          "scatterternary": [
           {
            "marker": {
             "colorbar": {
              "outlinewidth": 0,
              "ticks": ""
             }
            },
            "type": "scatterternary"
           }
          ],
          "surface": [
           {
            "colorbar": {
             "outlinewidth": 0,
             "ticks": ""
            },
            "colorscale": [
             [
              0,
              "#0d0887"
             ],
             [
              0.1111111111111111,
              "#46039f"
             ],
             [
              0.2222222222222222,
              "#7201a8"
             ],
             [
              0.3333333333333333,
              "#9c179e"
             ],
             [
              0.4444444444444444,
              "#bd3786"
             ],
             [
              0.5555555555555556,
              "#d8576b"
             ],
             [
              0.6666666666666666,
              "#ed7953"
             ],
             [
              0.7777777777777778,
              "#fb9f3a"
             ],
             [
              0.8888888888888888,
              "#fdca26"
             ],
             [
              1,
              "#f0f921"
             ]
            ],
            "type": "surface"
           }
          ],
          "table": [
           {
            "cells": {
             "fill": {
              "color": "#EBF0F8"
             },
             "line": {
              "color": "white"
             }
            },
            "header": {
             "fill": {
              "color": "#C8D4E3"
             },
             "line": {
              "color": "white"
             }
            },
            "type": "table"
           }
          ]
         },
         "layout": {
          "annotationdefaults": {
           "arrowcolor": "#2a3f5f",
           "arrowhead": 0,
           "arrowwidth": 1
          },
          "autotypenumbers": "strict",
          "coloraxis": {
           "colorbar": {
            "outlinewidth": 0,
            "ticks": ""
           }
          },
          "colorscale": {
           "diverging": [
            [
             0,
             "#8e0152"
            ],
            [
             0.1,
             "#c51b7d"
            ],
            [
             0.2,
             "#de77ae"
            ],
            [
             0.3,
             "#f1b6da"
            ],
            [
             0.4,
             "#fde0ef"
            ],
            [
             0.5,
             "#f7f7f7"
            ],
            [
             0.6,
             "#e6f5d0"
            ],
            [
             0.7,
             "#b8e186"
            ],
            [
             0.8,
             "#7fbc41"
            ],
            [
             0.9,
             "#4d9221"
            ],
            [
             1,
             "#276419"
            ]
           ],
           "sequential": [
            [
             0,
             "#0d0887"
            ],
            [
             0.1111111111111111,
             "#46039f"
            ],
            [
             0.2222222222222222,
             "#7201a8"
            ],
            [
             0.3333333333333333,
             "#9c179e"
            ],
            [
             0.4444444444444444,
             "#bd3786"
            ],
            [
             0.5555555555555556,
             "#d8576b"
            ],
            [
             0.6666666666666666,
             "#ed7953"
            ],
            [
             0.7777777777777778,
             "#fb9f3a"
            ],
            [
             0.8888888888888888,
             "#fdca26"
            ],
            [
             1,
             "#f0f921"
            ]
           ],
           "sequentialminus": [
            [
             0,
             "#0d0887"
            ],
            [
             0.1111111111111111,
             "#46039f"
            ],
            [
             0.2222222222222222,
             "#7201a8"
            ],
            [
             0.3333333333333333,
             "#9c179e"
            ],
            [
             0.4444444444444444,
             "#bd3786"
            ],
            [
             0.5555555555555556,
             "#d8576b"
            ],
            [
             0.6666666666666666,
             "#ed7953"
            ],
            [
             0.7777777777777778,
             "#fb9f3a"
            ],
            [
             0.8888888888888888,
             "#fdca26"
            ],
            [
             1,
             "#f0f921"
            ]
           ]
          },
          "colorway": [
           "#636efa",
           "#EF553B",
           "#00cc96",
           "#ab63fa",
           "#FFA15A",
           "#19d3f3",
           "#FF6692",
           "#B6E880",
           "#FF97FF",
           "#FECB52"
          ],
          "font": {
           "color": "#2a3f5f"
          },
          "geo": {
           "bgcolor": "white",
           "lakecolor": "white",
           "landcolor": "#E5ECF6",
           "showlakes": true,
           "showland": true,
           "subunitcolor": "white"
          },
          "hoverlabel": {
           "align": "left"
          },
          "hovermode": "closest",
          "mapbox": {
           "style": "light"
          },
          "paper_bgcolor": "white",
          "plot_bgcolor": "#E5ECF6",
          "polar": {
           "angularaxis": {
            "gridcolor": "white",
            "linecolor": "white",
            "ticks": ""
           },
           "bgcolor": "#E5ECF6",
           "radialaxis": {
            "gridcolor": "white",
            "linecolor": "white",
            "ticks": ""
           }
          },
          "scene": {
           "xaxis": {
            "backgroundcolor": "#E5ECF6",
            "gridcolor": "white",
            "gridwidth": 2,
            "linecolor": "white",
            "showbackground": true,
            "ticks": "",
            "zerolinecolor": "white"
           },
           "yaxis": {
            "backgroundcolor": "#E5ECF6",
            "gridcolor": "white",
            "gridwidth": 2,
            "linecolor": "white",
            "showbackground": true,
            "ticks": "",
            "zerolinecolor": "white"
           },
           "zaxis": {
            "backgroundcolor": "#E5ECF6",
            "gridcolor": "white",
            "gridwidth": 2,
            "linecolor": "white",
            "showbackground": true,
            "ticks": "",
            "zerolinecolor": "white"
           }
          },
          "shapedefaults": {
           "line": {
            "color": "#2a3f5f"
           }
          },
          "ternary": {
           "aaxis": {
            "gridcolor": "white",
            "linecolor": "white",
            "ticks": ""
           },
           "baxis": {
            "gridcolor": "white",
            "linecolor": "white",
            "ticks": ""
           },
           "bgcolor": "#E5ECF6",
           "caxis": {
            "gridcolor": "white",
            "linecolor": "white",
            "ticks": ""
           }
          },
          "title": {
           "x": 0.05
          },
          "xaxis": {
           "automargin": true,
           "gridcolor": "white",
           "linecolor": "white",
           "ticks": "",
           "title": {
            "standoff": 15
           },
           "zerolinecolor": "white",
           "zerolinewidth": 2
          },
          "yaxis": {
           "automargin": true,
           "gridcolor": "white",
           "linecolor": "white",
           "ticks": "",
           "title": {
            "standoff": 15
           },
           "zerolinecolor": "white",
           "zerolinewidth": 2
          }
         }
        },
        "xaxis": {
         "anchor": "y",
         "domain": [
          0,
          1
         ],
         "title": {
          "text": "index"
         }
        },
        "yaxis": {
         "anchor": "x",
         "domain": [
          0,
          1
         ],
         "title": {
          "text": "value"
         }
        }
       }
      },
      "text/html": [
       "<div>                            <div id=\"c75deb07-bc97-48e2-a0b5-33042e3ed168\" class=\"plotly-graph-div\" style=\"height:525px; width:100%;\"></div>            <script type=\"text/javascript\">                require([\"plotly\"], function(Plotly) {                    window.PLOTLYENV=window.PLOTLYENV || {};                                    if (document.getElementById(\"c75deb07-bc97-48e2-a0b5-33042e3ed168\")) {                    Plotly.newPlot(                        \"c75deb07-bc97-48e2-a0b5-33042e3ed168\",                        [{\"alignmentgroup\": \"True\", \"hovertemplate\": \"variable=outcome<br>index=%{x}<br>value=%{y}<extra></extra>\", \"legendgroup\": \"outcome\", \"marker\": {\"color\": \"#636efa\"}, \"name\": \"outcome\", \"offsetgroup\": \"outcome\", \"orientation\": \"v\", \"showlegend\": true, \"textposition\": \"auto\", \"type\": \"bar\", \"x\": [1, 2], \"xaxis\": \"x\", \"y\": [416, 167], \"yaxis\": \"y\"}],                        {\"barmode\": \"relative\", \"legend\": {\"title\": {\"text\": \"variable\"}, \"tracegroupgap\": 0}, \"margin\": {\"t\": 60}, \"template\": {\"data\": {\"bar\": [{\"error_x\": {\"color\": \"#2a3f5f\"}, \"error_y\": {\"color\": \"#2a3f5f\"}, \"marker\": {\"line\": {\"color\": \"#E5ECF6\", \"width\": 0.5}}, \"type\": \"bar\"}], \"barpolar\": [{\"marker\": {\"line\": {\"color\": \"#E5ECF6\", \"width\": 0.5}}, \"type\": \"barpolar\"}], \"carpet\": [{\"aaxis\": {\"endlinecolor\": \"#2a3f5f\", \"gridcolor\": \"white\", \"linecolor\": \"white\", \"minorgridcolor\": \"white\", \"startlinecolor\": \"#2a3f5f\"}, \"baxis\": {\"endlinecolor\": \"#2a3f5f\", \"gridcolor\": \"white\", \"linecolor\": \"white\", \"minorgridcolor\": \"white\", \"startlinecolor\": \"#2a3f5f\"}, \"type\": \"carpet\"}], \"choropleth\": [{\"colorbar\": {\"outlinewidth\": 0, \"ticks\": \"\"}, \"type\": \"choropleth\"}], \"contour\": [{\"colorbar\": {\"outlinewidth\": 0, \"ticks\": \"\"}, \"colorscale\": [[0.0, \"#0d0887\"], [0.1111111111111111, \"#46039f\"], [0.2222222222222222, \"#7201a8\"], [0.3333333333333333, \"#9c179e\"], [0.4444444444444444, \"#bd3786\"], [0.5555555555555556, \"#d8576b\"], [0.6666666666666666, \"#ed7953\"], [0.7777777777777778, \"#fb9f3a\"], [0.8888888888888888, \"#fdca26\"], [1.0, \"#f0f921\"]], \"type\": \"contour\"}], \"contourcarpet\": [{\"colorbar\": {\"outlinewidth\": 0, \"ticks\": \"\"}, \"type\": \"contourcarpet\"}], \"heatmap\": [{\"colorbar\": {\"outlinewidth\": 0, \"ticks\": \"\"}, \"colorscale\": [[0.0, \"#0d0887\"], [0.1111111111111111, \"#46039f\"], [0.2222222222222222, \"#7201a8\"], [0.3333333333333333, \"#9c179e\"], [0.4444444444444444, \"#bd3786\"], [0.5555555555555556, \"#d8576b\"], [0.6666666666666666, \"#ed7953\"], [0.7777777777777778, \"#fb9f3a\"], [0.8888888888888888, \"#fdca26\"], [1.0, \"#f0f921\"]], \"type\": \"heatmap\"}], \"heatmapgl\": [{\"colorbar\": {\"outlinewidth\": 0, \"ticks\": \"\"}, \"colorscale\": [[0.0, \"#0d0887\"], [0.1111111111111111, \"#46039f\"], [0.2222222222222222, \"#7201a8\"], [0.3333333333333333, \"#9c179e\"], [0.4444444444444444, \"#bd3786\"], [0.5555555555555556, \"#d8576b\"], [0.6666666666666666, \"#ed7953\"], [0.7777777777777778, \"#fb9f3a\"], [0.8888888888888888, \"#fdca26\"], [1.0, \"#f0f921\"]], \"type\": \"heatmapgl\"}], \"histogram\": [{\"marker\": {\"colorbar\": {\"outlinewidth\": 0, \"ticks\": \"\"}}, \"type\": \"histogram\"}], \"histogram2d\": [{\"colorbar\": {\"outlinewidth\": 0, \"ticks\": \"\"}, \"colorscale\": [[0.0, \"#0d0887\"], [0.1111111111111111, \"#46039f\"], [0.2222222222222222, \"#7201a8\"], [0.3333333333333333, \"#9c179e\"], [0.4444444444444444, \"#bd3786\"], [0.5555555555555556, \"#d8576b\"], [0.6666666666666666, \"#ed7953\"], [0.7777777777777778, \"#fb9f3a\"], [0.8888888888888888, \"#fdca26\"], [1.0, \"#f0f921\"]], \"type\": \"histogram2d\"}], \"histogram2dcontour\": [{\"colorbar\": {\"outlinewidth\": 0, \"ticks\": \"\"}, \"colorscale\": [[0.0, \"#0d0887\"], [0.1111111111111111, \"#46039f\"], [0.2222222222222222, \"#7201a8\"], [0.3333333333333333, \"#9c179e\"], [0.4444444444444444, \"#bd3786\"], [0.5555555555555556, \"#d8576b\"], [0.6666666666666666, \"#ed7953\"], [0.7777777777777778, \"#fb9f3a\"], [0.8888888888888888, \"#fdca26\"], [1.0, \"#f0f921\"]], \"type\": \"histogram2dcontour\"}], \"mesh3d\": [{\"colorbar\": {\"outlinewidth\": 0, \"ticks\": \"\"}, \"type\": \"mesh3d\"}], \"parcoords\": [{\"line\": {\"colorbar\": {\"outlinewidth\": 0, \"ticks\": \"\"}}, \"type\": \"parcoords\"}], \"pie\": [{\"automargin\": true, \"type\": \"pie\"}], \"scatter\": [{\"marker\": {\"colorbar\": {\"outlinewidth\": 0, \"ticks\": \"\"}}, \"type\": \"scatter\"}], \"scatter3d\": [{\"line\": {\"colorbar\": {\"outlinewidth\": 0, \"ticks\": \"\"}}, \"marker\": {\"colorbar\": {\"outlinewidth\": 0, \"ticks\": \"\"}}, \"type\": \"scatter3d\"}], \"scattercarpet\": [{\"marker\": {\"colorbar\": {\"outlinewidth\": 0, \"ticks\": \"\"}}, \"type\": \"scattercarpet\"}], \"scattergeo\": [{\"marker\": {\"colorbar\": {\"outlinewidth\": 0, \"ticks\": \"\"}}, \"type\": \"scattergeo\"}], \"scattergl\": [{\"marker\": {\"colorbar\": {\"outlinewidth\": 0, \"ticks\": \"\"}}, \"type\": \"scattergl\"}], \"scattermapbox\": [{\"marker\": {\"colorbar\": {\"outlinewidth\": 0, \"ticks\": \"\"}}, \"type\": \"scattermapbox\"}], \"scatterpolar\": [{\"marker\": {\"colorbar\": {\"outlinewidth\": 0, \"ticks\": \"\"}}, \"type\": \"scatterpolar\"}], \"scatterpolargl\": [{\"marker\": {\"colorbar\": {\"outlinewidth\": 0, \"ticks\": \"\"}}, \"type\": \"scatterpolargl\"}], \"scatterternary\": [{\"marker\": {\"colorbar\": {\"outlinewidth\": 0, \"ticks\": \"\"}}, \"type\": \"scatterternary\"}], \"surface\": [{\"colorbar\": {\"outlinewidth\": 0, \"ticks\": \"\"}, \"colorscale\": [[0.0, \"#0d0887\"], [0.1111111111111111, \"#46039f\"], [0.2222222222222222, \"#7201a8\"], [0.3333333333333333, \"#9c179e\"], [0.4444444444444444, \"#bd3786\"], [0.5555555555555556, \"#d8576b\"], [0.6666666666666666, \"#ed7953\"], [0.7777777777777778, \"#fb9f3a\"], [0.8888888888888888, \"#fdca26\"], [1.0, \"#f0f921\"]], \"type\": \"surface\"}], \"table\": [{\"cells\": {\"fill\": {\"color\": \"#EBF0F8\"}, \"line\": {\"color\": \"white\"}}, \"header\": {\"fill\": {\"color\": \"#C8D4E3\"}, \"line\": {\"color\": \"white\"}}, \"type\": \"table\"}]}, \"layout\": {\"annotationdefaults\": {\"arrowcolor\": \"#2a3f5f\", \"arrowhead\": 0, \"arrowwidth\": 1}, \"autotypenumbers\": \"strict\", \"coloraxis\": {\"colorbar\": {\"outlinewidth\": 0, \"ticks\": \"\"}}, \"colorscale\": {\"diverging\": [[0, \"#8e0152\"], [0.1, \"#c51b7d\"], [0.2, \"#de77ae\"], [0.3, \"#f1b6da\"], [0.4, \"#fde0ef\"], [0.5, \"#f7f7f7\"], [0.6, \"#e6f5d0\"], [0.7, \"#b8e186\"], [0.8, \"#7fbc41\"], [0.9, \"#4d9221\"], [1, \"#276419\"]], \"sequential\": [[0.0, \"#0d0887\"], [0.1111111111111111, \"#46039f\"], [0.2222222222222222, \"#7201a8\"], [0.3333333333333333, \"#9c179e\"], [0.4444444444444444, \"#bd3786\"], [0.5555555555555556, \"#d8576b\"], [0.6666666666666666, \"#ed7953\"], [0.7777777777777778, \"#fb9f3a\"], [0.8888888888888888, \"#fdca26\"], [1.0, \"#f0f921\"]], \"sequentialminus\": [[0.0, \"#0d0887\"], [0.1111111111111111, \"#46039f\"], [0.2222222222222222, \"#7201a8\"], [0.3333333333333333, \"#9c179e\"], [0.4444444444444444, \"#bd3786\"], [0.5555555555555556, \"#d8576b\"], [0.6666666666666666, \"#ed7953\"], [0.7777777777777778, \"#fb9f3a\"], [0.8888888888888888, \"#fdca26\"], [1.0, \"#f0f921\"]]}, \"colorway\": [\"#636efa\", \"#EF553B\", \"#00cc96\", \"#ab63fa\", \"#FFA15A\", \"#19d3f3\", \"#FF6692\", \"#B6E880\", \"#FF97FF\", \"#FECB52\"], \"font\": {\"color\": \"#2a3f5f\"}, \"geo\": {\"bgcolor\": \"white\", \"lakecolor\": \"white\", \"landcolor\": \"#E5ECF6\", \"showlakes\": true, \"showland\": true, \"subunitcolor\": \"white\"}, \"hoverlabel\": {\"align\": \"left\"}, \"hovermode\": \"closest\", \"mapbox\": {\"style\": \"light\"}, \"paper_bgcolor\": \"white\", \"plot_bgcolor\": \"#E5ECF6\", \"polar\": {\"angularaxis\": {\"gridcolor\": \"white\", \"linecolor\": \"white\", \"ticks\": \"\"}, \"bgcolor\": \"#E5ECF6\", \"radialaxis\": {\"gridcolor\": \"white\", \"linecolor\": \"white\", \"ticks\": \"\"}}, \"scene\": {\"xaxis\": {\"backgroundcolor\": \"#E5ECF6\", \"gridcolor\": \"white\", \"gridwidth\": 2, \"linecolor\": \"white\", \"showbackground\": true, \"ticks\": \"\", \"zerolinecolor\": \"white\"}, \"yaxis\": {\"backgroundcolor\": \"#E5ECF6\", \"gridcolor\": \"white\", \"gridwidth\": 2, \"linecolor\": \"white\", \"showbackground\": true, \"ticks\": \"\", \"zerolinecolor\": \"white\"}, \"zaxis\": {\"backgroundcolor\": \"#E5ECF6\", \"gridcolor\": \"white\", \"gridwidth\": 2, \"linecolor\": \"white\", \"showbackground\": true, \"ticks\": \"\", \"zerolinecolor\": \"white\"}}, \"shapedefaults\": {\"line\": {\"color\": \"#2a3f5f\"}}, \"ternary\": {\"aaxis\": {\"gridcolor\": \"white\", \"linecolor\": \"white\", \"ticks\": \"\"}, \"baxis\": {\"gridcolor\": \"white\", \"linecolor\": \"white\", \"ticks\": \"\"}, \"bgcolor\": \"#E5ECF6\", \"caxis\": {\"gridcolor\": \"white\", \"linecolor\": \"white\", \"ticks\": \"\"}}, \"title\": {\"x\": 0.05}, \"xaxis\": {\"automargin\": true, \"gridcolor\": \"white\", \"linecolor\": \"white\", \"ticks\": \"\", \"title\": {\"standoff\": 15}, \"zerolinecolor\": \"white\", \"zerolinewidth\": 2}, \"yaxis\": {\"automargin\": true, \"gridcolor\": \"white\", \"linecolor\": \"white\", \"ticks\": \"\", \"title\": {\"standoff\": 15}, \"zerolinecolor\": \"white\", \"zerolinewidth\": 2}}}, \"xaxis\": {\"anchor\": \"y\", \"domain\": [0.0, 1.0], \"title\": {\"text\": \"index\"}}, \"yaxis\": {\"anchor\": \"x\", \"domain\": [0.0, 1.0], \"title\": {\"text\": \"value\"}}},                        {\"responsive\": true}                    ).then(function(){\n",
       "                            \n",
       "var gd = document.getElementById('c75deb07-bc97-48e2-a0b5-33042e3ed168');\n",
       "var x = new MutationObserver(function (mutations, observer) {{\n",
       "        var display = window.getComputedStyle(gd).display;\n",
       "        if (!display || display === 'none') {{\n",
       "            console.log([gd, 'removed!']);\n",
       "            Plotly.purge(gd);\n",
       "            observer.disconnect();\n",
       "        }}\n",
       "}});\n",
       "\n",
       "// Listen for the removal of the full notebook cells\n",
       "var notebookContainer = gd.closest('#notebook-container');\n",
       "if (notebookContainer) {{\n",
       "    x.observe(notebookContainer, {childList: true});\n",
       "}}\n",
       "\n",
       "// Listen for the clearing of the current output cell\n",
       "var outputEl = gd.closest('.output');\n",
       "if (outputEl) {{\n",
       "    x.observe(outputEl, {childList: true});\n",
       "}}\n",
       "\n",
       "                        })                };                });            </script>        </div>"
      ]
     },
     "metadata": {},
     "output_type": "display_data"
    }
   ],
   "source": [
    "px.bar(data[\"outcome\"].value_counts())"
   ]
  },
  {
   "cell_type": "code",
   "execution_count": 9,
   "metadata": {},
   "outputs": [],
   "source": [
    "data['gender'].replace('Female', 0, inplace=True)\n",
    "data['gender'].replace('Male', 1, inplace=True)"
   ]
  },
  {
   "cell_type": "code",
   "execution_count": 10,
   "metadata": {},
   "outputs": [
    {
     "data": {
      "text/html": [
       "<div>\n",
       "<style scoped>\n",
       "    .dataframe tbody tr th:only-of-type {\n",
       "        vertical-align: middle;\n",
       "    }\n",
       "\n",
       "    .dataframe tbody tr th {\n",
       "        vertical-align: top;\n",
       "    }\n",
       "\n",
       "    .dataframe thead th {\n",
       "        text-align: right;\n",
       "    }\n",
       "</style>\n",
       "<table border=\"1\" class=\"dataframe\">\n",
       "  <thead>\n",
       "    <tr style=\"text-align: right;\">\n",
       "      <th></th>\n",
       "      <th>age</th>\n",
       "      <th>gender</th>\n",
       "      <th>Total_Bilirubin</th>\n",
       "      <th>Direct_Bilirubin</th>\n",
       "      <th>Alkaline_Phosphotase</th>\n",
       "      <th>Alanine_Aminotransferase</th>\n",
       "      <th>Aspartate_Aminotransferase</th>\n",
       "      <th>Total_Protiens</th>\n",
       "      <th>Albumin</th>\n",
       "      <th>Albumin_and_Globulin_Ratio</th>\n",
       "      <th>outcome</th>\n",
       "    </tr>\n",
       "  </thead>\n",
       "  <tbody>\n",
       "    <tr>\n",
       "      <th>0</th>\n",
       "      <td>65</td>\n",
       "      <td>0</td>\n",
       "      <td>0.7</td>\n",
       "      <td>0.1</td>\n",
       "      <td>187</td>\n",
       "      <td>16</td>\n",
       "      <td>18</td>\n",
       "      <td>6.8</td>\n",
       "      <td>3.3</td>\n",
       "      <td>0.90</td>\n",
       "      <td>1</td>\n",
       "    </tr>\n",
       "    <tr>\n",
       "      <th>1</th>\n",
       "      <td>62</td>\n",
       "      <td>1</td>\n",
       "      <td>10.9</td>\n",
       "      <td>5.5</td>\n",
       "      <td>699</td>\n",
       "      <td>64</td>\n",
       "      <td>100</td>\n",
       "      <td>7.5</td>\n",
       "      <td>3.2</td>\n",
       "      <td>0.74</td>\n",
       "      <td>1</td>\n",
       "    </tr>\n",
       "    <tr>\n",
       "      <th>2</th>\n",
       "      <td>62</td>\n",
       "      <td>1</td>\n",
       "      <td>7.3</td>\n",
       "      <td>4.1</td>\n",
       "      <td>490</td>\n",
       "      <td>60</td>\n",
       "      <td>68</td>\n",
       "      <td>7.0</td>\n",
       "      <td>3.3</td>\n",
       "      <td>0.89</td>\n",
       "      <td>1</td>\n",
       "    </tr>\n",
       "    <tr>\n",
       "      <th>3</th>\n",
       "      <td>58</td>\n",
       "      <td>1</td>\n",
       "      <td>1.0</td>\n",
       "      <td>0.4</td>\n",
       "      <td>182</td>\n",
       "      <td>14</td>\n",
       "      <td>20</td>\n",
       "      <td>6.8</td>\n",
       "      <td>3.4</td>\n",
       "      <td>1.00</td>\n",
       "      <td>1</td>\n",
       "    </tr>\n",
       "    <tr>\n",
       "      <th>4</th>\n",
       "      <td>72</td>\n",
       "      <td>1</td>\n",
       "      <td>3.9</td>\n",
       "      <td>2.0</td>\n",
       "      <td>195</td>\n",
       "      <td>27</td>\n",
       "      <td>59</td>\n",
       "      <td>7.3</td>\n",
       "      <td>2.4</td>\n",
       "      <td>0.40</td>\n",
       "      <td>1</td>\n",
       "    </tr>\n",
       "  </tbody>\n",
       "</table>\n",
       "</div>"
      ],
      "text/plain": [
       "   age  gender  Total_Bilirubin  Direct_Bilirubin  Alkaline_Phosphotase  \\\n",
       "0   65       0              0.7               0.1                   187   \n",
       "1   62       1             10.9               5.5                   699   \n",
       "2   62       1              7.3               4.1                   490   \n",
       "3   58       1              1.0               0.4                   182   \n",
       "4   72       1              3.9               2.0                   195   \n",
       "\n",
       "   Alanine_Aminotransferase  Aspartate_Aminotransferase  Total_Protiens  \\\n",
       "0                        16                          18             6.8   \n",
       "1                        64                         100             7.5   \n",
       "2                        60                          68             7.0   \n",
       "3                        14                          20             6.8   \n",
       "4                        27                          59             7.3   \n",
       "\n",
       "   Albumin  Albumin_and_Globulin_Ratio  outcome  \n",
       "0      3.3                        0.90        1  \n",
       "1      3.2                        0.74        1  \n",
       "2      3.3                        0.89        1  \n",
       "3      3.4                        1.00        1  \n",
       "4      2.4                        0.40        1  "
      ]
     },
     "execution_count": 10,
     "metadata": {},
     "output_type": "execute_result"
    }
   ],
   "source": [
    "data.head()"
   ]
  },
  {
   "cell_type": "code",
   "execution_count": 11,
   "metadata": {},
   "outputs": [
    {
     "data": {
      "text/plain": [
       "<AxesSubplot:>"
      ]
     },
     "execution_count": 11,
     "metadata": {},
     "output_type": "execute_result"
    },
    {
     "data": {
      "image/png": "[encoded data removed]",
      "text/plain": [
       "<Figure size 1152x1152 with 2 Axes>"
      ]
     },
     "metadata": {
      "needs_background": "light"
     },
     "output_type": "display_data"
    }
   ],
   "source": [
    "fig=plt.figure(figsize=(16,16))\n",
    "sns.heatmap(data.corr(), annot=True)"
   ]
  },
  {
   "cell_type": "code",
   "execution_count": 12,
   "metadata": {},
   "outputs": [
    {
     "data": {
      "text/plain": [
       "Index(['age', 'gender', 'Total_Bilirubin', 'Direct_Bilirubin',\n",
       "       'Alkaline_Phosphotase', 'Alanine_Aminotransferase',\n",
       "       'Aspartate_Aminotransferase', 'Total_Protiens', 'Albumin',\n",
       "       'Albumin_and_Globulin_Ratio', 'outcome'],\n",
       "      dtype='object')"
      ]
     },
     "execution_count": 12,
     "metadata": {},
     "output_type": "execute_result"
    }
   ],
   "source": [
    "data.columns"
   ]
  },
  {
   "cell_type": "code",
   "execution_count": 13,
   "metadata": {},
   "outputs": [
    {
     "data": {
      "text/plain": [
       "1    441\n",
       "0    142\n",
       "Name: gender, dtype: int64"
      ]
     },
     "execution_count": 13,
     "metadata": {},
     "output_type": "execute_result"
    }
   ],
   "source": [
    "data['gender'].value_counts()"
   ]
  },
  {
   "cell_type": "code",
   "execution_count": 14,
   "metadata": {},
   "outputs": [
    {
     "data": {
      "text/plain": [
       "1    416\n",
       "2    167\n",
       "Name: outcome, dtype: int64"
      ]
     },
     "execution_count": 14,
     "metadata": {},
     "output_type": "execute_result"
    }
   ],
   "source": [
    "data['outcome'].value_counts()"
   ]
  },
  {
   "cell_type": "code",
   "execution_count": 15,
   "metadata": {},
   "outputs": [
    {
     "data": {
      "text/plain": [
       "age                           0\n",
       "gender                        0\n",
       "Total_Bilirubin               0\n",
       "Direct_Bilirubin              0\n",
       "Alkaline_Phosphotase          0\n",
       "Alanine_Aminotransferase      0\n",
       "Aspartate_Aminotransferase    0\n",
       "Total_Protiens                0\n",
       "Albumin                       0\n",
       "Albumin_and_Globulin_Ratio    4\n",
       "outcome                       0\n",
       "dtype: int64"
      ]
     },
     "execution_count": 15,
     "metadata": {},
     "output_type": "execute_result"
    }
   ],
   "source": [
    "data.isnull().sum()"
   ]
  },
  {
   "cell_type": "code",
   "execution_count": 16,
   "metadata": {},
   "outputs": [],
   "source": [
    "data['Albumin_and_Globulin_Ratio']=data['Albumin_and_Globulin_Ratio'].ffill()"
   ]
  },
  {
   "cell_type": "code",
   "execution_count": 17,
   "metadata": {},
   "outputs": [
    {
     "data": {
      "image/png": "[encoded data removed]",
      "text/plain": [
       "<Figure size 1296x1296 with 12 Axes>"
      ]
     },
     "metadata": {
      "needs_background": "light"
     },
     "output_type": "display_data"
    }
   ],
   "source": [
    "_=data.hist(bins=50, figsize=(18,18))"
   ]
  },
  {
   "cell_type": "code",
   "execution_count": 18,
   "metadata": {},
   "outputs": [
    {
     "name": "stdout",
     "output_type": "stream",
     "text": [
      "age\n",
      "-0.0293096531748283\n"
     ]
    },
    {
     "data": {
      "image/png": "[encoded data removed]",
      "text/plain": [
       "<Figure size 432x288 with 1 Axes>"
      ]
     },
     "metadata": {
      "needs_background": "light"
     },
     "output_type": "display_data"
    },
    {
     "name": "stdout",
     "output_type": "stream",
     "text": [
      "gender\n",
      "-1.194834410146238\n"
     ]
    },
    {
     "data": {
      "image/png": "[encoded data removed]",
      "text/plain": [
       "<Figure size 432x288 with 1 Axes>"
      ]
     },
     "metadata": {
      "needs_background": "light"
     },
     "output_type": "display_data"
    },
    {
     "name": "stdout",
     "output_type": "stream",
     "text": [
      "Total_Bilirubin\n",
      "4.8948385248878825\n"
     ]
    },
    {
     "data": {
      "image/png": "[encoded data removed]",
      "text/plain": [
       "<Figure size 432x288 with 1 Axes>"
      ]
     },
     "metadata": {
      "needs_background": "light"
     },
     "output_type": "display_data"
    },
    {
     "name": "stdout",
     "output_type": "stream",
     "text": [
      "Direct_Bilirubin\n",
      "3.2041317604378037\n"
     ]
    },
    {
     "data": {
      "image/png": "[encoded data removed]",
      "text/plain": [
       "<Figure size 432x288 with 1 Axes>"
      ]
     },
     "metadata": {
      "needs_background": "light"
     },
     "output_type": "display_data"
    },
    {
     "name": "stdout",
     "output_type": "stream",
     "text": [
      "Alkaline_Phosphotase\n",
      "3.755412227842381\n"
     ]
    },
    {
     "data": {
      "image/png": "[encoded data removed]",
      "text/plain": [
       "<Figure size 432x288 with 1 Axes>"
      ]
     },
     "metadata": {
      "needs_background": "light"
     },
     "output_type": "display_data"
    },
    {
     "name": "stdout",
     "output_type": "stream",
     "text": [
      "Alanine_Aminotransferase\n",
      "6.532329464026143\n"
     ]
    },
    {
     "data": {
      "image/png": "[encoded data removed]",
      "text/plain": [
       "<Figure size 432x288 with 1 Axes>"
      ]
     },
     "metadata": {
      "needs_background": "light"
     },
     "output_type": "display_data"
    },
    {
     "name": "stdout",
     "output_type": "stream",
     "text": [
      "Aspartate_Aminotransferase\n",
      "10.519023554210735\n"
     ]
    },
    {
     "data": {
      "image/png": "[encoded data removed]",
      "text/plain": [
       "<Figure size 432x288 with 1 Axes>"
      ]
     },
     "metadata": {
      "needs_background": "light"
     },
     "output_type": "display_data"
    },
    {
     "name": "stdout",
     "output_type": "stream",
     "text": [
      "Total_Protiens\n",
      "-0.28493665487447245\n"
     ]
    },
    {
     "data": {
      "image/png": "[encoded data removed]",
      "text/plain": [
       "<Figure size 432x288 with 1 Axes>"
      ]
     },
     "metadata": {
      "needs_background": "light"
     },
     "output_type": "display_data"
    },
    {
     "name": "stdout",
     "output_type": "stream",
     "text": [
      "Albumin\n",
      "-0.043572251735588034\n"
     ]
    },
    {
     "data": {
      "image/png": "[encoded data removed]",
      "text/plain": [
       "<Figure size 432x288 with 1 Axes>"
      ]
     },
     "metadata": {
      "needs_background": "light"
     },
     "output_type": "display_data"
    },
    {
     "name": "stdout",
     "output_type": "stream",
     "text": [
      "Albumin_and_Globulin_Ratio\n",
      "0.989593176250169\n"
     ]
    },
    {
     "data": {
      "image/png": "[encoded data removed]",
      "text/plain": [
       "<Figure size 432x288 with 1 Axes>"
      ]
     },
     "metadata": {
      "needs_background": "light"
     },
     "output_type": "display_data"
    },
    {
     "name": "stdout",
     "output_type": "stream",
     "text": [
      "outcome\n",
      "0.9447011547384523\n"
     ]
    },
    {
     "data": {
      "image/png": "[encoded data removed]",
      "text/plain": [
       "<Figure size 432x288 with 1 Axes>"
      ]
     },
     "metadata": {
      "needs_background": "light"
     },
     "output_type": "display_data"
    }
   ],
   "source": [
    "for col in data:\n",
    "    print(col)\n",
    "    print(skew(data[col]))\n",
    "    \n",
    "    plt.figure()\n",
    "    sns.distplot(data[col])\n",
    "    plt.show()"
   ]
  },
  {
   "cell_type": "code",
   "execution_count": 19,
   "metadata": {},
   "outputs": [],
   "source": [
    "data1=data.copy()"
   ]
  },
  {
   "cell_type": "code",
   "execution_count": 20,
   "metadata": {},
   "outputs": [],
   "source": [
    "target= data1['outcome']\n",
    "data1.drop(['outcome'],axis=1,inplace=True)"
   ]
  },
  {
   "cell_type": "code",
   "execution_count": 21,
   "metadata": {},
   "outputs": [
    {
     "data": {
      "text/html": [
       "<div>\n",
       "<style scoped>\n",
       "    .dataframe tbody tr th:only-of-type {\n",
       "        vertical-align: middle;\n",
       "    }\n",
       "\n",
       "    .dataframe tbody tr th {\n",
       "        vertical-align: top;\n",
       "    }\n",
       "\n",
       "    .dataframe thead th {\n",
       "        text-align: right;\n",
       "    }\n",
       "</style>\n",
       "<table border=\"1\" class=\"dataframe\">\n",
       "  <thead>\n",
       "    <tr style=\"text-align: right;\">\n",
       "      <th></th>\n",
       "      <th>age</th>\n",
       "      <th>gender</th>\n",
       "      <th>Total_Bilirubin</th>\n",
       "      <th>Direct_Bilirubin</th>\n",
       "      <th>Alkaline_Phosphotase</th>\n",
       "      <th>Alanine_Aminotransferase</th>\n",
       "      <th>Aspartate_Aminotransferase</th>\n",
       "      <th>Total_Protiens</th>\n",
       "      <th>Albumin</th>\n",
       "      <th>Albumin_and_Globulin_Ratio</th>\n",
       "    </tr>\n",
       "  </thead>\n",
       "  <tbody>\n",
       "    <tr>\n",
       "      <th>0</th>\n",
       "      <td>65</td>\n",
       "      <td>0</td>\n",
       "      <td>0.7</td>\n",
       "      <td>0.1</td>\n",
       "      <td>187</td>\n",
       "      <td>16</td>\n",
       "      <td>18</td>\n",
       "      <td>6.8</td>\n",
       "      <td>3.3</td>\n",
       "      <td>0.90</td>\n",
       "    </tr>\n",
       "    <tr>\n",
       "      <th>1</th>\n",
       "      <td>62</td>\n",
       "      <td>1</td>\n",
       "      <td>10.9</td>\n",
       "      <td>5.5</td>\n",
       "      <td>699</td>\n",
       "      <td>64</td>\n",
       "      <td>100</td>\n",
       "      <td>7.5</td>\n",
       "      <td>3.2</td>\n",
       "      <td>0.74</td>\n",
       "    </tr>\n",
       "    <tr>\n",
       "      <th>2</th>\n",
       "      <td>62</td>\n",
       "      <td>1</td>\n",
       "      <td>7.3</td>\n",
       "      <td>4.1</td>\n",
       "      <td>490</td>\n",
       "      <td>60</td>\n",
       "      <td>68</td>\n",
       "      <td>7.0</td>\n",
       "      <td>3.3</td>\n",
       "      <td>0.89</td>\n",
       "    </tr>\n",
       "    <tr>\n",
       "      <th>3</th>\n",
       "      <td>58</td>\n",
       "      <td>1</td>\n",
       "      <td>1.0</td>\n",
       "      <td>0.4</td>\n",
       "      <td>182</td>\n",
       "      <td>14</td>\n",
       "      <td>20</td>\n",
       "      <td>6.8</td>\n",
       "      <td>3.4</td>\n",
       "      <td>1.00</td>\n",
       "    </tr>\n",
       "    <tr>\n",
       "      <th>4</th>\n",
       "      <td>72</td>\n",
       "      <td>1</td>\n",
       "      <td>3.9</td>\n",
       "      <td>2.0</td>\n",
       "      <td>195</td>\n",
       "      <td>27</td>\n",
       "      <td>59</td>\n",
       "      <td>7.3</td>\n",
       "      <td>2.4</td>\n",
       "      <td>0.40</td>\n",
       "    </tr>\n",
       "  </tbody>\n",
       "</table>\n",
       "</div>"
      ],
      "text/plain": [
       "   age  gender  Total_Bilirubin  Direct_Bilirubin  Alkaline_Phosphotase  \\\n",
       "0   65       0              0.7               0.1                   187   \n",
       "1   62       1             10.9               5.5                   699   \n",
       "2   62       1              7.3               4.1                   490   \n",
       "3   58       1              1.0               0.4                   182   \n",
       "4   72       1              3.9               2.0                   195   \n",
       "\n",
       "   Alanine_Aminotransferase  Aspartate_Aminotransferase  Total_Protiens  \\\n",
       "0                        16                          18             6.8   \n",
       "1                        64                         100             7.5   \n",
       "2                        60                          68             7.0   \n",
       "3                        14                          20             6.8   \n",
       "4                        27                          59             7.3   \n",
       "\n",
       "   Albumin  Albumin_and_Globulin_Ratio  \n",
       "0      3.3                        0.90  \n",
       "1      3.2                        0.74  \n",
       "2      3.3                        0.89  \n",
       "3      3.4                        1.00  \n",
       "4      2.4                        0.40  "
      ]
     },
     "execution_count": 21,
     "metadata": {},
     "output_type": "execute_result"
    }
   ],
   "source": [
    "data1.head()"
   ]
  },
  {
   "cell_type": "code",
   "execution_count": 22,
   "metadata": {},
   "outputs": [],
   "source": [
    "a=data1\n",
    "b=target"
   ]
  },
  {
   "cell_type": "code",
   "execution_count": 23,
   "metadata": {},
   "outputs": [],
   "source": [
    "bestfeature= SelectKBest(score_func=chi2,k='all')\n",
    "fit=(bestfeature.fit(a,b))"
   ]
  },
  {
   "cell_type": "code",
   "execution_count": 24,
   "metadata": {},
   "outputs": [],
   "source": [
    "DataScores=pd.DataFrame(fit.scores_)\n",
    "DataColumns=pd.DataFrame(a.columns)"
   ]
  },
  {
   "cell_type": "code",
   "execution_count": 25,
   "metadata": {},
   "outputs": [],
   "source": [
    "featureScores=pd.concat([DataColumns,DataScores],axis=1)\n",
    "featureScores.columns=['Features Name','Score']"
   ]
  },
  {
   "cell_type": "code",
   "execution_count": 26,
   "metadata": {},
   "outputs": [
    {
     "data": {
      "text/html": [
       "<div>\n",
       "<style scoped>\n",
       "    .dataframe tbody tr th:only-of-type {\n",
       "        vertical-align: middle;\n",
       "    }\n",
       "\n",
       "    .dataframe tbody tr th {\n",
       "        vertical-align: top;\n",
       "    }\n",
       "\n",
       "    .dataframe thead th {\n",
       "        text-align: right;\n",
       "    }\n",
       "</style>\n",
       "<table border=\"1\" class=\"dataframe\">\n",
       "  <thead>\n",
       "    <tr style=\"text-align: right;\">\n",
       "      <th></th>\n",
       "      <th>Features Name</th>\n",
       "      <th>Score</th>\n",
       "    </tr>\n",
       "  </thead>\n",
       "  <tbody>\n",
       "    <tr>\n",
       "      <th>6</th>\n",
       "      <td>Aspartate_Aminotransferase</td>\n",
       "      <td>10203.328978</td>\n",
       "    </tr>\n",
       "    <tr>\n",
       "      <th>5</th>\n",
       "      <td>Alanine_Aminotransferase</td>\n",
       "      <td>6421.919946</td>\n",
       "    </tr>\n",
       "    <tr>\n",
       "      <th>4</th>\n",
       "      <td>Alkaline_Phosphotase</td>\n",
       "      <td>4039.855702</td>\n",
       "    </tr>\n",
       "    <tr>\n",
       "      <th>2</th>\n",
       "      <td>Total_Bilirubin</td>\n",
       "      <td>329.873827</td>\n",
       "    </tr>\n",
       "    <tr>\n",
       "      <th>3</th>\n",
       "      <td>Direct_Bilirubin</td>\n",
       "      <td>187.005784</td>\n",
       "    </tr>\n",
       "    <tr>\n",
       "      <th>0</th>\n",
       "      <td>age</td>\n",
       "      <td>64.315174</td>\n",
       "    </tr>\n",
       "    <tr>\n",
       "      <th>8</th>\n",
       "      <td>Albumin</td>\n",
       "      <td>3.053371</td>\n",
       "    </tr>\n",
       "    <tr>\n",
       "      <th>9</th>\n",
       "      <td>Albumin_and_Globulin_Ratio</td>\n",
       "      <td>1.693056</td>\n",
       "    </tr>\n",
       "    <tr>\n",
       "      <th>1</th>\n",
       "      <td>gender</td>\n",
       "      <td>0.964518</td>\n",
       "    </tr>\n",
       "    <tr>\n",
       "      <th>7</th>\n",
       "      <td>Total_Protiens</td>\n",
       "      <td>0.129627</td>\n",
       "    </tr>\n",
       "  </tbody>\n",
       "</table>\n",
       "</div>"
      ],
      "text/plain": [
       "                Features Name         Score\n",
       "6  Aspartate_Aminotransferase  10203.328978\n",
       "5    Alanine_Aminotransferase   6421.919946\n",
       "4        Alkaline_Phosphotase   4039.855702\n",
       "2             Total_Bilirubin    329.873827\n",
       "3            Direct_Bilirubin    187.005784\n",
       "0                         age     64.315174\n",
       "8                     Albumin      3.053371\n",
       "9  Albumin_and_Globulin_Ratio      1.693056\n",
       "1                      gender      0.964518\n",
       "7              Total_Protiens      0.129627"
      ]
     },
     "execution_count": 26,
     "metadata": {},
     "output_type": "execute_result"
    }
   ],
   "source": [
    "featureScores= featureScores.sort_values(by='Score', ascending=False)\n",
    "featureScores"
   ]
  },
  {
   "cell_type": "code",
   "execution_count": 27,
   "metadata": {},
   "outputs": [
    {
     "data": {
      "text/plain": [
       "RandomForestClassifier()"
      ]
     },
     "execution_count": 27,
     "metadata": {},
     "output_type": "execute_result"
    }
   ],
   "source": [
    "model=RandomForestClassifier()\n",
    "model.fit(a,b)"
   ]
  },
  {
   "cell_type": "code",
   "execution_count": 28,
   "metadata": {},
   "outputs": [
    {
     "data": {
      "text/plain": [
       "array([0.12745545, 0.01939208, 0.10766079, 0.08044101, 0.14996154,\n",
       "       0.13148823, 0.13122435, 0.08519969, 0.08771702, 0.07945984])"
      ]
     },
     "execution_count": 28,
     "metadata": {},
     "output_type": "execute_result"
    }
   ],
   "source": [
    "model.feature_importances_"
   ]
  },
  {
   "cell_type": "code",
   "execution_count": 29,
   "metadata": {},
   "outputs": [],
   "source": [
    "feat_importances=pd.Series(model.feature_importances_,index=a.columns)"
   ]
  },
  {
   "cell_type": "code",
   "execution_count": 30,
   "metadata": {},
   "outputs": [
    {
     "data": {
      "application/vnd.plotly.v1+json": {
       "config": {
        "linkText": "Export to plot.ly",
        "plotlyServerURL": "https://plot.ly",
        "showLink": true
       },
       "data": [
        {
         "line": {
          "color": "rgba(255, 153, 51, 1.0)",
          "dash": "solid",
          "shape": "linear",
          "width": 1.3
         },
         "mode": "lines",
         "name": "None",
         "text": "",
         "type": "scatter",
         "x": [
          "Alkaline_Phosphotase",
          "Alanine_Aminotransferase",
          "Aspartate_Aminotransferase",
          "age",
          "Total_Bilirubin",
          "Albumin",
          "Total_Protiens",
          "Direct_Bilirubin",
          "Albumin_and_Globulin_Ratio",
          "gender"
         ],
         "y": [
          0.1499615413409259,
          0.1314882313420429,
          0.13122435375313724,
          0.12745544943666842,
          0.10766078514242938,
          0.08771701520441982,
          0.08519969303562101,
          0.08044100926124577,
          0.07945983862846746,
          0.019392082855041983
         ]
        }
       ],
       "layout": {
        "legend": {
         "bgcolor": "#F5F6F9",
         "font": {
          "color": "#4D5663"
         }
        },
        "paper_bgcolor": "#F5F6F9",
        "plot_bgcolor": "#F5F6F9",
        "template": {
         "data": {
          "bar": [
           {
            "error_x": {
             "color": "#2a3f5f"
            },
            "error_y": {
             "color": "#2a3f5f"
            },
            "marker": {
             "line": {
              "color": "#E5ECF6",
              "width": 0.5
             }
            },
            "type": "bar"
           }
          ],
          "barpolar": [
           {
            "marker": {
             "line": {
              "color": "#E5ECF6",
              "width": 0.5
             }
            },
            "type": "barpolar"
           }
          ],
          "carpet": [
           {
            "aaxis": {
             "endlinecolor": "#2a3f5f",
             "gridcolor": "white",
             "linecolor": "white",
             "minorgridcolor": "white",
             "startlinecolor": "#2a3f5f"
            },
            "baxis": {
             "endlinecolor": "#2a3f5f",
             "gridcolor": "white",
             "linecolor": "white",
             "minorgridcolor": "white",
             "startlinecolor": "#2a3f5f"
            },
            "type": "carpet"
           }
          ],
          "choropleth": [
           {
            "colorbar": {
             "outlinewidth": 0,
             "ticks": ""
            },
            "type": "choropleth"
           }
          ],
          "contour": [
           {
            "colorbar": {
             "outlinewidth": 0,
             "ticks": ""
            },
            "colorscale": [
             [
              0,
              "#0d0887"
             ],
             [
              0.1111111111111111,
              "#46039f"
             ],
             [
              0.2222222222222222,
              "#7201a8"
             ],
             [
              0.3333333333333333,
              "#9c179e"
             ],
             [
              0.4444444444444444,
              "#bd3786"
             ],
             [
              0.5555555555555556,
              "#d8576b"
             ],
             [
              0.6666666666666666,
              "#ed7953"
             ],
             [
              0.7777777777777778,
              "#fb9f3a"
             ],
             [
              0.8888888888888888,
              "#fdca26"
             ],
             [
              1,
              "#f0f921"
             ]
            ],
            "type": "contour"
           }
          ],
          "contourcarpet": [
           {
            "colorbar": {
             "outlinewidth": 0,
             "ticks": ""
            },
            "type": "contourcarpet"
           }
          ],
          "heatmap": [
           {
            "colorbar": {
             "outlinewidth": 0,
             "ticks": ""
            },
            "colorscale": [
             [
              0,
              "#0d0887"
             ],
             [
              0.1111111111111111,
              "#46039f"
             ],
             [
              0.2222222222222222,
              "#7201a8"
             ],
             [
              0.3333333333333333,
              "#9c179e"
             ],
             [
              0.4444444444444444,
              "#bd3786"
             ],
             [
              0.5555555555555556,
              "#d8576b"
             ],
             [
              0.6666666666666666,
              "#ed7953"
             ],
             [
              0.7777777777777778,
              "#fb9f3a"
             ],
             [
              0.8888888888888888,
              "#fdca26"
             ],
             [
              1,
              "#f0f921"
             ]
            ],
            "type": "heatmap"
           }
          ],
          "heatmapgl": [
           {
            "colorbar": {
             "outlinewidth": 0,
             "ticks": ""
            },
            "colorscale": [
             [
              0,
              "#0d0887"
             ],
             [
              0.1111111111111111,
              "#46039f"
             ],
             [
              0.2222222222222222,
              "#7201a8"
             ],
             [
              0.3333333333333333,
              "#9c179e"
             ],
             [
              0.4444444444444444,
              "#bd3786"
             ],
             [
              0.5555555555555556,
              "#d8576b"
             ],
             [
              0.6666666666666666,
              "#ed7953"
             ],
             [
              0.7777777777777778,
              "#fb9f3a"
             ],
             [
              0.8888888888888888,
              "#fdca26"
             ],
             [
              1,
              "#f0f921"
             ]
            ],
            "type": "heatmapgl"
           }
          ],
          "histogram": [
           {
            "marker": {
             "colorbar": {
              "outlinewidth": 0,
              "ticks": ""
             }
            },
            "type": "histogram"
           }
          ],
          "histogram2d": [
           {
            "colorbar": {
             "outlinewidth": 0,
             "ticks": ""
            },
            "colorscale": [
             [
              0,
              "#0d0887"
             ],
             [
              0.1111111111111111,
              "#46039f"
             ],
             [
              0.2222222222222222,
              "#7201a8"
             ],
             [
              0.3333333333333333,
              "#9c179e"
             ],
             [
              0.4444444444444444,
              "#bd3786"
             ],
             [
              0.5555555555555556,
              "#d8576b"
             ],
             [
              0.6666666666666666,
              "#ed7953"
             ],
             [
              0.7777777777777778,
              "#fb9f3a"
             ],
             [
              0.8888888888888888,
              "#fdca26"
             ],
             [
              1,
              "#f0f921"
             ]
            ],
            "type": "histogram2d"
           }
          ],
          "histogram2dcontour": [
           {
            "colorbar": {
             "outlinewidth": 0,
             "ticks": ""
            },
            "colorscale": [
             [
              0,
              "#0d0887"
             ],
             [
              0.1111111111111111,
              "#46039f"
             ],
             [
              0.2222222222222222,
              "#7201a8"
             ],
             [
              0.3333333333333333,
              "#9c179e"
             ],
             [
              0.4444444444444444,
              "#bd3786"
             ],
             [
              0.5555555555555556,
              "#d8576b"
             ],
             [
              0.6666666666666666,
              "#ed7953"
             ],
             [
              0.7777777777777778,
              "#fb9f3a"
             ],
             [
              0.8888888888888888,
              "#fdca26"
             ],
             [
              1,
              "#f0f921"
             ]
            ],
            "type": "histogram2dcontour"
           }
          ],
          "mesh3d": [
           {
            "colorbar": {
             "outlinewidth": 0,
             "ticks": ""
            },
            "type": "mesh3d"
           }
          ],
          "parcoords": [
           {
            "line": {
             "colorbar": {
              "outlinewidth": 0,
              "ticks": ""
             }
            },
            "type": "parcoords"
           }
          ],
          "pie": [
           {
            "automargin": true,
            "type": "pie"
           }
          ],
          "scatter": [
           {
            "marker": {
             "colorbar": {
              "outlinewidth": 0,
              "ticks": ""
             }
            },
            "type": "scatter"
           }
          ],
          "scatter3d": [
           {
            "line": {
             "colorbar": {
              "outlinewidth": 0,
              "ticks": ""
             }
            },
            "marker": {
             "colorbar": {
              "outlinewidth": 0,
              "ticks": ""
             }
            },
            "type": "scatter3d"
           }
          ],
          "scattercarpet": [
           {
            "marker": {
             "colorbar": {
              "outlinewidth": 0,
              "ticks": ""
             }
            },
            "type": "scattercarpet"
           }
          ],
          "scattergeo": [
           {
            "marker": {
             "colorbar": {
              "outlinewidth": 0,
              "ticks": ""
             }
            },
            "type": "scattergeo"
           }
          ],
          "scattergl": [
           {
            "marker": {
             "colorbar": {
              "outlinewidth": 0,
              "ticks": ""
             }
            },
            "type": "scattergl"
           }
          ],
          "scattermapbox": [
           {
            "marker": {
             "colorbar": {
              "outlinewidth": 0,
              "ticks": ""
             }
            },
            "type": "scattermapbox"
           }
          ],
          "scatterpolar": [
           {
            "marker": {
             "colorbar": {
              "outlinewidth": 0,
              "ticks": ""
             }
            },
            "type": "scatterpolar"
           }
          ],
          "scatterpolargl": [
           {
            "marker": {
             "colorbar": {
              "outlinewidth": 0,
              "ticks": ""
             }
            },
            "type": "scatterpolargl"
           }
          ],
          "scatterternary": [
           {
            "marker": {
             "colorbar": {
              "outlinewidth": 0,
              "ticks": ""
             }
            },
            "type": "scatterternary"
           }
          ],
          "surface": [
           {
            "colorbar": {
             "outlinewidth": 0,
             "ticks": ""
            },
            "colorscale": [
             [
              0,
              "#0d0887"
             ],
             [
              0.1111111111111111,
              "#46039f"
             ],
             [
              0.2222222222222222,
              "#7201a8"
             ],
             [
              0.3333333333333333,
              "#9c179e"
             ],
             [
              0.4444444444444444,
              "#bd3786"
             ],
             [
              0.5555555555555556,
              "#d8576b"
             ],
             [
              0.6666666666666666,
              "#ed7953"
             ],
             [
              0.7777777777777778,
              "#fb9f3a"
             ],
             [
              0.8888888888888888,
              "#fdca26"
             ],
             [
              1,
              "#f0f921"
             ]
            ],
            "type": "surface"
           }
          ],
          "table": [
           {
            "cells": {
             "fill": {
              "color": "#EBF0F8"
             },
             "line": {
              "color": "white"
             }
            },
            "header": {
             "fill": {
              "color": "#C8D4E3"
             },
             "line": {
              "color": "white"
             }
            },
            "type": "table"
           }
          ]
         },
         "layout": {
          "annotationdefaults": {
           "arrowcolor": "#2a3f5f",
           "arrowhead": 0,
           "arrowwidth": 1
          },
          "autotypenumbers": "strict",
          "coloraxis": {
           "colorbar": {
            "outlinewidth": 0,
            "ticks": ""
           }
          },
          "colorscale": {
           "diverging": [
            [
             0,
             "#8e0152"
            ],
            [
             0.1,
             "#c51b7d"
            ],
            [
             0.2,
             "#de77ae"
            ],
            [
             0.3,
             "#f1b6da"
            ],
            [
             0.4,
             "#fde0ef"
            ],
            [
             0.5,
             "#f7f7f7"
            ],
            [
             0.6,
             "#e6f5d0"
            ],
            [
             0.7,
             "#b8e186"
            ],
            [
             0.8,
             "#7fbc41"
            ],
            [
             0.9,
             "#4d9221"
            ],
            [
             1,
             "#276419"
            ]
           ],
           "sequential": [
            [
             0,
             "#0d0887"
            ],
            [
             0.1111111111111111,
             "#46039f"
            ],
            [
             0.2222222222222222,
             "#7201a8"
            ],
            [
             0.3333333333333333,
             "#9c179e"
            ],
            [
             0.4444444444444444,
             "#bd3786"
            ],
            [
             0.5555555555555556,
             "#d8576b"
            ],
            [
             0.6666666666666666,
             "#ed7953"
            ],
            [
             0.7777777777777778,
             "#fb9f3a"
            ],
            [
             0.8888888888888888,
             "#fdca26"
            ],
            [
             1,
             "#f0f921"
            ]
           ],
           "sequentialminus": [
            [
             0,
             "#0d0887"
            ],
            [
             0.1111111111111111,
             "#46039f"
            ],
            [
             0.2222222222222222,
             "#7201a8"
            ],
            [
             0.3333333333333333,
             "#9c179e"
            ],
            [
             0.4444444444444444,
             "#bd3786"
            ],
            [
             0.5555555555555556,
             "#d8576b"
            ],
            [
             0.6666666666666666,
             "#ed7953"
            ],
            [
             0.7777777777777778,
             "#fb9f3a"
            ],
            [
             0.8888888888888888,
             "#fdca26"
            ],
            [
             1,
             "#f0f921"
            ]
           ]
          },
          "colorway": [
           "#636efa",
           "#EF553B",
           "#00cc96",
           "#ab63fa",
           "#FFA15A",
           "#19d3f3",
           "#FF6692",
           "#B6E880",
           "#FF97FF",
           "#FECB52"
          ],
          "font": {
           "color": "#2a3f5f"
          },
          "geo": {
           "bgcolor": "white",
           "lakecolor": "white",
           "landcolor": "#E5ECF6",
           "showlakes": true,
           "showland": true,
           "subunitcolor": "white"
          },
          "hoverlabel": {
           "align": "left"
          },
          "hovermode": "closest",
          "mapbox": {
           "style": "light"
          },
          "paper_bgcolor": "white",
          "plot_bgcolor": "#E5ECF6",
          "polar": {
           "angularaxis": {
            "gridcolor": "white",
            "linecolor": "white",
            "ticks": ""
           },
           "bgcolor": "#E5ECF6",
           "radialaxis": {
            "gridcolor": "white",
            "linecolor": "white",
            "ticks": ""
           }
          },
          "scene": {
           "xaxis": {
            "backgroundcolor": "#E5ECF6",
            "gridcolor": "white",
            "gridwidth": 2,
            "linecolor": "white",
            "showbackground": true,
            "ticks": "",
            "zerolinecolor": "white"
           },
           "yaxis": {
            "backgroundcolor": "#E5ECF6",
            "gridcolor": "white",
            "gridwidth": 2,
            "linecolor": "white",
            "showbackground": true,
            "ticks": "",
            "zerolinecolor": "white"
           },
           "zaxis": {
            "backgroundcolor": "#E5ECF6",
            "gridcolor": "white",
            "gridwidth": 2,
            "linecolor": "white",
            "showbackground": true,
            "ticks": "",
            "zerolinecolor": "white"
           }
          },
          "shapedefaults": {
           "line": {
            "color": "#2a3f5f"
           }
          },
          "ternary": {
           "aaxis": {
            "gridcolor": "white",
            "linecolor": "white",
            "ticks": ""
           },
           "baxis": {
            "gridcolor": "white",
            "linecolor": "white",
            "ticks": ""
           },
           "bgcolor": "#E5ECF6",
           "caxis": {
            "gridcolor": "white",
            "linecolor": "white",
            "ticks": ""
           }
          },
          "title": {
           "x": 0.05
          },
          "xaxis": {
           "automargin": true,
           "gridcolor": "white",
           "linecolor": "white",
           "ticks": "",
           "title": {
            "standoff": 15
           },
           "zerolinecolor": "white",
           "zerolinewidth": 2
          },
          "yaxis": {
           "automargin": true,
           "gridcolor": "white",
           "linecolor": "white",
           "ticks": "",
           "title": {
            "standoff": 15
           },
           "zerolinecolor": "white",
           "zerolinewidth": 2
          }
         }
        },
        "title": {
         "font": {
          "color": "#4D5663"
         },
         "text": "On basis of ExtraTreesClassifier Visualize feature importance"
        },
        "xaxis": {
         "gridcolor": "#E1E5ED",
         "showgrid": true,
         "tickfont": {
          "color": "#4D5663"
         },
         "title": {
          "font": {
           "color": "#4D5663"
          },
          "text": ""
         },
         "zerolinecolor": "#E1E5ED"
        },
        "yaxis": {
         "gridcolor": "#E1E5ED",
         "showgrid": true,
         "tickfont": {
          "color": "#4D5663"
         },
         "title": {
          "font": {
           "color": "#4D5663"
          },
          "text": ""
         },
         "zerolinecolor": "#E1E5ED"
        }
       }
      },
      "text/html": [
       "<div>                            <div id=\"8095d9ff-1126-4769-a817-bea133282fd6\" class=\"plotly-graph-div\" style=\"height:525px; width:100%;\"></div>            <script type=\"text/javascript\">                require([\"plotly\"], function(Plotly) {                    window.PLOTLYENV=window.PLOTLYENV || {};\n",
       "                    window.PLOTLYENV.BASE_URL='https://plot.ly';                                    if (document.getElementById(\"8095d9ff-1126-4769-a817-bea133282fd6\")) {                    Plotly.newPlot(                        \"8095d9ff-1126-4769-a817-bea133282fd6\",                        [{\"line\": {\"color\": \"rgba(255, 153, 51, 1.0)\", \"dash\": \"solid\", \"shape\": \"linear\", \"width\": 1.3}, \"mode\": \"lines\", \"name\": \"None\", \"text\": \"\", \"type\": \"scatter\", \"x\": [\"Alkaline_Phosphotase\", \"Alanine_Aminotransferase\", \"Aspartate_Aminotransferase\", \"age\", \"Total_Bilirubin\", \"Albumin\", \"Total_Protiens\", \"Direct_Bilirubin\", \"Albumin_and_Globulin_Ratio\", \"gender\"], \"y\": [0.1499615413409259, 0.1314882313420429, 0.13122435375313724, 0.12745544943666842, 0.10766078514242938, 0.08771701520441982, 0.08519969303562101, 0.08044100926124577, 0.07945983862846746, 0.019392082855041983]}],                        {\"legend\": {\"bgcolor\": \"#F5F6F9\", \"font\": {\"color\": \"#4D5663\"}}, \"paper_bgcolor\": \"#F5F6F9\", \"plot_bgcolor\": \"#F5F6F9\", \"template\": {\"data\": {\"bar\": [{\"error_x\": {\"color\": \"#2a3f5f\"}, \"error_y\": {\"color\": \"#2a3f5f\"}, \"marker\": {\"line\": {\"color\": \"#E5ECF6\", \"width\": 0.5}}, \"type\": \"bar\"}], \"barpolar\": [{\"marker\": {\"line\": {\"color\": \"#E5ECF6\", \"width\": 0.5}}, \"type\": \"barpolar\"}], \"carpet\": [{\"aaxis\": {\"endlinecolor\": \"#2a3f5f\", \"gridcolor\": \"white\", \"linecolor\": \"white\", \"minorgridcolor\": \"white\", \"startlinecolor\": \"#2a3f5f\"}, \"baxis\": {\"endlinecolor\": \"#2a3f5f\", \"gridcolor\": \"white\", \"linecolor\": \"white\", \"minorgridcolor\": \"white\", \"startlinecolor\": \"#2a3f5f\"}, \"type\": \"carpet\"}], \"choropleth\": [{\"colorbar\": {\"outlinewidth\": 0, \"ticks\": \"\"}, \"type\": \"choropleth\"}], \"contour\": [{\"colorbar\": {\"outlinewidth\": 0, \"ticks\": \"\"}, \"colorscale\": [[0.0, \"#0d0887\"], [0.1111111111111111, \"#46039f\"], [0.2222222222222222, \"#7201a8\"], [0.3333333333333333, \"#9c179e\"], [0.4444444444444444, \"#bd3786\"], [0.5555555555555556, \"#d8576b\"], [0.6666666666666666, \"#ed7953\"], [0.7777777777777778, \"#fb9f3a\"], [0.8888888888888888, \"#fdca26\"], [1.0, \"#f0f921\"]], \"type\": \"contour\"}], \"contourcarpet\": [{\"colorbar\": {\"outlinewidth\": 0, \"ticks\": \"\"}, \"type\": \"contourcarpet\"}], \"heatmap\": [{\"colorbar\": {\"outlinewidth\": 0, \"ticks\": \"\"}, \"colorscale\": [[0.0, \"#0d0887\"], [0.1111111111111111, \"#46039f\"], [0.2222222222222222, \"#7201a8\"], [0.3333333333333333, \"#9c179e\"], [0.4444444444444444, \"#bd3786\"], [0.5555555555555556, \"#d8576b\"], [0.6666666666666666, \"#ed7953\"], [0.7777777777777778, \"#fb9f3a\"], [0.8888888888888888, \"#fdca26\"], [1.0, \"#f0f921\"]], \"type\": \"heatmap\"}], \"heatmapgl\": [{\"colorbar\": {\"outlinewidth\": 0, \"ticks\": \"\"}, \"colorscale\": [[0.0, \"#0d0887\"], [0.1111111111111111, \"#46039f\"], [0.2222222222222222, \"#7201a8\"], [0.3333333333333333, \"#9c179e\"], [0.4444444444444444, \"#bd3786\"], [0.5555555555555556, \"#d8576b\"], [0.6666666666666666, \"#ed7953\"], [0.7777777777777778, \"#fb9f3a\"], [0.8888888888888888, \"#fdca26\"], [1.0, \"#f0f921\"]], \"type\": \"heatmapgl\"}], \"histogram\": [{\"marker\": {\"colorbar\": {\"outlinewidth\": 0, \"ticks\": \"\"}}, \"type\": \"histogram\"}], \"histogram2d\": [{\"colorbar\": {\"outlinewidth\": 0, \"ticks\": \"\"}, \"colorscale\": [[0.0, \"#0d0887\"], [0.1111111111111111, \"#46039f\"], [0.2222222222222222, \"#7201a8\"], [0.3333333333333333, \"#9c179e\"], [0.4444444444444444, \"#bd3786\"], [0.5555555555555556, \"#d8576b\"], [0.6666666666666666, \"#ed7953\"], [0.7777777777777778, \"#fb9f3a\"], [0.8888888888888888, \"#fdca26\"], [1.0, \"#f0f921\"]], \"type\": \"histogram2d\"}], \"histogram2dcontour\": [{\"colorbar\": {\"outlinewidth\": 0, \"ticks\": \"\"}, \"colorscale\": [[0.0, \"#0d0887\"], [0.1111111111111111, \"#46039f\"], [0.2222222222222222, \"#7201a8\"], [0.3333333333333333, \"#9c179e\"], [0.4444444444444444, \"#bd3786\"], [0.5555555555555556, \"#d8576b\"], [0.6666666666666666, \"#ed7953\"], [0.7777777777777778, \"#fb9f3a\"], [0.8888888888888888, \"#fdca26\"], [1.0, \"#f0f921\"]], \"type\": \"histogram2dcontour\"}], \"mesh3d\": [{\"colorbar\": {\"outlinewidth\": 0, \"ticks\": \"\"}, \"type\": \"mesh3d\"}], \"parcoords\": [{\"line\": {\"colorbar\": {\"outlinewidth\": 0, \"ticks\": \"\"}}, \"type\": \"parcoords\"}], \"pie\": [{\"automargin\": true, \"type\": \"pie\"}], \"scatter\": [{\"marker\": {\"colorbar\": {\"outlinewidth\": 0, \"ticks\": \"\"}}, \"type\": \"scatter\"}], \"scatter3d\": [{\"line\": {\"colorbar\": {\"outlinewidth\": 0, \"ticks\": \"\"}}, \"marker\": {\"colorbar\": {\"outlinewidth\": 0, \"ticks\": \"\"}}, \"type\": \"scatter3d\"}], \"scattercarpet\": [{\"marker\": {\"colorbar\": {\"outlinewidth\": 0, \"ticks\": \"\"}}, \"type\": \"scattercarpet\"}], \"scattergeo\": [{\"marker\": {\"colorbar\": {\"outlinewidth\": 0, \"ticks\": \"\"}}, \"type\": \"scattergeo\"}], \"scattergl\": [{\"marker\": {\"colorbar\": {\"outlinewidth\": 0, \"ticks\": \"\"}}, \"type\": \"scattergl\"}], \"scattermapbox\": [{\"marker\": {\"colorbar\": {\"outlinewidth\": 0, \"ticks\": \"\"}}, \"type\": \"scattermapbox\"}], \"scatterpolar\": [{\"marker\": {\"colorbar\": {\"outlinewidth\": 0, \"ticks\": \"\"}}, \"type\": \"scatterpolar\"}], \"scatterpolargl\": [{\"marker\": {\"colorbar\": {\"outlinewidth\": 0, \"ticks\": \"\"}}, \"type\": \"scatterpolargl\"}], \"scatterternary\": [{\"marker\": {\"colorbar\": {\"outlinewidth\": 0, \"ticks\": \"\"}}, \"type\": \"scatterternary\"}], \"surface\": [{\"colorbar\": {\"outlinewidth\": 0, \"ticks\": \"\"}, \"colorscale\": [[0.0, \"#0d0887\"], [0.1111111111111111, \"#46039f\"], [0.2222222222222222, \"#7201a8\"], [0.3333333333333333, \"#9c179e\"], [0.4444444444444444, \"#bd3786\"], [0.5555555555555556, \"#d8576b\"], [0.6666666666666666, \"#ed7953\"], [0.7777777777777778, \"#fb9f3a\"], [0.8888888888888888, \"#fdca26\"], [1.0, \"#f0f921\"]], \"type\": \"surface\"}], \"table\": [{\"cells\": {\"fill\": {\"color\": \"#EBF0F8\"}, \"line\": {\"color\": \"white\"}}, \"header\": {\"fill\": {\"color\": \"#C8D4E3\"}, \"line\": {\"color\": \"white\"}}, \"type\": \"table\"}]}, \"layout\": {\"annotationdefaults\": {\"arrowcolor\": \"#2a3f5f\", \"arrowhead\": 0, \"arrowwidth\": 1}, \"autotypenumbers\": \"strict\", \"coloraxis\": {\"colorbar\": {\"outlinewidth\": 0, \"ticks\": \"\"}}, \"colorscale\": {\"diverging\": [[0, \"#8e0152\"], [0.1, \"#c51b7d\"], [0.2, \"#de77ae\"], [0.3, \"#f1b6da\"], [0.4, \"#fde0ef\"], [0.5, \"#f7f7f7\"], [0.6, \"#e6f5d0\"], [0.7, \"#b8e186\"], [0.8, \"#7fbc41\"], [0.9, \"#4d9221\"], [1, \"#276419\"]], \"sequential\": [[0.0, \"#0d0887\"], [0.1111111111111111, \"#46039f\"], [0.2222222222222222, \"#7201a8\"], [0.3333333333333333, \"#9c179e\"], [0.4444444444444444, \"#bd3786\"], [0.5555555555555556, \"#d8576b\"], [0.6666666666666666, \"#ed7953\"], [0.7777777777777778, \"#fb9f3a\"], [0.8888888888888888, \"#fdca26\"], [1.0, \"#f0f921\"]], \"sequentialminus\": [[0.0, \"#0d0887\"], [0.1111111111111111, \"#46039f\"], [0.2222222222222222, \"#7201a8\"], [0.3333333333333333, \"#9c179e\"], [0.4444444444444444, \"#bd3786\"], [0.5555555555555556, \"#d8576b\"], [0.6666666666666666, \"#ed7953\"], [0.7777777777777778, \"#fb9f3a\"], [0.8888888888888888, \"#fdca26\"], [1.0, \"#f0f921\"]]}, \"colorway\": [\"#636efa\", \"#EF553B\", \"#00cc96\", \"#ab63fa\", \"#FFA15A\", \"#19d3f3\", \"#FF6692\", \"#B6E880\", \"#FF97FF\", \"#FECB52\"], \"font\": {\"color\": \"#2a3f5f\"}, \"geo\": {\"bgcolor\": \"white\", \"lakecolor\": \"white\", \"landcolor\": \"#E5ECF6\", \"showlakes\": true, \"showland\": true, \"subunitcolor\": \"white\"}, \"hoverlabel\": {\"align\": \"left\"}, \"hovermode\": \"closest\", \"mapbox\": {\"style\": \"light\"}, \"paper_bgcolor\": \"white\", \"plot_bgcolor\": \"#E5ECF6\", \"polar\": {\"angularaxis\": {\"gridcolor\": \"white\", \"linecolor\": \"white\", \"ticks\": \"\"}, \"bgcolor\": \"#E5ECF6\", \"radialaxis\": {\"gridcolor\": \"white\", \"linecolor\": \"white\", \"ticks\": \"\"}}, \"scene\": {\"xaxis\": {\"backgroundcolor\": \"#E5ECF6\", \"gridcolor\": \"white\", \"gridwidth\": 2, \"linecolor\": \"white\", \"showbackground\": true, \"ticks\": \"\", \"zerolinecolor\": \"white\"}, \"yaxis\": {\"backgroundcolor\": \"#E5ECF6\", \"gridcolor\": \"white\", \"gridwidth\": 2, \"linecolor\": \"white\", \"showbackground\": true, \"ticks\": \"\", \"zerolinecolor\": \"white\"}, \"zaxis\": {\"backgroundcolor\": \"#E5ECF6\", \"gridcolor\": \"white\", \"gridwidth\": 2, \"linecolor\": \"white\", \"showbackground\": true, \"ticks\": \"\", \"zerolinecolor\": \"white\"}}, \"shapedefaults\": {\"line\": {\"color\": \"#2a3f5f\"}}, \"ternary\": {\"aaxis\": {\"gridcolor\": \"white\", \"linecolor\": \"white\", \"ticks\": \"\"}, \"baxis\": {\"gridcolor\": \"white\", \"linecolor\": \"white\", \"ticks\": \"\"}, \"bgcolor\": \"#E5ECF6\", \"caxis\": {\"gridcolor\": \"white\", \"linecolor\": \"white\", \"ticks\": \"\"}}, \"title\": {\"x\": 0.05}, \"xaxis\": {\"automargin\": true, \"gridcolor\": \"white\", \"linecolor\": \"white\", \"ticks\": \"\", \"title\": {\"standoff\": 15}, \"zerolinecolor\": \"white\", \"zerolinewidth\": 2}, \"yaxis\": {\"automargin\": true, \"gridcolor\": \"white\", \"linecolor\": \"white\", \"ticks\": \"\", \"title\": {\"standoff\": 15}, \"zerolinecolor\": \"white\", \"zerolinewidth\": 2}}}, \"title\": {\"font\": {\"color\": \"#4D5663\"}, \"text\": \"On basis of ExtraTreesClassifier Visualize feature importance\"}, \"xaxis\": {\"gridcolor\": \"#E1E5ED\", \"showgrid\": true, \"tickfont\": {\"color\": \"#4D5663\"}, \"title\": {\"font\": {\"color\": \"#4D5663\"}, \"text\": \"\"}, \"zerolinecolor\": \"#E1E5ED\"}, \"yaxis\": {\"gridcolor\": \"#E1E5ED\", \"showgrid\": true, \"tickfont\": {\"color\": \"#4D5663\"}, \"title\": {\"font\": {\"color\": \"#4D5663\"}, \"text\": \"\"}, \"zerolinecolor\": \"#E1E5ED\"}},                        {\"showLink\": true, \"linkText\": \"Export to plot.ly\", \"plotlyServerURL\": \"https://plot.ly\", \"responsive\": true}                    ).then(function(){\n",
       "                            \n",
       "var gd = document.getElementById('8095d9ff-1126-4769-a817-bea133282fd6');\n",
       "var x = new MutationObserver(function (mutations, observer) {{\n",
       "        var display = window.getComputedStyle(gd).display;\n",
       "        if (!display || display === 'none') {{\n",
       "            console.log([gd, 'removed!']);\n",
       "            Plotly.purge(gd);\n",
       "            observer.disconnect();\n",
       "        }}\n",
       "}});\n",
       "\n",
       "// Listen for the removal of the full notebook cells\n",
       "var notebookContainer = gd.closest('#notebook-container');\n",
       "if (notebookContainer) {{\n",
       "    x.observe(notebookContainer, {childList: true});\n",
       "}}\n",
       "\n",
       "// Listen for the clearing of the current output cell\n",
       "var outputEl = gd.closest('.output');\n",
       "if (outputEl) {{\n",
       "    x.observe(outputEl, {childList: true});\n",
       "}}\n",
       "\n",
       "                        })                };                });            </script>        </div>"
      ]
     },
     "metadata": {},
     "output_type": "display_data"
    }
   ],
   "source": [
    "feat_importances.nlargest(20).iplot(kind='scatter',\n",
    "                 title='On basis of ExtraTreesClassifier Visualize feature importance')"
   ]
  },
  {
   "cell_type": "code",
   "execution_count": 31,
   "metadata": {},
   "outputs": [],
   "source": [
    "data2 = pd.DataFrame(data1, columns=['age','Total_Bilirubin', 'Direct_Bilirubin','Alkaline_Phosphotase',\n",
    "                                     'Alanine_Aminotransferase','Aspartate_Aminotransferase','Albumin'])"
   ]
  },
  {
   "cell_type": "code",
   "execution_count": 32,
   "metadata": {},
   "outputs": [
    {
     "data": {
      "text/html": [
       "<div>\n",
       "<style scoped>\n",
       "    .dataframe tbody tr th:only-of-type {\n",
       "        vertical-align: middle;\n",
       "    }\n",
       "\n",
       "    .dataframe tbody tr th {\n",
       "        vertical-align: top;\n",
       "    }\n",
       "\n",
       "    .dataframe thead th {\n",
       "        text-align: right;\n",
       "    }\n",
       "</style>\n",
       "<table border=\"1\" class=\"dataframe\">\n",
       "  <thead>\n",
       "    <tr style=\"text-align: right;\">\n",
       "      <th></th>\n",
       "      <th>age</th>\n",
       "      <th>Total_Bilirubin</th>\n",
       "      <th>Direct_Bilirubin</th>\n",
       "      <th>Alkaline_Phosphotase</th>\n",
       "      <th>Alanine_Aminotransferase</th>\n",
       "      <th>Aspartate_Aminotransferase</th>\n",
       "      <th>Albumin</th>\n",
       "    </tr>\n",
       "  </thead>\n",
       "  <tbody>\n",
       "    <tr>\n",
       "      <th>0</th>\n",
       "      <td>65</td>\n",
       "      <td>0.7</td>\n",
       "      <td>0.1</td>\n",
       "      <td>187</td>\n",
       "      <td>16</td>\n",
       "      <td>18</td>\n",
       "      <td>3.3</td>\n",
       "    </tr>\n",
       "    <tr>\n",
       "      <th>1</th>\n",
       "      <td>62</td>\n",
       "      <td>10.9</td>\n",
       "      <td>5.5</td>\n",
       "      <td>699</td>\n",
       "      <td>64</td>\n",
       "      <td>100</td>\n",
       "      <td>3.2</td>\n",
       "    </tr>\n",
       "    <tr>\n",
       "      <th>2</th>\n",
       "      <td>62</td>\n",
       "      <td>7.3</td>\n",
       "      <td>4.1</td>\n",
       "      <td>490</td>\n",
       "      <td>60</td>\n",
       "      <td>68</td>\n",
       "      <td>3.3</td>\n",
       "    </tr>\n",
       "    <tr>\n",
       "      <th>3</th>\n",
       "      <td>58</td>\n",
       "      <td>1.0</td>\n",
       "      <td>0.4</td>\n",
       "      <td>182</td>\n",
       "      <td>14</td>\n",
       "      <td>20</td>\n",
       "      <td>3.4</td>\n",
       "    </tr>\n",
       "    <tr>\n",
       "      <th>4</th>\n",
       "      <td>72</td>\n",
       "      <td>3.9</td>\n",
       "      <td>2.0</td>\n",
       "      <td>195</td>\n",
       "      <td>27</td>\n",
       "      <td>59</td>\n",
       "      <td>2.4</td>\n",
       "    </tr>\n",
       "  </tbody>\n",
       "</table>\n",
       "</div>"
      ],
      "text/plain": [
       "   age  Total_Bilirubin  Direct_Bilirubin  Alkaline_Phosphotase  \\\n",
       "0   65              0.7               0.1                   187   \n",
       "1   62             10.9               5.5                   699   \n",
       "2   62              7.3               4.1                   490   \n",
       "3   58              1.0               0.4                   182   \n",
       "4   72              3.9               2.0                   195   \n",
       "\n",
       "   Alanine_Aminotransferase  Aspartate_Aminotransferase  Albumin  \n",
       "0                        16                          18      3.3  \n",
       "1                        64                         100      3.2  \n",
       "2                        60                          68      3.3  \n",
       "3                        14                          20      3.4  \n",
       "4                        27                          59      2.4  "
      ]
     },
     "execution_count": 32,
     "metadata": {},
     "output_type": "execute_result"
    }
   ],
   "source": [
    "data2.head()"
   ]
  },
  {
   "cell_type": "code",
   "execution_count": 33,
   "metadata": {},
   "outputs": [],
   "source": [
    "data3=data2.copy()"
   ]
  },
  {
   "cell_type": "code",
   "execution_count": 34,
   "metadata": {},
   "outputs": [
    {
     "data": {
      "text/plain": [
       "StandardScaler()"
      ]
     },
     "execution_count": 34,
     "metadata": {},
     "output_type": "execute_result"
    }
   ],
   "source": [
    "Scaler=StandardScaler()\n",
    "Scaler.fit(data3)"
   ]
  },
  {
   "cell_type": "code",
   "execution_count": 35,
   "metadata": {},
   "outputs": [],
   "source": [
    " data3=pd.DataFrame(Scaler.transform(data3),index=data3.index,columns=data3.columns)"
   ]
  },
  {
   "cell_type": "code",
   "execution_count": 36,
   "metadata": {},
   "outputs": [
    {
     "data": {
      "text/html": [
       "<div>\n",
       "<style scoped>\n",
       "    .dataframe tbody tr th:only-of-type {\n",
       "        vertical-align: middle;\n",
       "    }\n",
       "\n",
       "    .dataframe tbody tr th {\n",
       "        vertical-align: top;\n",
       "    }\n",
       "\n",
       "    .dataframe thead th {\n",
       "        text-align: right;\n",
       "    }\n",
       "</style>\n",
       "<table border=\"1\" class=\"dataframe\">\n",
       "  <thead>\n",
       "    <tr style=\"text-align: right;\">\n",
       "      <th></th>\n",
       "      <th>age</th>\n",
       "      <th>Total_Bilirubin</th>\n",
       "      <th>Direct_Bilirubin</th>\n",
       "      <th>Alkaline_Phosphotase</th>\n",
       "      <th>Alanine_Aminotransferase</th>\n",
       "      <th>Aspartate_Aminotransferase</th>\n",
       "      <th>Albumin</th>\n",
       "    </tr>\n",
       "  </thead>\n",
       "  <tbody>\n",
       "    <tr>\n",
       "      <th>0</th>\n",
       "      <td>1.252098</td>\n",
       "      <td>-0.418878</td>\n",
       "      <td>-0.493964</td>\n",
       "      <td>-0.426715</td>\n",
       "      <td>-0.354665</td>\n",
       "      <td>-0.318393</td>\n",
       "      <td>0.198969</td>\n",
       "    </tr>\n",
       "    <tr>\n",
       "      <th>1</th>\n",
       "      <td>1.066637</td>\n",
       "      <td>1.225171</td>\n",
       "      <td>1.430423</td>\n",
       "      <td>1.682629</td>\n",
       "      <td>-0.091599</td>\n",
       "      <td>-0.034333</td>\n",
       "      <td>0.073157</td>\n",
       "    </tr>\n",
       "    <tr>\n",
       "      <th>2</th>\n",
       "      <td>1.066637</td>\n",
       "      <td>0.644919</td>\n",
       "      <td>0.931508</td>\n",
       "      <td>0.821588</td>\n",
       "      <td>-0.113522</td>\n",
       "      <td>-0.145186</td>\n",
       "      <td>0.198969</td>\n",
       "    </tr>\n",
       "    <tr>\n",
       "      <th>3</th>\n",
       "      <td>0.819356</td>\n",
       "      <td>-0.370523</td>\n",
       "      <td>-0.387054</td>\n",
       "      <td>-0.447314</td>\n",
       "      <td>-0.365626</td>\n",
       "      <td>-0.311465</td>\n",
       "      <td>0.324781</td>\n",
       "    </tr>\n",
       "    <tr>\n",
       "      <th>4</th>\n",
       "      <td>1.684839</td>\n",
       "      <td>0.096902</td>\n",
       "      <td>0.183135</td>\n",
       "      <td>-0.393756</td>\n",
       "      <td>-0.294379</td>\n",
       "      <td>-0.176363</td>\n",
       "      <td>-0.933340</td>\n",
       "    </tr>\n",
       "  </tbody>\n",
       "</table>\n",
       "</div>"
      ],
      "text/plain": [
       "        age  Total_Bilirubin  Direct_Bilirubin  Alkaline_Phosphotase  \\\n",
       "0  1.252098        -0.418878         -0.493964             -0.426715   \n",
       "1  1.066637         1.225171          1.430423              1.682629   \n",
       "2  1.066637         0.644919          0.931508              0.821588   \n",
       "3  0.819356        -0.370523         -0.387054             -0.447314   \n",
       "4  1.684839         0.096902          0.183135             -0.393756   \n",
       "\n",
       "   Alanine_Aminotransferase  Aspartate_Aminotransferase   Albumin  \n",
       "0                 -0.354665                   -0.318393  0.198969  \n",
       "1                 -0.091599                   -0.034333  0.073157  \n",
       "2                 -0.113522                   -0.145186  0.198969  \n",
       "3                 -0.365626                   -0.311465  0.324781  \n",
       "4                 -0.294379                   -0.176363 -0.933340  "
      ]
     },
     "execution_count": 36,
     "metadata": {},
     "output_type": "execute_result"
    }
   ],
   "source": [
    "data3.head()"
   ]
  },
  {
   "cell_type": "code",
   "execution_count": 37,
   "metadata": {},
   "outputs": [],
   "source": [
    "x= data3\n",
    "y= target"
   ]
  },
  {
   "cell_type": "code",
   "execution_count": 38,
   "metadata": {},
   "outputs": [],
   "source": [
    "x_train, x_test, y_train, y_test = train_test_split(x,y, test_size=0.3, random_state=42)"
   ]
  },
  {
   "cell_type": "code",
   "execution_count": 39,
   "metadata": {},
   "outputs": [
    {
     "data": {
      "text/plain": [
       "((408, 7), (175, 7), (408,), (175,))"
      ]
     },
     "execution_count": 39,
     "metadata": {},
     "output_type": "execute_result"
    }
   ],
   "source": [
    "x_train.shape,x_test.shape,y_train.shape,y_test.shape"
   ]
  },
  {
   "cell_type": "code",
   "execution_count": 40,
   "metadata": {},
   "outputs": [],
   "source": [
    "rf = RandomForestClassifier()"
   ]
  },
  {
   "cell_type": "code",
   "execution_count": 41,
   "metadata": {},
   "outputs": [
    {
     "data": {
      "text/plain": [
       "RandomForestClassifier()"
      ]
     },
     "execution_count": 41,
     "metadata": {},
     "output_type": "execute_result"
    }
   ],
   "source": [
    "rf.fit(x_train,y_train)"
   ]
  },
  {
   "cell_type": "code",
   "execution_count": 42,
   "metadata": {},
   "outputs": [],
   "source": [
    "y_prediction = rf.predict(x_test)"
   ]
  },
  {
   "cell_type": "code",
   "execution_count": 43,
   "metadata": {},
   "outputs": [
    {
     "name": "stdout",
     "output_type": "stream",
     "text": [
      "[[111  17]\n",
      " [ 29  18]]\n",
      "********************\n",
      "              precision    recall  f1-score   support\n",
      "\n",
      "           1       0.79      0.87      0.83       128\n",
      "           2       0.51      0.38      0.44        47\n",
      "\n",
      "    accuracy                           0.74       175\n",
      "   macro avg       0.65      0.63      0.63       175\n",
      "weighted avg       0.72      0.74      0.72       175\n",
      "\n"
     ]
    }
   ],
   "source": [
    "print(confusion_matrix(y_test, y_prediction))\n",
    "print(\"*\"*20)\n",
    "print(classification_report(y_test, y_prediction))"
   ]
  },
  {
   "cell_type": "code",
   "execution_count": 44,
   "metadata": {},
   "outputs": [
    {
     "data": {
      "text/plain": [
       "2    416\n",
       "1    416\n",
       "Name: outcome, dtype: int64"
      ]
     },
     "execution_count": 44,
     "metadata": {},
     "output_type": "execute_result"
    }
   ],
   "source": [
    "smote=SMOTE(sampling_strategy=\"minority\")\n",
    "x_sm, y_sm=smote.fit_sample(x,y)\n",
    "y_sm.value_counts()"
   ]
  },
  {
   "cell_type": "code",
   "execution_count": 45,
   "metadata": {},
   "outputs": [
    {
     "data": {
      "application/vnd.plotly.v1+json": {
       "config": {
        "plotlyServerURL": "https://plot.ly"
       },
       "data": [
        {
         "alignmentgroup": "True",
         "hovertemplate": "index=%{x}<br>value=%{y}<br>color=%{marker.color}<extra></extra>",
         "legendgroup": "",
         "marker": {
          "color": [
           1,
           2
          ],
          "coloraxis": "coloraxis"
         },
         "name": "",
         "offsetgroup": "",
         "orientation": "v",
         "showlegend": false,
         "textposition": "auto",
         "type": "bar",
         "x": [
          2,
          1
         ],
         "xaxis": "x",
         "y": [
          416,
          416
         ],
         "yaxis": "y"
        }
       ],
       "layout": {
        "barmode": "relative",
        "coloraxis": {
         "colorbar": {
          "title": {
           "text": "color"
          }
         },
         "colorscale": [
          [
           0,
           "#0d0887"
          ],
          [
           0.1111111111111111,
           "#46039f"
          ],
          [
           0.2222222222222222,
           "#7201a8"
          ],
          [
           0.3333333333333333,
           "#9c179e"
          ],
          [
           0.4444444444444444,
           "#bd3786"
          ],
          [
           0.5555555555555556,
           "#d8576b"
          ],
          [
           0.6666666666666666,
           "#ed7953"
          ],
          [
           0.7777777777777778,
           "#fb9f3a"
          ],
          [
           0.8888888888888888,
           "#fdca26"
          ],
          [
           1,
           "#f0f921"
          ]
         ]
        },
        "height": 400,
        "legend": {
         "tracegroupgap": 0
        },
        "margin": {
         "t": 60
        },
        "template": {
         "data": {
          "bar": [
           {
            "error_x": {
             "color": "#2a3f5f"
            },
            "error_y": {
             "color": "#2a3f5f"
            },
            "marker": {
             "line": {
              "color": "#E5ECF6",
              "width": 0.5
             }
            },
            "type": "bar"
           }
          ],
          "barpolar": [
           {
            "marker": {
             "line": {
              "color": "#E5ECF6",
              "width": 0.5
             }
            },
            "type": "barpolar"
           }
          ],
          "carpet": [
           {
            "aaxis": {
             "endlinecolor": "#2a3f5f",
             "gridcolor": "white",
             "linecolor": "white",
             "minorgridcolor": "white",
             "startlinecolor": "#2a3f5f"
            },
            "baxis": {
             "endlinecolor": "#2a3f5f",
             "gridcolor": "white",
             "linecolor": "white",
             "minorgridcolor": "white",
             "startlinecolor": "#2a3f5f"
            },
            "type": "carpet"
           }
          ],
          "choropleth": [
           {
            "colorbar": {
             "outlinewidth": 0,
             "ticks": ""
            },
            "type": "choropleth"
           }
          ],
          "contour": [
           {
            "colorbar": {
             "outlinewidth": 0,
             "ticks": ""
            },
            "colorscale": [
             [
              0,
              "#0d0887"
             ],
             [
              0.1111111111111111,
              "#46039f"
             ],
             [
              0.2222222222222222,
              "#7201a8"
             ],
             [
              0.3333333333333333,
              "#9c179e"
             ],
             [
              0.4444444444444444,
              "#bd3786"
             ],
             [
              0.5555555555555556,
              "#d8576b"
             ],
             [
              0.6666666666666666,
              "#ed7953"
             ],
             [
              0.7777777777777778,
              "#fb9f3a"
             ],
             [
              0.8888888888888888,
              "#fdca26"
             ],
             [
              1,
              "#f0f921"
             ]
            ],
            "type": "contour"
           }
          ],
          "contourcarpet": [
           {
            "colorbar": {
             "outlinewidth": 0,
             "ticks": ""
            },
            "type": "contourcarpet"
           }
          ],
          "heatmap": [
           {
            "colorbar": {
             "outlinewidth": 0,
             "ticks": ""
            },
            "colorscale": [
             [
              0,
              "#0d0887"
             ],
             [
              0.1111111111111111,
              "#46039f"
             ],
             [
              0.2222222222222222,
              "#7201a8"
             ],
             [
              0.3333333333333333,
              "#9c179e"
             ],
             [
              0.4444444444444444,
              "#bd3786"
             ],
             [
              0.5555555555555556,
              "#d8576b"
             ],
             [
              0.6666666666666666,
              "#ed7953"
             ],
             [
              0.7777777777777778,
              "#fb9f3a"
             ],
             [
              0.8888888888888888,
              "#fdca26"
             ],
             [
              1,
              "#f0f921"
             ]
            ],
            "type": "heatmap"
           }
          ],
          "heatmapgl": [
           {
            "colorbar": {
             "outlinewidth": 0,
             "ticks": ""
            },
            "colorscale": [
             [
              0,
              "#0d0887"
             ],
             [
              0.1111111111111111,
              "#46039f"
             ],
             [
              0.2222222222222222,
              "#7201a8"
             ],
             [
              0.3333333333333333,
              "#9c179e"
             ],
             [
              0.4444444444444444,
              "#bd3786"
             ],
             [
              0.5555555555555556,
              "#d8576b"
             ],
             [
              0.6666666666666666,
              "#ed7953"
             ],
             [
              0.7777777777777778,
              "#fb9f3a"
             ],
             [
              0.8888888888888888,
              "#fdca26"
             ],
             [
              1,
              "#f0f921"
             ]
            ],
            "type": "heatmapgl"
           }
          ],
          "histogram": [
           {
            "marker": {
             "colorbar": {
              "outlinewidth": 0,
              "ticks": ""
             }
            },
            "type": "histogram"
           }
          ],
          "histogram2d": [
           {
            "colorbar": {
             "outlinewidth": 0,
             "ticks": ""
            },
            "colorscale": [
             [
              0,
              "#0d0887"
             ],
             [
              0.1111111111111111,
              "#46039f"
             ],
             [
              0.2222222222222222,
              "#7201a8"
             ],
             [
              0.3333333333333333,
              "#9c179e"
             ],
             [
              0.4444444444444444,
              "#bd3786"
             ],
             [
              0.5555555555555556,
              "#d8576b"
             ],
             [
              0.6666666666666666,
              "#ed7953"
             ],
             [
              0.7777777777777778,
              "#fb9f3a"
             ],
             [
              0.8888888888888888,
              "#fdca26"
             ],
             [
              1,
              "#f0f921"
             ]
            ],
            "type": "histogram2d"
           }
          ],
          "histogram2dcontour": [
           {
            "colorbar": {
             "outlinewidth": 0,
             "ticks": ""
            },
            "colorscale": [
             [
              0,
              "#0d0887"
             ],
             [
              0.1111111111111111,
              "#46039f"
             ],
             [
              0.2222222222222222,
              "#7201a8"
             ],
             [
              0.3333333333333333,
              "#9c179e"
             ],
             [
              0.4444444444444444,
              "#bd3786"
             ],
             [
              0.5555555555555556,
              "#d8576b"
             ],
             [
              0.6666666666666666,
              "#ed7953"
             ],
             [
              0.7777777777777778,
              "#fb9f3a"
             ],
             [
              0.8888888888888888,
              "#fdca26"
             ],
             [
              1,
              "#f0f921"
             ]
            ],
            "type": "histogram2dcontour"
           }
          ],
          "mesh3d": [
           {
            "colorbar": {
             "outlinewidth": 0,
             "ticks": ""
            },
            "type": "mesh3d"
           }
          ],
          "parcoords": [
           {
            "line": {
             "colorbar": {
              "outlinewidth": 0,
              "ticks": ""
             }
            },
            "type": "parcoords"
           }
          ],
          "pie": [
           {
            "automargin": true,
            "type": "pie"
           }
          ],
          "scatter": [
           {
            "marker": {
             "colorbar": {
              "outlinewidth": 0,
              "ticks": ""
             }
            },
            "type": "scatter"
           }
          ],
          "scatter3d": [
           {
            "line": {
             "colorbar": {
              "outlinewidth": 0,
              "ticks": ""
             }
            },
            "marker": {
             "colorbar": {
              "outlinewidth": 0,
              "ticks": ""
             }
            },
            "type": "scatter3d"
           }
          ],
          "scattercarpet": [
           {
            "marker": {
             "colorbar": {
              "outlinewidth": 0,
              "ticks": ""
             }
            },
            "type": "scattercarpet"
           }
          ],
          "scattergeo": [
           {
            "marker": {
             "colorbar": {
              "outlinewidth": 0,
              "ticks": ""
             }
            },
            "type": "scattergeo"
           }
          ],
          "scattergl": [
           {
            "marker": {
             "colorbar": {
              "outlinewidth": 0,
              "ticks": ""
             }
            },
            "type": "scattergl"
           }
          ],
          "scattermapbox": [
           {
            "marker": {
             "colorbar": {
              "outlinewidth": 0,
              "ticks": ""
             }
            },
            "type": "scattermapbox"
           }
          ],
          "scatterpolar": [
           {
            "marker": {
             "colorbar": {
              "outlinewidth": 0,
              "ticks": ""
             }
            },
            "type": "scatterpolar"
           }
          ],
          "scatterpolargl": [
           {
            "marker": {
             "colorbar": {
              "outlinewidth": 0,
              "ticks": ""
             }
            },
            "type": "scatterpolargl"
           }
          ],
          "scatterternary": [
           {
            "marker": {
             "colorbar": {
              "outlinewidth": 0,
              "ticks": ""
             }
            },
            "type": "scatterternary"
           }
          ],
          "surface": [
           {
            "colorbar": {
             "outlinewidth": 0,
             "ticks": ""
            },
            "colorscale": [
             [
              0,
              "#0d0887"
             ],
             [
              0.1111111111111111,
              "#46039f"
             ],
             [
              0.2222222222222222,
              "#7201a8"
             ],
             [
              0.3333333333333333,
              "#9c179e"
             ],
             [
              0.4444444444444444,
              "#bd3786"
             ],
             [
              0.5555555555555556,
              "#d8576b"
             ],
             [
              0.6666666666666666,
              "#ed7953"
             ],
             [
              0.7777777777777778,
              "#fb9f3a"
             ],
             [
              0.8888888888888888,
              "#fdca26"
             ],
             [
              1,
              "#f0f921"
             ]
            ],
            "type": "surface"
           }
          ],
          "table": [
           {
            "cells": {
             "fill": {
              "color": "#EBF0F8"
             },
             "line": {
              "color": "white"
             }
            },
            "header": {
             "fill": {
              "color": "#C8D4E3"
             },
             "line": {
              "color": "white"
             }
            },
            "type": "table"
           }
          ]
         },
         "layout": {
          "annotationdefaults": {
           "arrowcolor": "#2a3f5f",
           "arrowhead": 0,
           "arrowwidth": 1
          },
          "autotypenumbers": "strict",
          "coloraxis": {
           "colorbar": {
            "outlinewidth": 0,
            "ticks": ""
           }
          },
          "colorscale": {
           "diverging": [
            [
             0,
             "#8e0152"
            ],
            [
             0.1,
             "#c51b7d"
            ],
            [
             0.2,
             "#de77ae"
            ],
            [
             0.3,
             "#f1b6da"
            ],
            [
             0.4,
             "#fde0ef"
            ],
            [
             0.5,
             "#f7f7f7"
            ],
            [
             0.6,
             "#e6f5d0"
            ],
            [
             0.7,
             "#b8e186"
            ],
            [
             0.8,
             "#7fbc41"
            ],
            [
             0.9,
             "#4d9221"
            ],
            [
             1,
             "#276419"
            ]
           ],
           "sequential": [
            [
             0,
             "#0d0887"
            ],
            [
             0.1111111111111111,
             "#46039f"
            ],
            [
             0.2222222222222222,
             "#7201a8"
            ],
            [
             0.3333333333333333,
             "#9c179e"
            ],
            [
             0.4444444444444444,
             "#bd3786"
            ],
            [
             0.5555555555555556,
             "#d8576b"
            ],
            [
             0.6666666666666666,
             "#ed7953"
            ],
            [
             0.7777777777777778,
             "#fb9f3a"
            ],
            [
             0.8888888888888888,
             "#fdca26"
            ],
            [
             1,
             "#f0f921"
            ]
           ],
           "sequentialminus": [
            [
             0,
             "#0d0887"
            ],
            [
             0.1111111111111111,
             "#46039f"
            ],
            [
             0.2222222222222222,
             "#7201a8"
            ],
            [
             0.3333333333333333,
             "#9c179e"
            ],
            [
             0.4444444444444444,
             "#bd3786"
            ],
            [
             0.5555555555555556,
             "#d8576b"
            ],
            [
             0.6666666666666666,
             "#ed7953"
            ],
            [
             0.7777777777777778,
             "#fb9f3a"
            ],
            [
             0.8888888888888888,
             "#fdca26"
            ],
            [
             1,
             "#f0f921"
            ]
           ]
          },
          "colorway": [
           "#636efa",
           "#EF553B",
           "#00cc96",
           "#ab63fa",
           "#FFA15A",
           "#19d3f3",
           "#FF6692",
           "#B6E880",
           "#FF97FF",
           "#FECB52"
          ],
          "font": {
           "color": "#2a3f5f"
          },
          "geo": {
           "bgcolor": "white",
           "lakecolor": "white",
           "landcolor": "#E5ECF6",
           "showlakes": true,
           "showland": true,
           "subunitcolor": "white"
          },
          "hoverlabel": {
           "align": "left"
          },
          "hovermode": "closest",
          "mapbox": {
           "style": "light"
          },
          "paper_bgcolor": "white",
          "plot_bgcolor": "#E5ECF6",
          "polar": {
           "angularaxis": {
            "gridcolor": "white",
            "linecolor": "white",
            "ticks": ""
           },
           "bgcolor": "#E5ECF6",
           "radialaxis": {
            "gridcolor": "white",
            "linecolor": "white",
            "ticks": ""
           }
          },
          "scene": {
           "xaxis": {
            "backgroundcolor": "#E5ECF6",
            "gridcolor": "white",
            "gridwidth": 2,
            "linecolor": "white",
            "showbackground": true,
            "ticks": "",
            "zerolinecolor": "white"
           },
           "yaxis": {
            "backgroundcolor": "#E5ECF6",
            "gridcolor": "white",
            "gridwidth": 2,
            "linecolor": "white",
            "showbackground": true,
            "ticks": "",
            "zerolinecolor": "white"
           },
           "zaxis": {
            "backgroundcolor": "#E5ECF6",
            "gridcolor": "white",
            "gridwidth": 2,
            "linecolor": "white",
            "showbackground": true,
            "ticks": "",
            "zerolinecolor": "white"
           }
          },
          "shapedefaults": {
           "line": {
            "color": "#2a3f5f"
           }
          },
          "ternary": {
           "aaxis": {
            "gridcolor": "white",
            "linecolor": "white",
            "ticks": ""
           },
           "baxis": {
            "gridcolor": "white",
            "linecolor": "white",
            "ticks": ""
           },
           "bgcolor": "#E5ECF6",
           "caxis": {
            "gridcolor": "white",
            "linecolor": "white",
            "ticks": ""
           }
          },
          "title": {
           "x": 0.05
          },
          "xaxis": {
           "automargin": true,
           "gridcolor": "white",
           "linecolor": "white",
           "ticks": "",
           "title": {
            "standoff": 15
           },
           "zerolinecolor": "white",
           "zerolinewidth": 2
          },
          "yaxis": {
           "automargin": true,
           "gridcolor": "white",
           "linecolor": "white",
           "ticks": "",
           "title": {
            "standoff": 15
           },
           "zerolinecolor": "white",
           "zerolinewidth": 2
          }
         }
        },
        "width": 400,
        "xaxis": {
         "anchor": "y",
         "domain": [
          0,
          1
         ],
         "title": {
          "text": "index"
         }
        },
        "yaxis": {
         "anchor": "x",
         "domain": [
          0,
          1
         ],
         "title": {
          "text": "value"
         }
        }
       }
      },
      "text/html": [
       "<div>                            <div id=\"60170da6-f62b-46cf-9f6e-94c630ee1fd4\" class=\"plotly-graph-div\" style=\"height:400px; width:400px;\"></div>            <script type=\"text/javascript\">                require([\"plotly\"], function(Plotly) {                    window.PLOTLYENV=window.PLOTLYENV || {};                                    if (document.getElementById(\"60170da6-f62b-46cf-9f6e-94c630ee1fd4\")) {                    Plotly.newPlot(                        \"60170da6-f62b-46cf-9f6e-94c630ee1fd4\",                        [{\"alignmentgroup\": \"True\", \"hovertemplate\": \"index=%{x}<br>value=%{y}<br>color=%{marker.color}<extra></extra>\", \"legendgroup\": \"\", \"marker\": {\"color\": [1, 2], \"coloraxis\": \"coloraxis\"}, \"name\": \"\", \"offsetgroup\": \"\", \"orientation\": \"v\", \"showlegend\": false, \"textposition\": \"auto\", \"type\": \"bar\", \"x\": [2, 1], \"xaxis\": \"x\", \"y\": [416, 416], \"yaxis\": \"y\"}],                        {\"barmode\": \"relative\", \"coloraxis\": {\"colorbar\": {\"title\": {\"text\": \"color\"}}, \"colorscale\": [[0.0, \"#0d0887\"], [0.1111111111111111, \"#46039f\"], [0.2222222222222222, \"#7201a8\"], [0.3333333333333333, \"#9c179e\"], [0.4444444444444444, \"#bd3786\"], [0.5555555555555556, \"#d8576b\"], [0.6666666666666666, \"#ed7953\"], [0.7777777777777778, \"#fb9f3a\"], [0.8888888888888888, \"#fdca26\"], [1.0, \"#f0f921\"]]}, \"height\": 400, \"legend\": {\"tracegroupgap\": 0}, \"margin\": {\"t\": 60}, \"template\": {\"data\": {\"bar\": [{\"error_x\": {\"color\": \"#2a3f5f\"}, \"error_y\": {\"color\": \"#2a3f5f\"}, \"marker\": {\"line\": {\"color\": \"#E5ECF6\", \"width\": 0.5}}, \"type\": \"bar\"}], \"barpolar\": [{\"marker\": {\"line\": {\"color\": \"#E5ECF6\", \"width\": 0.5}}, \"type\": \"barpolar\"}], \"carpet\": [{\"aaxis\": {\"endlinecolor\": \"#2a3f5f\", \"gridcolor\": \"white\", \"linecolor\": \"white\", \"minorgridcolor\": \"white\", \"startlinecolor\": \"#2a3f5f\"}, \"baxis\": {\"endlinecolor\": \"#2a3f5f\", \"gridcolor\": \"white\", \"linecolor\": \"white\", \"minorgridcolor\": \"white\", \"startlinecolor\": \"#2a3f5f\"}, \"type\": \"carpet\"}], \"choropleth\": [{\"colorbar\": {\"outlinewidth\": 0, \"ticks\": \"\"}, \"type\": \"choropleth\"}], \"contour\": [{\"colorbar\": {\"outlinewidth\": 0, \"ticks\": \"\"}, \"colorscale\": [[0.0, \"#0d0887\"], [0.1111111111111111, \"#46039f\"], [0.2222222222222222, \"#7201a8\"], [0.3333333333333333, \"#9c179e\"], [0.4444444444444444, \"#bd3786\"], [0.5555555555555556, \"#d8576b\"], [0.6666666666666666, \"#ed7953\"], [0.7777777777777778, \"#fb9f3a\"], [0.8888888888888888, \"#fdca26\"], [1.0, \"#f0f921\"]], \"type\": \"contour\"}], \"contourcarpet\": [{\"colorbar\": {\"outlinewidth\": 0, \"ticks\": \"\"}, \"type\": \"contourcarpet\"}], \"heatmap\": [{\"colorbar\": {\"outlinewidth\": 0, \"ticks\": \"\"}, \"colorscale\": [[0.0, \"#0d0887\"], [0.1111111111111111, \"#46039f\"], [0.2222222222222222, \"#7201a8\"], [0.3333333333333333, \"#9c179e\"], [0.4444444444444444, \"#bd3786\"], [0.5555555555555556, \"#d8576b\"], [0.6666666666666666, \"#ed7953\"], [0.7777777777777778, \"#fb9f3a\"], [0.8888888888888888, \"#fdca26\"], [1.0, \"#f0f921\"]], \"type\": \"heatmap\"}], \"heatmapgl\": [{\"colorbar\": {\"outlinewidth\": 0, \"ticks\": \"\"}, \"colorscale\": [[0.0, \"#0d0887\"], [0.1111111111111111, \"#46039f\"], [0.2222222222222222, \"#7201a8\"], [0.3333333333333333, \"#9c179e\"], [0.4444444444444444, \"#bd3786\"], [0.5555555555555556, \"#d8576b\"], [0.6666666666666666, \"#ed7953\"], [0.7777777777777778, \"#fb9f3a\"], [0.8888888888888888, \"#fdca26\"], [1.0, \"#f0f921\"]], \"type\": \"heatmapgl\"}], \"histogram\": [{\"marker\": {\"colorbar\": {\"outlinewidth\": 0, \"ticks\": \"\"}}, \"type\": \"histogram\"}], \"histogram2d\": [{\"colorbar\": {\"outlinewidth\": 0, \"ticks\": \"\"}, \"colorscale\": [[0.0, \"#0d0887\"], [0.1111111111111111, \"#46039f\"], [0.2222222222222222, \"#7201a8\"], [0.3333333333333333, \"#9c179e\"], [0.4444444444444444, \"#bd3786\"], [0.5555555555555556, \"#d8576b\"], [0.6666666666666666, \"#ed7953\"], [0.7777777777777778, \"#fb9f3a\"], [0.8888888888888888, \"#fdca26\"], [1.0, \"#f0f921\"]], \"type\": \"histogram2d\"}], \"histogram2dcontour\": [{\"colorbar\": {\"outlinewidth\": 0, \"ticks\": \"\"}, \"colorscale\": [[0.0, \"#0d0887\"], [0.1111111111111111, \"#46039f\"], [0.2222222222222222, \"#7201a8\"], [0.3333333333333333, \"#9c179e\"], [0.4444444444444444, \"#bd3786\"], [0.5555555555555556, \"#d8576b\"], [0.6666666666666666, \"#ed7953\"], [0.7777777777777778, \"#fb9f3a\"], [0.8888888888888888, \"#fdca26\"], [1.0, \"#f0f921\"]], \"type\": \"histogram2dcontour\"}], \"mesh3d\": [{\"colorbar\": {\"outlinewidth\": 0, \"ticks\": \"\"}, \"type\": \"mesh3d\"}], \"parcoords\": [{\"line\": {\"colorbar\": {\"outlinewidth\": 0, \"ticks\": \"\"}}, \"type\": \"parcoords\"}], \"pie\": [{\"automargin\": true, \"type\": \"pie\"}], \"scatter\": [{\"marker\": {\"colorbar\": {\"outlinewidth\": 0, \"ticks\": \"\"}}, \"type\": \"scatter\"}], \"scatter3d\": [{\"line\": {\"colorbar\": {\"outlinewidth\": 0, \"ticks\": \"\"}}, \"marker\": {\"colorbar\": {\"outlinewidth\": 0, \"ticks\": \"\"}}, \"type\": \"scatter3d\"}], \"scattercarpet\": [{\"marker\": {\"colorbar\": {\"outlinewidth\": 0, \"ticks\": \"\"}}, \"type\": \"scattercarpet\"}], \"scattergeo\": [{\"marker\": {\"colorbar\": {\"outlinewidth\": 0, \"ticks\": \"\"}}, \"type\": \"scattergeo\"}], \"scattergl\": [{\"marker\": {\"colorbar\": {\"outlinewidth\": 0, \"ticks\": \"\"}}, \"type\": \"scattergl\"}], \"scattermapbox\": [{\"marker\": {\"colorbar\": {\"outlinewidth\": 0, \"ticks\": \"\"}}, \"type\": \"scattermapbox\"}], \"scatterpolar\": [{\"marker\": {\"colorbar\": {\"outlinewidth\": 0, \"ticks\": \"\"}}, \"type\": \"scatterpolar\"}], \"scatterpolargl\": [{\"marker\": {\"colorbar\": {\"outlinewidth\": 0, \"ticks\": \"\"}}, \"type\": \"scatterpolargl\"}], \"scatterternary\": [{\"marker\": {\"colorbar\": {\"outlinewidth\": 0, \"ticks\": \"\"}}, \"type\": \"scatterternary\"}], \"surface\": [{\"colorbar\": {\"outlinewidth\": 0, \"ticks\": \"\"}, \"colorscale\": [[0.0, \"#0d0887\"], [0.1111111111111111, \"#46039f\"], [0.2222222222222222, \"#7201a8\"], [0.3333333333333333, \"#9c179e\"], [0.4444444444444444, \"#bd3786\"], [0.5555555555555556, \"#d8576b\"], [0.6666666666666666, \"#ed7953\"], [0.7777777777777778, \"#fb9f3a\"], [0.8888888888888888, \"#fdca26\"], [1.0, \"#f0f921\"]], \"type\": \"surface\"}], \"table\": [{\"cells\": {\"fill\": {\"color\": \"#EBF0F8\"}, \"line\": {\"color\": \"white\"}}, \"header\": {\"fill\": {\"color\": \"#C8D4E3\"}, \"line\": {\"color\": \"white\"}}, \"type\": \"table\"}]}, \"layout\": {\"annotationdefaults\": {\"arrowcolor\": \"#2a3f5f\", \"arrowhead\": 0, \"arrowwidth\": 1}, \"autotypenumbers\": \"strict\", \"coloraxis\": {\"colorbar\": {\"outlinewidth\": 0, \"ticks\": \"\"}}, \"colorscale\": {\"diverging\": [[0, \"#8e0152\"], [0.1, \"#c51b7d\"], [0.2, \"#de77ae\"], [0.3, \"#f1b6da\"], [0.4, \"#fde0ef\"], [0.5, \"#f7f7f7\"], [0.6, \"#e6f5d0\"], [0.7, \"#b8e186\"], [0.8, \"#7fbc41\"], [0.9, \"#4d9221\"], [1, \"#276419\"]], \"sequential\": [[0.0, \"#0d0887\"], [0.1111111111111111, \"#46039f\"], [0.2222222222222222, \"#7201a8\"], [0.3333333333333333, \"#9c179e\"], [0.4444444444444444, \"#bd3786\"], [0.5555555555555556, \"#d8576b\"], [0.6666666666666666, \"#ed7953\"], [0.7777777777777778, \"#fb9f3a\"], [0.8888888888888888, \"#fdca26\"], [1.0, \"#f0f921\"]], \"sequentialminus\": [[0.0, \"#0d0887\"], [0.1111111111111111, \"#46039f\"], [0.2222222222222222, \"#7201a8\"], [0.3333333333333333, \"#9c179e\"], [0.4444444444444444, \"#bd3786\"], [0.5555555555555556, \"#d8576b\"], [0.6666666666666666, \"#ed7953\"], [0.7777777777777778, \"#fb9f3a\"], [0.8888888888888888, \"#fdca26\"], [1.0, \"#f0f921\"]]}, \"colorway\": [\"#636efa\", \"#EF553B\", \"#00cc96\", \"#ab63fa\", \"#FFA15A\", \"#19d3f3\", \"#FF6692\", \"#B6E880\", \"#FF97FF\", \"#FECB52\"], \"font\": {\"color\": \"#2a3f5f\"}, \"geo\": {\"bgcolor\": \"white\", \"lakecolor\": \"white\", \"landcolor\": \"#E5ECF6\", \"showlakes\": true, \"showland\": true, \"subunitcolor\": \"white\"}, \"hoverlabel\": {\"align\": \"left\"}, \"hovermode\": \"closest\", \"mapbox\": {\"style\": \"light\"}, \"paper_bgcolor\": \"white\", \"plot_bgcolor\": \"#E5ECF6\", \"polar\": {\"angularaxis\": {\"gridcolor\": \"white\", \"linecolor\": \"white\", \"ticks\": \"\"}, \"bgcolor\": \"#E5ECF6\", \"radialaxis\": {\"gridcolor\": \"white\", \"linecolor\": \"white\", \"ticks\": \"\"}}, \"scene\": {\"xaxis\": {\"backgroundcolor\": \"#E5ECF6\", \"gridcolor\": \"white\", \"gridwidth\": 2, \"linecolor\": \"white\", \"showbackground\": true, \"ticks\": \"\", \"zerolinecolor\": \"white\"}, \"yaxis\": {\"backgroundcolor\": \"#E5ECF6\", \"gridcolor\": \"white\", \"gridwidth\": 2, \"linecolor\": \"white\", \"showbackground\": true, \"ticks\": \"\", \"zerolinecolor\": \"white\"}, \"zaxis\": {\"backgroundcolor\": \"#E5ECF6\", \"gridcolor\": \"white\", \"gridwidth\": 2, \"linecolor\": \"white\", \"showbackground\": true, \"ticks\": \"\", \"zerolinecolor\": \"white\"}}, \"shapedefaults\": {\"line\": {\"color\": \"#2a3f5f\"}}, \"ternary\": {\"aaxis\": {\"gridcolor\": \"white\", \"linecolor\": \"white\", \"ticks\": \"\"}, \"baxis\": {\"gridcolor\": \"white\", \"linecolor\": \"white\", \"ticks\": \"\"}, \"bgcolor\": \"#E5ECF6\", \"caxis\": {\"gridcolor\": \"white\", \"linecolor\": \"white\", \"ticks\": \"\"}}, \"title\": {\"x\": 0.05}, \"xaxis\": {\"automargin\": true, \"gridcolor\": \"white\", \"linecolor\": \"white\", \"ticks\": \"\", \"title\": {\"standoff\": 15}, \"zerolinecolor\": \"white\", \"zerolinewidth\": 2}, \"yaxis\": {\"automargin\": true, \"gridcolor\": \"white\", \"linecolor\": \"white\", \"ticks\": \"\", \"title\": {\"standoff\": 15}, \"zerolinecolor\": \"white\", \"zerolinewidth\": 2}}}, \"width\": 400, \"xaxis\": {\"anchor\": \"y\", \"domain\": [0.0, 1.0], \"title\": {\"text\": \"index\"}}, \"yaxis\": {\"anchor\": \"x\", \"domain\": [0.0, 1.0], \"title\": {\"text\": \"value\"}}},                        {\"responsive\": true}                    ).then(function(){\n",
       "                            \n",
       "var gd = document.getElementById('60170da6-f62b-46cf-9f6e-94c630ee1fd4');\n",
       "var x = new MutationObserver(function (mutations, observer) {{\n",
       "        var display = window.getComputedStyle(gd).display;\n",
       "        if (!display || display === 'none') {{\n",
       "            console.log([gd, 'removed!']);\n",
       "            Plotly.purge(gd);\n",
       "            observer.disconnect();\n",
       "        }}\n",
       "}});\n",
       "\n",
       "// Listen for the removal of the full notebook cells\n",
       "var notebookContainer = gd.closest('#notebook-container');\n",
       "if (notebookContainer) {{\n",
       "    x.observe(notebookContainer, {childList: true});\n",
       "}}\n",
       "\n",
       "// Listen for the clearing of the current output cell\n",
       "var outputEl = gd.closest('.output');\n",
       "if (outputEl) {{\n",
       "    x.observe(outputEl, {childList: true});\n",
       "}}\n",
       "\n",
       "                        })                };                });            </script>        </div>"
      ]
     },
     "metadata": {},
     "output_type": "display_data"
    }
   ],
   "source": [
    "px.bar(y_sm.value_counts(), color=y_sm.unique(), height=400, width=400)"
   ]
  },
  {
   "cell_type": "code",
   "execution_count": 46,
   "metadata": {},
   "outputs": [
    {
     "name": "stdout",
     "output_type": "stream",
     "text": [
      "age\n",
      "0.05673000894268439\n"
     ]
    },
    {
     "data": {
      "image/png": "[encoded data removed]",
      "text/plain": [
       "<Figure size 432x288 with 1 Axes>"
      ]
     },
     "metadata": {
      "needs_background": "light"
     },
     "output_type": "display_data"
    },
    {
     "name": "stdout",
     "output_type": "stream",
     "text": [
      "Total_Bilirubin\n",
      "5.809740831564766\n"
     ]
    },
    {
     "data": {
      "image/png": "[encoded data removed]",
      "text/plain": [
       "<Figure size 432x288 with 1 Axes>"
      ]
     },
     "metadata": {
      "needs_background": "light"
     },
     "output_type": "display_data"
    },
    {
     "name": "stdout",
     "output_type": "stream",
     "text": [
      "Direct_Bilirubin\n",
      "3.8976384341586874\n"
     ]
    },
    {
     "data": {
      "image/png": "[encoded data removed]",
      "text/plain": [
       "<Figure size 432x288 with 1 Axes>"
      ]
     },
     "metadata": {
      "needs_background": "light"
     },
     "output_type": "display_data"
    },
    {
     "name": "stdout",
     "output_type": "stream",
     "text": [
      "Alkaline_Phosphotase\n",
      "4.315889683056711\n"
     ]
    },
    {
     "data": {
      "image/png": "[encoded data removed]",
      "text/plain": [
       "<Figure size 432x288 with 1 Axes>"
      ]
     },
     "metadata": {
      "needs_background": "light"
     },
     "output_type": "display_data"
    },
    {
     "name": "stdout",
     "output_type": "stream",
     "text": [
      "Alanine_Aminotransferase\n",
      "7.793178379079573\n"
     ]
    },
    {
     "data": {
      "image/png": "[encoded data removed]",
      "text/plain": [
       "<Figure size 432x288 with 1 Axes>"
      ]
     },
     "metadata": {
      "needs_background": "light"
     },
     "output_type": "display_data"
    },
    {
     "name": "stdout",
     "output_type": "stream",
     "text": [
      "Aspartate_Aminotransferase\n",
      "12.420306187310073\n"
     ]
    },
    {
     "data": {
      "image/png": "[encoded data removed]",
      "text/plain": [
       "<Figure size 432x288 with 1 Axes>"
      ]
     },
     "metadata": {
      "needs_background": "light"
     },
     "output_type": "display_data"
    },
    {
     "name": "stdout",
     "output_type": "stream",
     "text": [
      "Albumin\n",
      "-0.13859324240351462\n"
     ]
    },
    {
     "data": {
      "image/png": "[encoded data removed]",
      "text/plain": [
       "<Figure size 432x288 with 1 Axes>"
      ]
     },
     "metadata": {
      "needs_background": "light"
     },
     "output_type": "display_data"
    }
   ],
   "source": [
    "for col in x_sm:\n",
    "    print(col)\n",
    "    print(skew(x_sm[col]))\n",
    "    \n",
    "    plt.figure()\n",
    "    sns.distplot(x_sm[col])\n",
    "    plt.show()"
   ]
  },
  {
   "cell_type": "code",
   "execution_count": 47,
   "metadata": {},
   "outputs": [],
   "source": [
    "x_train, x_test, y_train, y_test = train_test_split(x_sm,y_sm, test_size=0.3, random_state=42, stratify=y_sm)"
   ]
  },
  {
   "cell_type": "code",
   "execution_count": 48,
   "metadata": {},
   "outputs": [
    {
     "data": {
      "text/plain": [
       "RandomForestClassifier()"
      ]
     },
     "execution_count": 48,
     "metadata": {},
     "output_type": "execute_result"
    }
   ],
   "source": [
    "model_rf = RandomForestClassifier()\n",
    "model_rf.fit(x_train,y_train)"
   ]
  },
  {
   "cell_type": "code",
   "execution_count": 49,
   "metadata": {},
   "outputs": [],
   "source": [
    "# Predicting the model\n",
    "y_predict_rf = model_rf.predict(x_test)"
   ]
  },
  {
   "cell_type": "code",
   "execution_count": 50,
   "metadata": {},
   "outputs": [
    {
     "name": "stdout",
     "output_type": "stream",
     "text": [
      "Accuracy score =  0.804\n",
      "####################\n",
      "Confusion matrix \n",
      " [[ 92  33]\n",
      " [ 16 109]]\n",
      "####################\n",
      "Classification report \n",
      "               precision    recall  f1-score   support\n",
      "\n",
      "           1       0.85      0.74      0.79       125\n",
      "           2       0.77      0.87      0.82       125\n",
      "\n",
      "    accuracy                           0.80       250\n",
      "   macro avg       0.81      0.80      0.80       250\n",
      "weighted avg       0.81      0.80      0.80       250\n",
      "\n"
     ]
    }
   ],
   "source": [
    "print(\"Accuracy score = \",accuracy_score(y_test,y_predict_rf))\n",
    "print(\"#\"*20)\n",
    "print(\"Confusion matrix \\n\",confusion_matrix(y_test,y_predict_rf))\n",
    "print(\"#\"*20)\n",
    "print(\"Classification report \\n\",classification_report(y_test,y_predict_rf))"
   ]
  },
  {
   "cell_type": "code",
   "execution_count": 51,
   "metadata": {},
   "outputs": [],
   "source": [
    "# x_train_AML = pd.DataFrame(x_train)\n",
    "# y_train_AML = pd.DataFrame(y_train)"
   ]
  },
  {
   "cell_type": "code",
   "execution_count": 52,
   "metadata": {},
   "outputs": [],
   "source": [
    "# setup(pd.concat([x_train_AML, y_train_AML], axis=1), target='outcome')"
   ]
  },
  {
   "cell_type": "code",
   "execution_count": 53,
   "metadata": {},
   "outputs": [],
   "source": [
    "# compare_models()"
   ]
  },
  {
   "cell_type": "code",
   "execution_count": 54,
   "metadata": {},
   "outputs": [],
   "source": [
    "models = {\n",
    "    \"catboost\": CatBoostClassifier(),\n",
    "    \"Random Forest\": RandomForestClassifier(),\n",
    "    \"Gradient Boosting\": GradientBoostingClassifier(),\n",
    "    \"ExtraTrees\": ExtraTreesClassifier(),\n",
    "    \"Xgboost\" : XGBClassifier(eval_metric='mlogloss'),\n",
    "    \"Lightgbm\" : LGBMClassifier(),\n",
    "    \"Decision Tree\" : DecisionTreeClassifier(),\n",
    "    \"Logistic\": LogisticRegression()\n",
    "}"
   ]
  },
  {
   "cell_type": "code",
   "execution_count": 55,
   "metadata": {},
   "outputs": [
    {
     "name": "stdout",
     "output_type": "stream",
     "text": [
      "Learning rate set to 0.008176\n",
      "0:\tlearn: 0.6903983\ttotal: 165ms\tremaining: 2m 45s\n",
      "1:\tlearn: 0.6872035\ttotal: 172ms\tremaining: 1m 25s\n",
      "2:\tlearn: 0.6837245\ttotal: 179ms\tremaining: 59.5s\n",
      "3:\tlearn: 0.6809885\ttotal: 185ms\tremaining: 46s\n",
      "4:\tlearn: 0.6780973\ttotal: 190ms\tremaining: 37.9s\n",
      "5:\tlearn: 0.6753095\ttotal: 195ms\tremaining: 32.4s\n",
      "6:\tlearn: 0.6726596\ttotal: 200ms\tremaining: 28.4s\n",
      "7:\tlearn: 0.6699266\ttotal: 209ms\tremaining: 25.9s\n",
      "8:\tlearn: 0.6669160\ttotal: 214ms\tremaining: 23.5s\n",
      "9:\tlearn: 0.6641515\ttotal: 218ms\tremaining: 21.6s\n",
      "10:\tlearn: 0.6618410\ttotal: 222ms\tremaining: 19.9s\n",
      "11:\tlearn: 0.6588714\ttotal: 226ms\tremaining: 18.6s\n",
      "12:\tlearn: 0.6565603\ttotal: 230ms\tremaining: 17.4s\n",
      "13:\tlearn: 0.6539848\ttotal: 234ms\tremaining: 16.5s\n",
      "14:\tlearn: 0.6515151\ttotal: 238ms\tremaining: 15.6s\n",
      "15:\tlearn: 0.6490901\ttotal: 242ms\tremaining: 14.9s\n",
      "16:\tlearn: 0.6464068\ttotal: 245ms\tremaining: 14.2s\n",
      "17:\tlearn: 0.6438778\ttotal: 249ms\tremaining: 13.6s\n",
      "18:\tlearn: 0.6413879\ttotal: 253ms\tremaining: 13.1s\n",
      "19:\tlearn: 0.6393246\ttotal: 257ms\tremaining: 12.6s\n",
      "20:\tlearn: 0.6371418\ttotal: 261ms\tremaining: 12.2s\n",
      "21:\tlearn: 0.6348234\ttotal: 265ms\tremaining: 11.8s\n",
      "22:\tlearn: 0.6322338\ttotal: 268ms\tremaining: 11.4s\n",
      "23:\tlearn: 0.6301960\ttotal: 272ms\tremaining: 11.1s\n",
      "24:\tlearn: 0.6284688\ttotal: 276ms\tremaining: 10.8s\n",
      "25:\tlearn: 0.6259860\ttotal: 280ms\tremaining: 10.5s\n",
      "26:\tlearn: 0.6235070\ttotal: 284ms\tremaining: 10.2s\n",
      "27:\tlearn: 0.6214933\ttotal: 287ms\tremaining: 9.98s\n",
      "28:\tlearn: 0.6197785\ttotal: 291ms\tremaining: 9.75s\n",
      "29:\tlearn: 0.6173508\ttotal: 295ms\tremaining: 9.54s\n",
      "30:\tlearn: 0.6151793\ttotal: 299ms\tremaining: 9.34s\n",
      "31:\tlearn: 0.6128338\ttotal: 303ms\tremaining: 9.15s\n",
      "32:\tlearn: 0.6108951\ttotal: 306ms\tremaining: 8.98s\n",
      "33:\tlearn: 0.6090887\ttotal: 310ms\tremaining: 8.81s\n",
      "34:\tlearn: 0.6071987\ttotal: 314ms\tremaining: 8.66s\n",
      "35:\tlearn: 0.6050485\ttotal: 318ms\tremaining: 8.51s\n",
      "36:\tlearn: 0.6027441\ttotal: 322ms\tremaining: 8.37s\n",
      "37:\tlearn: 0.6004308\ttotal: 325ms\tremaining: 8.24s\n",
      "38:\tlearn: 0.5989519\ttotal: 329ms\tremaining: 8.12s\n",
      "39:\tlearn: 0.5975109\ttotal: 333ms\tremaining: 8s\n",
      "40:\tlearn: 0.5954632\ttotal: 337ms\tremaining: 7.88s\n",
      "41:\tlearn: 0.5937207\ttotal: 341ms\tremaining: 7.77s\n",
      "42:\tlearn: 0.5915601\ttotal: 347ms\tremaining: 7.72s\n",
      "43:\tlearn: 0.5898700\ttotal: 351ms\tremaining: 7.63s\n",
      "44:\tlearn: 0.5880424\ttotal: 356ms\tremaining: 7.56s\n",
      "45:\tlearn: 0.5866929\ttotal: 361ms\tremaining: 7.49s\n",
      "46:\tlearn: 0.5851439\ttotal: 366ms\tremaining: 7.42s\n",
      "47:\tlearn: 0.5834550\ttotal: 373ms\tremaining: 7.4s\n",
      "48:\tlearn: 0.5819436\ttotal: 378ms\tremaining: 7.34s\n",
      "49:\tlearn: 0.5802827\ttotal: 383ms\tremaining: 7.28s\n",
      "50:\tlearn: 0.5782925\ttotal: 387ms\tremaining: 7.2s\n",
      "51:\tlearn: 0.5765368\ttotal: 391ms\tremaining: 7.12s\n",
      "52:\tlearn: 0.5751326\ttotal: 395ms\tremaining: 7.05s\n",
      "53:\tlearn: 0.5732498\ttotal: 399ms\tremaining: 6.99s\n",
      "54:\tlearn: 0.5720551\ttotal: 403ms\tremaining: 6.92s\n",
      "55:\tlearn: 0.5702378\ttotal: 407ms\tremaining: 6.85s\n",
      "56:\tlearn: 0.5688924\ttotal: 410ms\tremaining: 6.79s\n",
      "57:\tlearn: 0.5673185\ttotal: 414ms\tremaining: 6.73s\n",
      "58:\tlearn: 0.5662214\ttotal: 418ms\tremaining: 6.67s\n",
      "59:\tlearn: 0.5649910\ttotal: 422ms\tremaining: 6.61s\n",
      "60:\tlearn: 0.5636743\ttotal: 426ms\tremaining: 6.56s\n",
      "61:\tlearn: 0.5622833\ttotal: 430ms\tremaining: 6.5s\n",
      "62:\tlearn: 0.5608993\ttotal: 434ms\tremaining: 6.45s\n",
      "63:\tlearn: 0.5593165\ttotal: 438ms\tremaining: 6.4s\n",
      "64:\tlearn: 0.5580471\ttotal: 441ms\tremaining: 6.35s\n",
      "65:\tlearn: 0.5569789\ttotal: 445ms\tremaining: 6.3s\n",
      "66:\tlearn: 0.5555093\ttotal: 449ms\tremaining: 6.25s\n",
      "67:\tlearn: 0.5539760\ttotal: 453ms\tremaining: 6.21s\n",
      "68:\tlearn: 0.5527643\ttotal: 457ms\tremaining: 6.16s\n",
      "69:\tlearn: 0.5512633\ttotal: 461ms\tremaining: 6.12s\n",
      "70:\tlearn: 0.5501862\ttotal: 465ms\tremaining: 6.08s\n",
      "71:\tlearn: 0.5486309\ttotal: 468ms\tremaining: 6.04s\n",
      "72:\tlearn: 0.5472054\ttotal: 472ms\tremaining: 6s\n",
      "73:\tlearn: 0.5451876\ttotal: 476ms\tremaining: 5.96s\n",
      "74:\tlearn: 0.5436098\ttotal: 480ms\tremaining: 5.92s\n",
      "75:\tlearn: 0.5423196\ttotal: 484ms\tremaining: 5.88s\n",
      "76:\tlearn: 0.5411324\ttotal: 488ms\tremaining: 5.84s\n",
      "77:\tlearn: 0.5401396\ttotal: 491ms\tremaining: 5.81s\n",
      "78:\tlearn: 0.5390031\ttotal: 495ms\tremaining: 5.77s\n",
      "79:\tlearn: 0.5375343\ttotal: 499ms\tremaining: 5.74s\n",
      "80:\tlearn: 0.5362893\ttotal: 503ms\tremaining: 5.7s\n",
      "81:\tlearn: 0.5351315\ttotal: 507ms\tremaining: 5.67s\n",
      "82:\tlearn: 0.5341577\ttotal: 513ms\tremaining: 5.67s\n",
      "83:\tlearn: 0.5331113\ttotal: 518ms\tremaining: 5.64s\n",
      "84:\tlearn: 0.5314215\ttotal: 522ms\tremaining: 5.62s\n",
      "85:\tlearn: 0.5305302\ttotal: 527ms\tremaining: 5.6s\n",
      "86:\tlearn: 0.5296198\ttotal: 531ms\tremaining: 5.58s\n",
      "87:\tlearn: 0.5286418\ttotal: 537ms\tremaining: 5.57s\n",
      "88:\tlearn: 0.5274505\ttotal: 543ms\tremaining: 5.56s\n",
      "89:\tlearn: 0.5261266\ttotal: 548ms\tremaining: 5.54s\n",
      "90:\tlearn: 0.5252332\ttotal: 552ms\tremaining: 5.52s\n",
      "91:\tlearn: 0.5245156\ttotal: 556ms\tremaining: 5.49s\n",
      "92:\tlearn: 0.5236945\ttotal: 560ms\tremaining: 5.46s\n",
      "93:\tlearn: 0.5224607\ttotal: 564ms\tremaining: 5.44s\n",
      "94:\tlearn: 0.5214541\ttotal: 568ms\tremaining: 5.41s\n",
      "95:\tlearn: 0.5204219\ttotal: 572ms\tremaining: 5.38s\n",
      "96:\tlearn: 0.5194714\ttotal: 576ms\tremaining: 5.36s\n",
      "97:\tlearn: 0.5185333\ttotal: 580ms\tremaining: 5.33s\n",
      "98:\tlearn: 0.5176066\ttotal: 584ms\tremaining: 5.31s\n",
      "99:\tlearn: 0.5170154\ttotal: 588ms\tremaining: 5.29s\n",
      "100:\tlearn: 0.5161507\ttotal: 594ms\tremaining: 5.28s\n",
      "101:\tlearn: 0.5152248\ttotal: 598ms\tremaining: 5.27s\n",
      "102:\tlearn: 0.5140637\ttotal: 603ms\tremaining: 5.25s\n",
      "103:\tlearn: 0.5131351\ttotal: 608ms\tremaining: 5.24s\n",
      "104:\tlearn: 0.5124314\ttotal: 613ms\tremaining: 5.22s\n",
      "105:\tlearn: 0.5115332\ttotal: 616ms\tremaining: 5.2s\n",
      "106:\tlearn: 0.5103594\ttotal: 620ms\tremaining: 5.18s\n",
      "107:\tlearn: 0.5093947\ttotal: 624ms\tremaining: 5.15s\n",
      "108:\tlearn: 0.5086731\ttotal: 628ms\tremaining: 5.13s\n",
      "109:\tlearn: 0.5079098\ttotal: 632ms\tremaining: 5.11s\n",
      "110:\tlearn: 0.5071230\ttotal: 636ms\tremaining: 5.09s\n",
      "111:\tlearn: 0.5062995\ttotal: 639ms\tremaining: 5.07s\n",
      "112:\tlearn: 0.5051533\ttotal: 643ms\tremaining: 5.05s\n",
      "113:\tlearn: 0.5043390\ttotal: 647ms\tremaining: 5.03s\n",
      "114:\tlearn: 0.5034368\ttotal: 651ms\tremaining: 5.01s\n",
      "115:\tlearn: 0.5025202\ttotal: 655ms\tremaining: 4.99s\n",
      "116:\tlearn: 0.5017968\ttotal: 659ms\tremaining: 4.97s\n",
      "117:\tlearn: 0.5008576\ttotal: 662ms\tremaining: 4.95s\n",
      "118:\tlearn: 0.4999551\ttotal: 666ms\tremaining: 4.93s\n",
      "119:\tlearn: 0.4988267\ttotal: 670ms\tremaining: 4.91s\n",
      "120:\tlearn: 0.4979029\ttotal: 676ms\tremaining: 4.91s\n",
      "121:\tlearn: 0.4972074\ttotal: 680ms\tremaining: 4.89s\n",
      "122:\tlearn: 0.4967808\ttotal: 685ms\tremaining: 4.88s\n",
      "123:\tlearn: 0.4959472\ttotal: 689ms\tremaining: 4.87s\n",
      "124:\tlearn: 0.4949278\ttotal: 694ms\tremaining: 4.86s\n",
      "125:\tlearn: 0.4939241\ttotal: 698ms\tremaining: 4.84s\n",
      "126:\tlearn: 0.4929152\ttotal: 707ms\tremaining: 4.86s\n",
      "127:\tlearn: 0.4921716\ttotal: 713ms\tremaining: 4.86s\n",
      "128:\tlearn: 0.4915909\ttotal: 718ms\tremaining: 4.85s\n",
      "129:\tlearn: 0.4909852\ttotal: 723ms\tremaining: 4.84s\n",
      "130:\tlearn: 0.4901526\ttotal: 727ms\tremaining: 4.82s\n",
      "131:\tlearn: 0.4894002\ttotal: 733ms\tremaining: 4.82s\n",
      "132:\tlearn: 0.4886491\ttotal: 739ms\tremaining: 4.81s\n",
      "133:\tlearn: 0.4881062\ttotal: 745ms\tremaining: 4.81s\n",
      "134:\tlearn: 0.4872950\ttotal: 751ms\tremaining: 4.81s\n",
      "135:\tlearn: 0.4866148\ttotal: 755ms\tremaining: 4.8s\n",
      "136:\tlearn: 0.4858876\ttotal: 760ms\tremaining: 4.79s\n",
      "137:\tlearn: 0.4852388\ttotal: 764ms\tremaining: 4.77s\n",
      "138:\tlearn: 0.4844842\ttotal: 768ms\tremaining: 4.75s\n",
      "139:\tlearn: 0.4835513\ttotal: 772ms\tremaining: 4.74s\n",
      "140:\tlearn: 0.4828289\ttotal: 776ms\tremaining: 4.72s\n",
      "141:\tlearn: 0.4823005\ttotal: 779ms\tremaining: 4.71s\n",
      "142:\tlearn: 0.4817246\ttotal: 783ms\tremaining: 4.69s\n",
      "143:\tlearn: 0.4810284\ttotal: 787ms\tremaining: 4.68s\n",
      "144:\tlearn: 0.4802080\ttotal: 791ms\tremaining: 4.66s\n",
      "145:\tlearn: 0.4791896\ttotal: 795ms\tremaining: 4.65s\n",
      "146:\tlearn: 0.4786790\ttotal: 799ms\tremaining: 4.63s\n",
      "147:\tlearn: 0.4777610\ttotal: 803ms\tremaining: 4.62s\n",
      "148:\tlearn: 0.4769530\ttotal: 807ms\tremaining: 4.61s\n",
      "149:\tlearn: 0.4763386\ttotal: 810ms\tremaining: 4.59s\n",
      "150:\tlearn: 0.4757780\ttotal: 814ms\tremaining: 4.58s\n",
      "151:\tlearn: 0.4753941\ttotal: 818ms\tremaining: 4.56s\n",
      "152:\tlearn: 0.4746994\ttotal: 822ms\tremaining: 4.55s\n",
      "153:\tlearn: 0.4741403\ttotal: 826ms\tremaining: 4.54s\n",
      "154:\tlearn: 0.4735002\ttotal: 829ms\tremaining: 4.52s\n",
      "155:\tlearn: 0.4728673\ttotal: 833ms\tremaining: 4.51s\n",
      "156:\tlearn: 0.4722478\ttotal: 837ms\tremaining: 4.49s\n",
      "157:\tlearn: 0.4715092\ttotal: 843ms\tremaining: 4.49s\n",
      "158:\tlearn: 0.4709585\ttotal: 847ms\tremaining: 4.48s\n",
      "159:\tlearn: 0.4703204\ttotal: 852ms\tremaining: 4.47s\n",
      "160:\tlearn: 0.4696171\ttotal: 857ms\tremaining: 4.46s\n",
      "161:\tlearn: 0.4688903\ttotal: 861ms\tremaining: 4.46s\n",
      "162:\tlearn: 0.4679694\ttotal: 866ms\tremaining: 4.45s\n",
      "163:\tlearn: 0.4671741\ttotal: 871ms\tremaining: 4.44s\n",
      "164:\tlearn: 0.4662432\ttotal: 875ms\tremaining: 4.43s\n",
      "165:\tlearn: 0.4655097\ttotal: 879ms\tremaining: 4.42s\n",
      "166:\tlearn: 0.4647706\ttotal: 884ms\tremaining: 4.41s\n",
      "167:\tlearn: 0.4637764\ttotal: 889ms\tremaining: 4.4s\n",
      "168:\tlearn: 0.4631888\ttotal: 893ms\tremaining: 4.39s\n",
      "169:\tlearn: 0.4625400\ttotal: 897ms\tremaining: 4.38s\n",
      "170:\tlearn: 0.4621574\ttotal: 901ms\tremaining: 4.37s\n",
      "171:\tlearn: 0.4615924\ttotal: 905ms\tremaining: 4.35s\n",
      "172:\tlearn: 0.4606359\ttotal: 909ms\tremaining: 4.34s\n",
      "173:\tlearn: 0.4603920\ttotal: 913ms\tremaining: 4.33s\n",
      "174:\tlearn: 0.4600398\ttotal: 916ms\tremaining: 4.32s\n",
      "175:\tlearn: 0.4596381\ttotal: 920ms\tremaining: 4.31s\n",
      "176:\tlearn: 0.4589977\ttotal: 924ms\tremaining: 4.3s\n",
      "177:\tlearn: 0.4582258\ttotal: 928ms\tremaining: 4.28s\n",
      "178:\tlearn: 0.4574904\ttotal: 932ms\tremaining: 4.27s\n",
      "179:\tlearn: 0.4569201\ttotal: 936ms\tremaining: 4.26s\n",
      "180:\tlearn: 0.4562440\ttotal: 940ms\tremaining: 4.25s\n",
      "181:\tlearn: 0.4553263\ttotal: 944ms\tremaining: 4.24s\n",
      "182:\tlearn: 0.4547174\ttotal: 948ms\tremaining: 4.23s\n",
      "183:\tlearn: 0.4541407\ttotal: 951ms\tremaining: 4.22s\n",
      "184:\tlearn: 0.4535502\ttotal: 955ms\tremaining: 4.21s\n",
      "185:\tlearn: 0.4528121\ttotal: 959ms\tremaining: 4.2s\n",
      "186:\tlearn: 0.4521757\ttotal: 963ms\tremaining: 4.19s\n",
      "187:\tlearn: 0.4514145\ttotal: 967ms\tremaining: 4.18s\n",
      "188:\tlearn: 0.4508375\ttotal: 971ms\tremaining: 4.17s\n",
      "189:\tlearn: 0.4503828\ttotal: 974ms\tremaining: 4.15s\n",
      "190:\tlearn: 0.4497973\ttotal: 978ms\tremaining: 4.14s\n",
      "191:\tlearn: 0.4494384\ttotal: 982ms\tremaining: 4.13s\n",
      "192:\tlearn: 0.4489549\ttotal: 986ms\tremaining: 4.12s\n",
      "193:\tlearn: 0.4482109\ttotal: 990ms\tremaining: 4.11s\n",
      "194:\tlearn: 0.4475785\ttotal: 993ms\tremaining: 4.1s\n",
      "195:\tlearn: 0.4468862\ttotal: 997ms\tremaining: 4.09s\n",
      "196:\tlearn: 0.4462483\ttotal: 1s\tremaining: 4.08s\n",
      "197:\tlearn: 0.4457128\ttotal: 1s\tremaining: 4.07s\n"
     ]
    },
    {
     "name": "stdout",
     "output_type": "stream",
     "text": [
      "198:\tlearn: 0.4447650\ttotal: 1.01s\tremaining: 4.07s\n",
      "199:\tlearn: 0.4441194\ttotal: 1.01s\tremaining: 4.06s\n",
      "200:\tlearn: 0.4435520\ttotal: 1.02s\tremaining: 4.05s\n",
      "201:\tlearn: 0.4427512\ttotal: 1.02s\tremaining: 4.04s\n",
      "202:\tlearn: 0.4420596\ttotal: 1.03s\tremaining: 4.04s\n",
      "203:\tlearn: 0.4414664\ttotal: 1.03s\tremaining: 4.03s\n",
      "204:\tlearn: 0.4408697\ttotal: 1.04s\tremaining: 4.03s\n",
      "205:\tlearn: 0.4404462\ttotal: 1.04s\tremaining: 4.02s\n",
      "206:\tlearn: 0.4399064\ttotal: 1.05s\tremaining: 4.01s\n",
      "207:\tlearn: 0.4390551\ttotal: 1.05s\tremaining: 4s\n",
      "208:\tlearn: 0.4384221\ttotal: 1.05s\tremaining: 3.99s\n",
      "209:\tlearn: 0.4379214\ttotal: 1.06s\tremaining: 3.98s\n",
      "210:\tlearn: 0.4373637\ttotal: 1.06s\tremaining: 3.97s\n",
      "211:\tlearn: 0.4366025\ttotal: 1.06s\tremaining: 3.96s\n",
      "212:\tlearn: 0.4358522\ttotal: 1.07s\tremaining: 3.95s\n",
      "213:\tlearn: 0.4350985\ttotal: 1.07s\tremaining: 3.94s\n",
      "214:\tlearn: 0.4346590\ttotal: 1.08s\tremaining: 3.93s\n",
      "215:\tlearn: 0.4339533\ttotal: 1.08s\tremaining: 3.92s\n",
      "216:\tlearn: 0.4333246\ttotal: 1.08s\tremaining: 3.92s\n",
      "217:\tlearn: 0.4329043\ttotal: 1.09s\tremaining: 3.91s\n",
      "218:\tlearn: 0.4323469\ttotal: 1.09s\tremaining: 3.9s\n",
      "219:\tlearn: 0.4316819\ttotal: 1.1s\tremaining: 3.89s\n",
      "220:\tlearn: 0.4310045\ttotal: 1.1s\tremaining: 3.88s\n",
      "221:\tlearn: 0.4308351\ttotal: 1.1s\tremaining: 3.87s\n",
      "222:\tlearn: 0.4303987\ttotal: 1.11s\tremaining: 3.86s\n",
      "223:\tlearn: 0.4298174\ttotal: 1.11s\tremaining: 3.85s\n",
      "224:\tlearn: 0.4294306\ttotal: 1.12s\tremaining: 3.85s\n",
      "225:\tlearn: 0.4286486\ttotal: 1.12s\tremaining: 3.84s\n",
      "226:\tlearn: 0.4280950\ttotal: 1.12s\tremaining: 3.83s\n",
      "227:\tlearn: 0.4276118\ttotal: 1.13s\tremaining: 3.82s\n",
      "228:\tlearn: 0.4270677\ttotal: 1.13s\tremaining: 3.81s\n",
      "229:\tlearn: 0.4267973\ttotal: 1.14s\tremaining: 3.8s\n",
      "230:\tlearn: 0.4263153\ttotal: 1.14s\tremaining: 3.79s\n",
      "231:\tlearn: 0.4258370\ttotal: 1.14s\tremaining: 3.79s\n",
      "232:\tlearn: 0.4251590\ttotal: 1.15s\tremaining: 3.78s\n",
      "233:\tlearn: 0.4247560\ttotal: 1.15s\tremaining: 3.77s\n",
      "234:\tlearn: 0.4241758\ttotal: 1.15s\tremaining: 3.76s\n",
      "235:\tlearn: 0.4235052\ttotal: 1.16s\tremaining: 3.75s\n",
      "236:\tlearn: 0.4229392\ttotal: 1.16s\tremaining: 3.74s\n",
      "237:\tlearn: 0.4222443\ttotal: 1.17s\tremaining: 3.73s\n",
      "238:\tlearn: 0.4217194\ttotal: 1.17s\tremaining: 3.73s\n",
      "239:\tlearn: 0.4213177\ttotal: 1.18s\tremaining: 3.73s\n",
      "240:\tlearn: 0.4208021\ttotal: 1.18s\tremaining: 3.72s\n",
      "241:\tlearn: 0.4199988\ttotal: 1.19s\tremaining: 3.71s\n",
      "242:\tlearn: 0.4191517\ttotal: 1.19s\tremaining: 3.71s\n",
      "243:\tlearn: 0.4186139\ttotal: 1.2s\tremaining: 3.71s\n",
      "244:\tlearn: 0.4181896\ttotal: 1.2s\tremaining: 3.7s\n",
      "245:\tlearn: 0.4176288\ttotal: 1.2s\tremaining: 3.69s\n",
      "246:\tlearn: 0.4171915\ttotal: 1.21s\tremaining: 3.68s\n",
      "247:\tlearn: 0.4166707\ttotal: 1.21s\tremaining: 3.67s\n",
      "248:\tlearn: 0.4161102\ttotal: 1.22s\tremaining: 3.67s\n",
      "249:\tlearn: 0.4156975\ttotal: 1.22s\tremaining: 3.66s\n",
      "250:\tlearn: 0.4150761\ttotal: 1.22s\tremaining: 3.65s\n",
      "251:\tlearn: 0.4145308\ttotal: 1.23s\tremaining: 3.64s\n",
      "252:\tlearn: 0.4141776\ttotal: 1.23s\tremaining: 3.64s\n",
      "253:\tlearn: 0.4136773\ttotal: 1.24s\tremaining: 3.63s\n",
      "254:\tlearn: 0.4132895\ttotal: 1.24s\tremaining: 3.62s\n",
      "255:\tlearn: 0.4128909\ttotal: 1.24s\tremaining: 3.61s\n",
      "256:\tlearn: 0.4124344\ttotal: 1.25s\tremaining: 3.6s\n",
      "257:\tlearn: 0.4120411\ttotal: 1.25s\tremaining: 3.6s\n",
      "258:\tlearn: 0.4116119\ttotal: 1.25s\tremaining: 3.59s\n",
      "259:\tlearn: 0.4114276\ttotal: 1.26s\tremaining: 3.58s\n",
      "260:\tlearn: 0.4110873\ttotal: 1.26s\tremaining: 3.57s\n",
      "261:\tlearn: 0.4107337\ttotal: 1.27s\tremaining: 3.57s\n",
      "262:\tlearn: 0.4102456\ttotal: 1.27s\tremaining: 3.56s\n",
      "263:\tlearn: 0.4098027\ttotal: 1.27s\tremaining: 3.55s\n",
      "264:\tlearn: 0.4094263\ttotal: 1.28s\tremaining: 3.54s\n",
      "265:\tlearn: 0.4090719\ttotal: 1.28s\tremaining: 3.54s\n",
      "266:\tlearn: 0.4087094\ttotal: 1.28s\tremaining: 3.53s\n",
      "267:\tlearn: 0.4083130\ttotal: 1.29s\tremaining: 3.52s\n",
      "268:\tlearn: 0.4081240\ttotal: 1.29s\tremaining: 3.51s\n",
      "269:\tlearn: 0.4075839\ttotal: 1.3s\tremaining: 3.5s\n",
      "270:\tlearn: 0.4072670\ttotal: 1.3s\tremaining: 3.5s\n",
      "271:\tlearn: 0.4067724\ttotal: 1.3s\tremaining: 3.49s\n",
      "272:\tlearn: 0.4063057\ttotal: 1.31s\tremaining: 3.48s\n",
      "273:\tlearn: 0.4060497\ttotal: 1.31s\tremaining: 3.48s\n",
      "274:\tlearn: 0.4054214\ttotal: 1.31s\tremaining: 3.47s\n",
      "275:\tlearn: 0.4051796\ttotal: 1.32s\tremaining: 3.46s\n",
      "276:\tlearn: 0.4049266\ttotal: 1.32s\tremaining: 3.45s\n",
      "277:\tlearn: 0.4044323\ttotal: 1.33s\tremaining: 3.45s\n",
      "278:\tlearn: 0.4041528\ttotal: 1.33s\tremaining: 3.44s\n",
      "279:\tlearn: 0.4037590\ttotal: 1.33s\tremaining: 3.43s\n",
      "280:\tlearn: 0.4035499\ttotal: 1.34s\tremaining: 3.43s\n",
      "281:\tlearn: 0.4030546\ttotal: 1.34s\tremaining: 3.42s\n",
      "282:\tlearn: 0.4023836\ttotal: 1.35s\tremaining: 3.42s\n",
      "283:\tlearn: 0.4017637\ttotal: 1.35s\tremaining: 3.41s\n",
      "284:\tlearn: 0.4013156\ttotal: 1.36s\tremaining: 3.41s\n",
      "285:\tlearn: 0.4008272\ttotal: 1.36s\tremaining: 3.4s\n",
      "286:\tlearn: 0.4000762\ttotal: 1.37s\tremaining: 3.39s\n",
      "287:\tlearn: 0.3997413\ttotal: 1.37s\tremaining: 3.39s\n",
      "288:\tlearn: 0.3993114\ttotal: 1.37s\tremaining: 3.38s\n",
      "289:\tlearn: 0.3990477\ttotal: 1.38s\tremaining: 3.37s\n",
      "290:\tlearn: 0.3986601\ttotal: 1.38s\tremaining: 3.37s\n",
      "291:\tlearn: 0.3981996\ttotal: 1.39s\tremaining: 3.36s\n",
      "292:\tlearn: 0.3978741\ttotal: 1.39s\tremaining: 3.35s\n",
      "293:\tlearn: 0.3974595\ttotal: 1.39s\tremaining: 3.35s\n",
      "294:\tlearn: 0.3970724\ttotal: 1.4s\tremaining: 3.34s\n",
      "295:\tlearn: 0.3967902\ttotal: 1.4s\tremaining: 3.33s\n",
      "296:\tlearn: 0.3964155\ttotal: 1.41s\tremaining: 3.33s\n",
      "297:\tlearn: 0.3960938\ttotal: 1.41s\tremaining: 3.32s\n",
      "298:\tlearn: 0.3956868\ttotal: 1.41s\tremaining: 3.31s\n",
      "299:\tlearn: 0.3953438\ttotal: 1.42s\tremaining: 3.31s\n",
      "300:\tlearn: 0.3949316\ttotal: 1.42s\tremaining: 3.3s\n",
      "301:\tlearn: 0.3945523\ttotal: 1.43s\tremaining: 3.29s\n",
      "302:\tlearn: 0.3941169\ttotal: 1.43s\tremaining: 3.29s\n",
      "303:\tlearn: 0.3936781\ttotal: 1.43s\tremaining: 3.28s\n",
      "304:\tlearn: 0.3933091\ttotal: 1.44s\tremaining: 3.27s\n",
      "305:\tlearn: 0.3928540\ttotal: 1.44s\tremaining: 3.27s\n",
      "306:\tlearn: 0.3923739\ttotal: 1.44s\tremaining: 3.26s\n",
      "307:\tlearn: 0.3922390\ttotal: 1.45s\tremaining: 3.25s\n",
      "308:\tlearn: 0.3913101\ttotal: 1.45s\tremaining: 3.25s\n",
      "309:\tlearn: 0.3909097\ttotal: 1.46s\tremaining: 3.24s\n",
      "310:\tlearn: 0.3905162\ttotal: 1.46s\tremaining: 3.23s\n",
      "311:\tlearn: 0.3899490\ttotal: 1.46s\tremaining: 3.23s\n",
      "312:\tlearn: 0.3896770\ttotal: 1.47s\tremaining: 3.22s\n",
      "313:\tlearn: 0.3892809\ttotal: 1.47s\tremaining: 3.21s\n",
      "314:\tlearn: 0.3887462\ttotal: 1.48s\tremaining: 3.21s\n",
      "315:\tlearn: 0.3882283\ttotal: 1.48s\tremaining: 3.21s\n",
      "316:\tlearn: 0.3878046\ttotal: 1.49s\tremaining: 3.2s\n",
      "317:\tlearn: 0.3875692\ttotal: 1.49s\tremaining: 3.19s\n",
      "318:\tlearn: 0.3873589\ttotal: 1.49s\tremaining: 3.19s\n",
      "319:\tlearn: 0.3870433\ttotal: 1.5s\tremaining: 3.18s\n",
      "320:\tlearn: 0.3867294\ttotal: 1.5s\tremaining: 3.17s\n",
      "321:\tlearn: 0.3864813\ttotal: 1.51s\tremaining: 3.17s\n",
      "322:\tlearn: 0.3861037\ttotal: 1.51s\tremaining: 3.17s\n",
      "323:\tlearn: 0.3856288\ttotal: 1.51s\tremaining: 3.16s\n",
      "324:\tlearn: 0.3851655\ttotal: 1.52s\tremaining: 3.16s\n",
      "325:\tlearn: 0.3848597\ttotal: 1.52s\tremaining: 3.15s\n",
      "326:\tlearn: 0.3845545\ttotal: 1.53s\tremaining: 3.15s\n",
      "327:\tlearn: 0.3843391\ttotal: 1.53s\tremaining: 3.15s\n",
      "328:\tlearn: 0.3841526\ttotal: 1.54s\tremaining: 3.14s\n",
      "329:\tlearn: 0.3836661\ttotal: 1.54s\tremaining: 3.13s\n",
      "330:\tlearn: 0.3833202\ttotal: 1.55s\tremaining: 3.13s\n",
      "331:\tlearn: 0.3828086\ttotal: 1.55s\tremaining: 3.12s\n",
      "332:\tlearn: 0.3825388\ttotal: 1.55s\tremaining: 3.11s\n",
      "333:\tlearn: 0.3819648\ttotal: 1.56s\tremaining: 3.11s\n",
      "334:\tlearn: 0.3814535\ttotal: 1.56s\tremaining: 3.1s\n",
      "335:\tlearn: 0.3811066\ttotal: 1.57s\tremaining: 3.1s\n",
      "336:\tlearn: 0.3807909\ttotal: 1.57s\tremaining: 3.09s\n",
      "337:\tlearn: 0.3806231\ttotal: 1.57s\tremaining: 3.08s\n",
      "338:\tlearn: 0.3802803\ttotal: 1.58s\tremaining: 3.08s\n",
      "339:\tlearn: 0.3799516\ttotal: 1.58s\tremaining: 3.07s\n",
      "340:\tlearn: 0.3794519\ttotal: 1.59s\tremaining: 3.07s\n",
      "341:\tlearn: 0.3791570\ttotal: 1.59s\tremaining: 3.06s\n",
      "342:\tlearn: 0.3790317\ttotal: 1.59s\tremaining: 3.06s\n",
      "343:\tlearn: 0.3784834\ttotal: 1.6s\tremaining: 3.05s\n",
      "344:\tlearn: 0.3782879\ttotal: 1.6s\tremaining: 3.04s\n",
      "345:\tlearn: 0.3779003\ttotal: 1.61s\tremaining: 3.04s\n",
      "346:\tlearn: 0.3776232\ttotal: 1.61s\tremaining: 3.03s\n",
      "347:\tlearn: 0.3772969\ttotal: 1.61s\tremaining: 3.02s\n",
      "348:\tlearn: 0.3767467\ttotal: 1.62s\tremaining: 3.02s\n",
      "349:\tlearn: 0.3764842\ttotal: 1.62s\tremaining: 3.01s\n",
      "350:\tlearn: 0.3761025\ttotal: 1.63s\tremaining: 3.01s\n",
      "351:\tlearn: 0.3757877\ttotal: 1.63s\tremaining: 3s\n",
      "352:\tlearn: 0.3755382\ttotal: 1.63s\tremaining: 2.99s\n",
      "353:\tlearn: 0.3748662\ttotal: 1.64s\tremaining: 2.99s\n",
      "354:\tlearn: 0.3746088\ttotal: 1.64s\tremaining: 2.98s\n",
      "355:\tlearn: 0.3743251\ttotal: 1.65s\tremaining: 2.98s\n",
      "356:\tlearn: 0.3739593\ttotal: 1.65s\tremaining: 2.97s\n",
      "357:\tlearn: 0.3736896\ttotal: 1.65s\tremaining: 2.97s\n",
      "358:\tlearn: 0.3735132\ttotal: 1.66s\tremaining: 2.96s\n",
      "359:\tlearn: 0.3729249\ttotal: 1.66s\tremaining: 2.95s\n",
      "360:\tlearn: 0.3724370\ttotal: 1.67s\tremaining: 2.95s\n"
     ]
    },
    {
     "name": "stdout",
     "output_type": "stream",
     "text": [
      "361:\tlearn: 0.3722305\ttotal: 1.67s\tremaining: 2.95s\n",
      "362:\tlearn: 0.3717461\ttotal: 1.68s\tremaining: 2.94s\n",
      "363:\tlearn: 0.3715190\ttotal: 1.68s\tremaining: 2.94s\n",
      "364:\tlearn: 0.3711644\ttotal: 1.69s\tremaining: 2.93s\n",
      "365:\tlearn: 0.3707818\ttotal: 1.69s\tremaining: 2.93s\n",
      "366:\tlearn: 0.3705526\ttotal: 1.7s\tremaining: 2.92s\n",
      "367:\tlearn: 0.3701029\ttotal: 1.7s\tremaining: 2.92s\n",
      "368:\tlearn: 0.3697966\ttotal: 1.7s\tremaining: 2.91s\n",
      "369:\tlearn: 0.3694805\ttotal: 1.71s\tremaining: 2.91s\n",
      "370:\tlearn: 0.3690016\ttotal: 1.71s\tremaining: 2.9s\n",
      "371:\tlearn: 0.3687040\ttotal: 1.71s\tremaining: 2.9s\n",
      "372:\tlearn: 0.3682061\ttotal: 1.72s\tremaining: 2.89s\n",
      "373:\tlearn: 0.3678687\ttotal: 1.72s\tremaining: 2.88s\n",
      "374:\tlearn: 0.3674660\ttotal: 1.73s\tremaining: 2.88s\n",
      "375:\tlearn: 0.3670083\ttotal: 1.73s\tremaining: 2.87s\n",
      "376:\tlearn: 0.3667520\ttotal: 1.73s\tremaining: 2.87s\n",
      "377:\tlearn: 0.3665686\ttotal: 1.74s\tremaining: 2.86s\n",
      "378:\tlearn: 0.3661976\ttotal: 1.74s\tremaining: 2.85s\n",
      "379:\tlearn: 0.3659994\ttotal: 1.75s\tremaining: 2.85s\n",
      "380:\tlearn: 0.3656017\ttotal: 1.75s\tremaining: 2.84s\n",
      "381:\tlearn: 0.3654009\ttotal: 1.75s\tremaining: 2.84s\n",
      "382:\tlearn: 0.3649152\ttotal: 1.76s\tremaining: 2.83s\n",
      "383:\tlearn: 0.3644530\ttotal: 1.76s\tremaining: 2.83s\n",
      "384:\tlearn: 0.3641227\ttotal: 1.76s\tremaining: 2.82s\n",
      "385:\tlearn: 0.3639411\ttotal: 1.77s\tremaining: 2.81s\n",
      "386:\tlearn: 0.3636307\ttotal: 1.77s\tremaining: 2.81s\n",
      "387:\tlearn: 0.3633398\ttotal: 1.78s\tremaining: 2.8s\n",
      "388:\tlearn: 0.3629636\ttotal: 1.78s\tremaining: 2.8s\n",
      "389:\tlearn: 0.3627482\ttotal: 1.78s\tremaining: 2.79s\n",
      "390:\tlearn: 0.3623825\ttotal: 1.79s\tremaining: 2.79s\n",
      "391:\tlearn: 0.3619484\ttotal: 1.79s\tremaining: 2.78s\n",
      "392:\tlearn: 0.3617327\ttotal: 1.8s\tremaining: 2.77s\n",
      "393:\tlearn: 0.3611762\ttotal: 1.8s\tremaining: 2.77s\n",
      "394:\tlearn: 0.3606655\ttotal: 1.8s\tremaining: 2.76s\n",
      "395:\tlearn: 0.3605498\ttotal: 1.81s\tremaining: 2.76s\n",
      "396:\tlearn: 0.3602621\ttotal: 1.81s\tremaining: 2.75s\n",
      "397:\tlearn: 0.3599078\ttotal: 1.81s\tremaining: 2.75s\n",
      "398:\tlearn: 0.3595247\ttotal: 1.82s\tremaining: 2.74s\n",
      "399:\tlearn: 0.3591971\ttotal: 1.82s\tremaining: 2.73s\n",
      "400:\tlearn: 0.3589748\ttotal: 1.83s\tremaining: 2.73s\n",
      "401:\tlearn: 0.3586317\ttotal: 1.83s\tremaining: 2.72s\n",
      "402:\tlearn: 0.3581780\ttotal: 1.84s\tremaining: 2.72s\n",
      "403:\tlearn: 0.3579152\ttotal: 1.84s\tremaining: 2.71s\n",
      "404:\tlearn: 0.3573956\ttotal: 1.84s\tremaining: 2.71s\n",
      "405:\tlearn: 0.3570674\ttotal: 1.85s\tremaining: 2.71s\n",
      "406:\tlearn: 0.3565373\ttotal: 1.85s\tremaining: 2.7s\n",
      "407:\tlearn: 0.3562060\ttotal: 1.86s\tremaining: 2.7s\n",
      "408:\tlearn: 0.3559221\ttotal: 1.86s\tremaining: 2.69s\n",
      "409:\tlearn: 0.3555145\ttotal: 1.87s\tremaining: 2.69s\n",
      "410:\tlearn: 0.3550828\ttotal: 1.87s\tremaining: 2.68s\n",
      "411:\tlearn: 0.3548217\ttotal: 1.87s\tremaining: 2.67s\n",
      "412:\tlearn: 0.3546013\ttotal: 1.88s\tremaining: 2.67s\n",
      "413:\tlearn: 0.3542581\ttotal: 1.88s\tremaining: 2.66s\n",
      "414:\tlearn: 0.3539262\ttotal: 1.89s\tremaining: 2.66s\n",
      "415:\tlearn: 0.3535950\ttotal: 1.89s\tremaining: 2.65s\n",
      "416:\tlearn: 0.3534650\ttotal: 1.89s\tremaining: 2.65s\n",
      "417:\tlearn: 0.3530792\ttotal: 1.9s\tremaining: 2.64s\n",
      "418:\tlearn: 0.3528667\ttotal: 1.9s\tremaining: 2.64s\n",
      "419:\tlearn: 0.3523850\ttotal: 1.9s\tremaining: 2.63s\n",
      "420:\tlearn: 0.3520959\ttotal: 1.91s\tremaining: 2.62s\n",
      "421:\tlearn: 0.3516072\ttotal: 1.91s\tremaining: 2.62s\n",
      "422:\tlearn: 0.3513737\ttotal: 1.92s\tremaining: 2.61s\n",
      "423:\tlearn: 0.3508396\ttotal: 1.92s\tremaining: 2.61s\n",
      "424:\tlearn: 0.3503841\ttotal: 1.92s\tremaining: 2.6s\n",
      "425:\tlearn: 0.3501309\ttotal: 1.93s\tremaining: 2.6s\n",
      "426:\tlearn: 0.3497576\ttotal: 1.93s\tremaining: 2.59s\n",
      "427:\tlearn: 0.3493792\ttotal: 1.94s\tremaining: 2.59s\n",
      "428:\tlearn: 0.3490107\ttotal: 1.94s\tremaining: 2.58s\n",
      "429:\tlearn: 0.3486737\ttotal: 1.94s\tremaining: 2.58s\n",
      "430:\tlearn: 0.3482052\ttotal: 1.95s\tremaining: 2.57s\n",
      "431:\tlearn: 0.3479756\ttotal: 1.95s\tremaining: 2.56s\n",
      "432:\tlearn: 0.3476728\ttotal: 1.95s\tremaining: 2.56s\n",
      "433:\tlearn: 0.3474723\ttotal: 1.96s\tremaining: 2.55s\n",
      "434:\tlearn: 0.3472444\ttotal: 1.96s\tremaining: 2.55s\n",
      "435:\tlearn: 0.3468072\ttotal: 1.97s\tremaining: 2.54s\n",
      "436:\tlearn: 0.3466095\ttotal: 1.97s\tremaining: 2.54s\n",
      "437:\tlearn: 0.3462066\ttotal: 1.97s\tremaining: 2.53s\n",
      "438:\tlearn: 0.3458962\ttotal: 1.98s\tremaining: 2.53s\n",
      "439:\tlearn: 0.3456414\ttotal: 1.98s\tremaining: 2.52s\n",
      "440:\tlearn: 0.3452764\ttotal: 1.99s\tremaining: 2.52s\n",
      "441:\tlearn: 0.3449729\ttotal: 1.99s\tremaining: 2.51s\n",
      "442:\tlearn: 0.3446459\ttotal: 1.99s\tremaining: 2.51s\n",
      "443:\tlearn: 0.3444307\ttotal: 2s\tremaining: 2.5s\n",
      "444:\tlearn: 0.3442674\ttotal: 2s\tremaining: 2.5s\n",
      "445:\tlearn: 0.3438151\ttotal: 2.01s\tremaining: 2.49s\n",
      "446:\tlearn: 0.3435356\ttotal: 2.01s\tremaining: 2.49s\n",
      "447:\tlearn: 0.3432279\ttotal: 2.02s\tremaining: 2.48s\n",
      "448:\tlearn: 0.3430796\ttotal: 2.02s\tremaining: 2.48s\n",
      "449:\tlearn: 0.3425166\ttotal: 2.03s\tremaining: 2.48s\n",
      "450:\tlearn: 0.3422509\ttotal: 2.03s\tremaining: 2.47s\n",
      "451:\tlearn: 0.3420441\ttotal: 2.03s\tremaining: 2.46s\n",
      "452:\tlearn: 0.3417583\ttotal: 2.04s\tremaining: 2.46s\n",
      "453:\tlearn: 0.3415808\ttotal: 2.04s\tremaining: 2.46s\n",
      "454:\tlearn: 0.3411967\ttotal: 2.04s\tremaining: 2.45s\n",
      "455:\tlearn: 0.3409267\ttotal: 2.05s\tremaining: 2.44s\n",
      "456:\tlearn: 0.3405822\ttotal: 2.05s\tremaining: 2.44s\n",
      "457:\tlearn: 0.3404288\ttotal: 2.06s\tremaining: 2.43s\n",
      "458:\tlearn: 0.3400877\ttotal: 2.06s\tremaining: 2.43s\n",
      "459:\tlearn: 0.3398089\ttotal: 2.06s\tremaining: 2.42s\n",
      "460:\tlearn: 0.3395204\ttotal: 2.07s\tremaining: 2.42s\n",
      "461:\tlearn: 0.3391919\ttotal: 2.07s\tremaining: 2.41s\n",
      "462:\tlearn: 0.3387871\ttotal: 2.08s\tremaining: 2.41s\n",
      "463:\tlearn: 0.3384878\ttotal: 2.08s\tremaining: 2.4s\n",
      "464:\tlearn: 0.3381758\ttotal: 2.08s\tremaining: 2.4s\n",
      "465:\tlearn: 0.3376845\ttotal: 2.09s\tremaining: 2.39s\n",
      "466:\tlearn: 0.3373552\ttotal: 2.09s\tremaining: 2.39s\n",
      "467:\tlearn: 0.3368917\ttotal: 2.1s\tremaining: 2.38s\n",
      "468:\tlearn: 0.3366906\ttotal: 2.1s\tremaining: 2.38s\n",
      "469:\tlearn: 0.3364976\ttotal: 2.11s\tremaining: 2.38s\n",
      "470:\tlearn: 0.3360953\ttotal: 2.11s\tremaining: 2.37s\n",
      "471:\tlearn: 0.3358645\ttotal: 2.12s\tremaining: 2.37s\n",
      "472:\tlearn: 0.3356416\ttotal: 2.12s\tremaining: 2.36s\n",
      "473:\tlearn: 0.3353120\ttotal: 2.13s\tremaining: 2.36s\n",
      "474:\tlearn: 0.3351245\ttotal: 2.13s\tremaining: 2.35s\n",
      "475:\tlearn: 0.3349717\ttotal: 2.13s\tremaining: 2.35s\n",
      "476:\tlearn: 0.3348091\ttotal: 2.14s\tremaining: 2.35s\n",
      "477:\tlearn: 0.3345473\ttotal: 2.14s\tremaining: 2.34s\n",
      "478:\tlearn: 0.3343739\ttotal: 2.15s\tremaining: 2.34s\n",
      "479:\tlearn: 0.3340942\ttotal: 2.15s\tremaining: 2.33s\n",
      "480:\tlearn: 0.3339016\ttotal: 2.16s\tremaining: 2.33s\n",
      "481:\tlearn: 0.3334710\ttotal: 2.16s\tremaining: 2.32s\n",
      "482:\tlearn: 0.3332206\ttotal: 2.17s\tremaining: 2.32s\n",
      "483:\tlearn: 0.3328253\ttotal: 2.17s\tremaining: 2.31s\n",
      "484:\tlearn: 0.3325149\ttotal: 2.18s\tremaining: 2.31s\n",
      "485:\tlearn: 0.3321831\ttotal: 2.18s\tremaining: 2.31s\n",
      "486:\tlearn: 0.3319315\ttotal: 2.19s\tremaining: 2.3s\n",
      "487:\tlearn: 0.3315663\ttotal: 2.19s\tremaining: 2.3s\n",
      "488:\tlearn: 0.3310780\ttotal: 2.19s\tremaining: 2.29s\n",
      "489:\tlearn: 0.3307928\ttotal: 2.2s\tremaining: 2.29s\n",
      "490:\tlearn: 0.3305262\ttotal: 2.2s\tremaining: 2.28s\n",
      "491:\tlearn: 0.3302417\ttotal: 2.21s\tremaining: 2.28s\n",
      "492:\tlearn: 0.3297057\ttotal: 2.21s\tremaining: 2.27s\n",
      "493:\tlearn: 0.3294063\ttotal: 2.21s\tremaining: 2.27s\n",
      "494:\tlearn: 0.3291496\ttotal: 2.22s\tremaining: 2.26s\n",
      "495:\tlearn: 0.3287206\ttotal: 2.22s\tremaining: 2.26s\n",
      "496:\tlearn: 0.3285571\ttotal: 2.23s\tremaining: 2.25s\n",
      "497:\tlearn: 0.3281209\ttotal: 2.23s\tremaining: 2.25s\n",
      "498:\tlearn: 0.3277817\ttotal: 2.23s\tremaining: 2.24s\n",
      "499:\tlearn: 0.3275540\ttotal: 2.24s\tremaining: 2.24s\n",
      "500:\tlearn: 0.3271220\ttotal: 2.24s\tremaining: 2.23s\n",
      "501:\tlearn: 0.3267468\ttotal: 2.25s\tremaining: 2.23s\n",
      "502:\tlearn: 0.3264438\ttotal: 2.25s\tremaining: 2.22s\n",
      "503:\tlearn: 0.3260834\ttotal: 2.25s\tremaining: 2.22s\n",
      "504:\tlearn: 0.3257900\ttotal: 2.26s\tremaining: 2.21s\n",
      "505:\tlearn: 0.3253998\ttotal: 2.26s\tremaining: 2.21s\n",
      "506:\tlearn: 0.3251623\ttotal: 2.27s\tremaining: 2.2s\n",
      "507:\tlearn: 0.3249290\ttotal: 2.27s\tremaining: 2.2s\n",
      "508:\tlearn: 0.3246504\ttotal: 2.27s\tremaining: 2.19s\n",
      "509:\tlearn: 0.3242644\ttotal: 2.28s\tremaining: 2.19s\n",
      "510:\tlearn: 0.3239438\ttotal: 2.28s\tremaining: 2.18s\n",
      "511:\tlearn: 0.3234941\ttotal: 2.28s\tremaining: 2.18s\n",
      "512:\tlearn: 0.3231889\ttotal: 2.29s\tremaining: 2.17s\n",
      "513:\tlearn: 0.3229789\ttotal: 2.29s\tremaining: 2.17s\n",
      "514:\tlearn: 0.3227873\ttotal: 2.3s\tremaining: 2.16s\n",
      "515:\tlearn: 0.3224758\ttotal: 2.3s\tremaining: 2.16s\n",
      "516:\tlearn: 0.3223337\ttotal: 2.3s\tremaining: 2.15s\n",
      "517:\tlearn: 0.3222287\ttotal: 2.31s\tremaining: 2.15s\n",
      "518:\tlearn: 0.3220337\ttotal: 2.31s\tremaining: 2.14s\n",
      "519:\tlearn: 0.3215893\ttotal: 2.31s\tremaining: 2.14s\n",
      "520:\tlearn: 0.3214176\ttotal: 2.32s\tremaining: 2.13s\n",
      "521:\tlearn: 0.3211092\ttotal: 2.32s\tremaining: 2.13s\n",
      "522:\tlearn: 0.3206507\ttotal: 2.33s\tremaining: 2.12s\n"
     ]
    },
    {
     "name": "stdout",
     "output_type": "stream",
     "text": [
      "523:\tlearn: 0.3203289\ttotal: 2.33s\tremaining: 2.12s\n",
      "524:\tlearn: 0.3201898\ttotal: 2.34s\tremaining: 2.12s\n",
      "525:\tlearn: 0.3199149\ttotal: 2.34s\tremaining: 2.11s\n",
      "526:\tlearn: 0.3196997\ttotal: 2.35s\tremaining: 2.11s\n",
      "527:\tlearn: 0.3193278\ttotal: 2.35s\tremaining: 2.1s\n",
      "528:\tlearn: 0.3189380\ttotal: 2.36s\tremaining: 2.1s\n",
      "529:\tlearn: 0.3185418\ttotal: 2.36s\tremaining: 2.1s\n",
      "530:\tlearn: 0.3183071\ttotal: 2.37s\tremaining: 2.09s\n",
      "531:\tlearn: 0.3179167\ttotal: 2.37s\tremaining: 2.09s\n",
      "532:\tlearn: 0.3177008\ttotal: 2.38s\tremaining: 2.08s\n",
      "533:\tlearn: 0.3174426\ttotal: 2.38s\tremaining: 2.08s\n",
      "534:\tlearn: 0.3170544\ttotal: 2.38s\tremaining: 2.07s\n",
      "535:\tlearn: 0.3166121\ttotal: 2.39s\tremaining: 2.07s\n",
      "536:\tlearn: 0.3164336\ttotal: 2.39s\tremaining: 2.06s\n",
      "537:\tlearn: 0.3160289\ttotal: 2.4s\tremaining: 2.06s\n",
      "538:\tlearn: 0.3156269\ttotal: 2.4s\tremaining: 2.05s\n",
      "539:\tlearn: 0.3152994\ttotal: 2.4s\tremaining: 2.05s\n",
      "540:\tlearn: 0.3149213\ttotal: 2.41s\tremaining: 2.04s\n",
      "541:\tlearn: 0.3146453\ttotal: 2.41s\tremaining: 2.04s\n",
      "542:\tlearn: 0.3143328\ttotal: 2.42s\tremaining: 2.03s\n",
      "543:\tlearn: 0.3142120\ttotal: 2.42s\tremaining: 2.03s\n",
      "544:\tlearn: 0.3140096\ttotal: 2.42s\tremaining: 2.02s\n",
      "545:\tlearn: 0.3137057\ttotal: 2.43s\tremaining: 2.02s\n",
      "546:\tlearn: 0.3134326\ttotal: 2.43s\tremaining: 2.01s\n",
      "547:\tlearn: 0.3131937\ttotal: 2.43s\tremaining: 2.01s\n",
      "548:\tlearn: 0.3128242\ttotal: 2.44s\tremaining: 2s\n",
      "549:\tlearn: 0.3124676\ttotal: 2.44s\tremaining: 2s\n",
      "550:\tlearn: 0.3121362\ttotal: 2.45s\tremaining: 1.99s\n",
      "551:\tlearn: 0.3118717\ttotal: 2.45s\tremaining: 1.99s\n",
      "552:\tlearn: 0.3116857\ttotal: 2.45s\tremaining: 1.98s\n",
      "553:\tlearn: 0.3114058\ttotal: 2.46s\tremaining: 1.98s\n",
      "554:\tlearn: 0.3109771\ttotal: 2.46s\tremaining: 1.97s\n",
      "555:\tlearn: 0.3108242\ttotal: 2.46s\tremaining: 1.97s\n",
      "556:\tlearn: 0.3105047\ttotal: 2.47s\tremaining: 1.96s\n",
      "557:\tlearn: 0.3103011\ttotal: 2.47s\tremaining: 1.96s\n",
      "558:\tlearn: 0.3101388\ttotal: 2.48s\tremaining: 1.95s\n",
      "559:\tlearn: 0.3099384\ttotal: 2.48s\tremaining: 1.95s\n",
      "560:\tlearn: 0.3098210\ttotal: 2.48s\tremaining: 1.94s\n",
      "561:\tlearn: 0.3097432\ttotal: 2.49s\tremaining: 1.94s\n",
      "562:\tlearn: 0.3093146\ttotal: 2.49s\tremaining: 1.93s\n",
      "563:\tlearn: 0.3091228\ttotal: 2.5s\tremaining: 1.93s\n",
      "564:\tlearn: 0.3087913\ttotal: 2.5s\tremaining: 1.93s\n",
      "565:\tlearn: 0.3084951\ttotal: 2.51s\tremaining: 1.92s\n",
      "566:\tlearn: 0.3082365\ttotal: 2.51s\tremaining: 1.92s\n",
      "567:\tlearn: 0.3080879\ttotal: 2.52s\tremaining: 1.92s\n",
      "568:\tlearn: 0.3079187\ttotal: 2.52s\tremaining: 1.91s\n",
      "569:\tlearn: 0.3076242\ttotal: 2.53s\tremaining: 1.91s\n",
      "570:\tlearn: 0.3073901\ttotal: 2.53s\tremaining: 1.9s\n",
      "571:\tlearn: 0.3071931\ttotal: 2.53s\tremaining: 1.9s\n",
      "572:\tlearn: 0.3068995\ttotal: 2.54s\tremaining: 1.89s\n",
      "573:\tlearn: 0.3065909\ttotal: 2.54s\tremaining: 1.89s\n",
      "574:\tlearn: 0.3063995\ttotal: 2.54s\tremaining: 1.88s\n",
      "575:\tlearn: 0.3061245\ttotal: 2.55s\tremaining: 1.88s\n",
      "576:\tlearn: 0.3059387\ttotal: 2.55s\tremaining: 1.87s\n",
      "577:\tlearn: 0.3057644\ttotal: 2.56s\tremaining: 1.87s\n",
      "578:\tlearn: 0.3056015\ttotal: 2.56s\tremaining: 1.86s\n",
      "579:\tlearn: 0.3054169\ttotal: 2.56s\tremaining: 1.86s\n",
      "580:\tlearn: 0.3052301\ttotal: 2.57s\tremaining: 1.85s\n",
      "581:\tlearn: 0.3050935\ttotal: 2.57s\tremaining: 1.85s\n",
      "582:\tlearn: 0.3049122\ttotal: 2.58s\tremaining: 1.84s\n",
      "583:\tlearn: 0.3045689\ttotal: 2.58s\tremaining: 1.84s\n",
      "584:\tlearn: 0.3043786\ttotal: 2.58s\tremaining: 1.83s\n",
      "585:\tlearn: 0.3041001\ttotal: 2.59s\tremaining: 1.83s\n",
      "586:\tlearn: 0.3039421\ttotal: 2.59s\tremaining: 1.82s\n",
      "587:\tlearn: 0.3036763\ttotal: 2.6s\tremaining: 1.82s\n",
      "588:\tlearn: 0.3034727\ttotal: 2.6s\tremaining: 1.81s\n",
      "589:\tlearn: 0.3031936\ttotal: 2.6s\tremaining: 1.81s\n",
      "590:\tlearn: 0.3030359\ttotal: 2.61s\tremaining: 1.8s\n",
      "591:\tlearn: 0.3027911\ttotal: 2.61s\tremaining: 1.8s\n",
      "592:\tlearn: 0.3024130\ttotal: 2.61s\tremaining: 1.79s\n",
      "593:\tlearn: 0.3019850\ttotal: 2.62s\tremaining: 1.79s\n",
      "594:\tlearn: 0.3018217\ttotal: 2.62s\tremaining: 1.78s\n",
      "595:\tlearn: 0.3015763\ttotal: 2.63s\tremaining: 1.78s\n",
      "596:\tlearn: 0.3013085\ttotal: 2.63s\tremaining: 1.77s\n",
      "597:\tlearn: 0.3009703\ttotal: 2.63s\tremaining: 1.77s\n",
      "598:\tlearn: 0.3007278\ttotal: 2.64s\tremaining: 1.76s\n",
      "599:\tlearn: 0.3005316\ttotal: 2.64s\tremaining: 1.76s\n",
      "600:\tlearn: 0.3003358\ttotal: 2.65s\tremaining: 1.76s\n",
      "601:\tlearn: 0.3001171\ttotal: 2.65s\tremaining: 1.75s\n",
      "602:\tlearn: 0.2997622\ttotal: 2.65s\tremaining: 1.75s\n",
      "603:\tlearn: 0.2994511\ttotal: 2.66s\tremaining: 1.74s\n",
      "604:\tlearn: 0.2989403\ttotal: 2.66s\tremaining: 1.74s\n",
      "605:\tlearn: 0.2986845\ttotal: 2.67s\tremaining: 1.73s\n",
      "606:\tlearn: 0.2984287\ttotal: 2.67s\tremaining: 1.73s\n",
      "607:\tlearn: 0.2982596\ttotal: 2.68s\tremaining: 1.73s\n",
      "608:\tlearn: 0.2980307\ttotal: 2.68s\tremaining: 1.72s\n",
      "609:\tlearn: 0.2977958\ttotal: 2.69s\tremaining: 1.72s\n",
      "610:\tlearn: 0.2976153\ttotal: 2.69s\tremaining: 1.71s\n",
      "611:\tlearn: 0.2974086\ttotal: 2.69s\tremaining: 1.71s\n",
      "612:\tlearn: 0.2970504\ttotal: 2.7s\tremaining: 1.7s\n",
      "613:\tlearn: 0.2968036\ttotal: 2.7s\tremaining: 1.7s\n",
      "614:\tlearn: 0.2965259\ttotal: 2.71s\tremaining: 1.69s\n",
      "615:\tlearn: 0.2964097\ttotal: 2.71s\tremaining: 1.69s\n",
      "616:\tlearn: 0.2962194\ttotal: 2.71s\tremaining: 1.68s\n",
      "617:\tlearn: 0.2959674\ttotal: 2.72s\tremaining: 1.68s\n",
      "618:\tlearn: 0.2957924\ttotal: 2.72s\tremaining: 1.68s\n",
      "619:\tlearn: 0.2954320\ttotal: 2.73s\tremaining: 1.67s\n",
      "620:\tlearn: 0.2951445\ttotal: 2.73s\tremaining: 1.67s\n",
      "621:\tlearn: 0.2949299\ttotal: 2.73s\tremaining: 1.66s\n",
      "622:\tlearn: 0.2945867\ttotal: 2.74s\tremaining: 1.66s\n",
      "623:\tlearn: 0.2942172\ttotal: 2.74s\tremaining: 1.65s\n",
      "624:\tlearn: 0.2938660\ttotal: 2.74s\tremaining: 1.65s\n",
      "625:\tlearn: 0.2937709\ttotal: 2.75s\tremaining: 1.64s\n",
      "626:\tlearn: 0.2935726\ttotal: 2.75s\tremaining: 1.64s\n",
      "627:\tlearn: 0.2932977\ttotal: 2.76s\tremaining: 1.63s\n",
      "628:\tlearn: 0.2930286\ttotal: 2.76s\tremaining: 1.63s\n",
      "629:\tlearn: 0.2928204\ttotal: 2.76s\tremaining: 1.62s\n",
      "630:\tlearn: 0.2925666\ttotal: 2.77s\tremaining: 1.62s\n",
      "631:\tlearn: 0.2924391\ttotal: 2.77s\tremaining: 1.61s\n",
      "632:\tlearn: 0.2922301\ttotal: 2.77s\tremaining: 1.61s\n",
      "633:\tlearn: 0.2920249\ttotal: 2.78s\tremaining: 1.6s\n",
      "634:\tlearn: 0.2918731\ttotal: 2.78s\tremaining: 1.6s\n",
      "635:\tlearn: 0.2914958\ttotal: 2.79s\tremaining: 1.59s\n",
      "636:\tlearn: 0.2911980\ttotal: 2.79s\tremaining: 1.59s\n",
      "637:\tlearn: 0.2908056\ttotal: 2.79s\tremaining: 1.58s\n",
      "638:\tlearn: 0.2906092\ttotal: 2.8s\tremaining: 1.58s\n",
      "639:\tlearn: 0.2901976\ttotal: 2.8s\tremaining: 1.58s\n",
      "640:\tlearn: 0.2898671\ttotal: 2.81s\tremaining: 1.57s\n",
      "641:\tlearn: 0.2894744\ttotal: 2.81s\tremaining: 1.57s\n",
      "642:\tlearn: 0.2894149\ttotal: 2.81s\tremaining: 1.56s\n",
      "643:\tlearn: 0.2891425\ttotal: 2.82s\tremaining: 1.56s\n",
      "644:\tlearn: 0.2886182\ttotal: 2.82s\tremaining: 1.55s\n",
      "645:\tlearn: 0.2883109\ttotal: 2.82s\tremaining: 1.55s\n",
      "646:\tlearn: 0.2881232\ttotal: 2.83s\tremaining: 1.54s\n",
      "647:\tlearn: 0.2878932\ttotal: 2.83s\tremaining: 1.54s\n",
      "648:\tlearn: 0.2877421\ttotal: 2.84s\tremaining: 1.54s\n",
      "649:\tlearn: 0.2874466\ttotal: 2.84s\tremaining: 1.53s\n",
      "650:\tlearn: 0.2872241\ttotal: 2.85s\tremaining: 1.53s\n",
      "651:\tlearn: 0.2869097\ttotal: 2.85s\tremaining: 1.52s\n",
      "652:\tlearn: 0.2867584\ttotal: 2.86s\tremaining: 1.52s\n",
      "653:\tlearn: 0.2864996\ttotal: 2.86s\tremaining: 1.51s\n",
      "654:\tlearn: 0.2863397\ttotal: 2.87s\tremaining: 1.51s\n",
      "655:\tlearn: 0.2861016\ttotal: 2.87s\tremaining: 1.5s\n",
      "656:\tlearn: 0.2857364\ttotal: 2.87s\tremaining: 1.5s\n",
      "657:\tlearn: 0.2855899\ttotal: 2.88s\tremaining: 1.5s\n",
      "658:\tlearn: 0.2855001\ttotal: 2.88s\tremaining: 1.49s\n",
      "659:\tlearn: 0.2849807\ttotal: 2.88s\tremaining: 1.49s\n",
      "660:\tlearn: 0.2844953\ttotal: 2.89s\tremaining: 1.48s\n",
      "661:\tlearn: 0.2842926\ttotal: 2.89s\tremaining: 1.48s\n",
      "662:\tlearn: 0.2840254\ttotal: 2.9s\tremaining: 1.47s\n",
      "663:\tlearn: 0.2837445\ttotal: 2.9s\tremaining: 1.47s\n",
      "664:\tlearn: 0.2836261\ttotal: 2.9s\tremaining: 1.46s\n",
      "665:\tlearn: 0.2832867\ttotal: 2.91s\tremaining: 1.46s\n",
      "666:\tlearn: 0.2830260\ttotal: 2.91s\tremaining: 1.45s\n",
      "667:\tlearn: 0.2828824\ttotal: 2.92s\tremaining: 1.45s\n",
      "668:\tlearn: 0.2826503\ttotal: 2.92s\tremaining: 1.44s\n",
      "669:\tlearn: 0.2824456\ttotal: 2.92s\tremaining: 1.44s\n",
      "670:\tlearn: 0.2822707\ttotal: 2.93s\tremaining: 1.44s\n",
      "671:\tlearn: 0.2818192\ttotal: 2.93s\tremaining: 1.43s\n",
      "672:\tlearn: 0.2815513\ttotal: 2.94s\tremaining: 1.43s\n",
      "673:\tlearn: 0.2813578\ttotal: 2.94s\tremaining: 1.42s\n",
      "674:\tlearn: 0.2812220\ttotal: 2.94s\tremaining: 1.42s\n",
      "675:\tlearn: 0.2810673\ttotal: 2.95s\tremaining: 1.41s\n",
      "676:\tlearn: 0.2808722\ttotal: 2.95s\tremaining: 1.41s\n",
      "677:\tlearn: 0.2806202\ttotal: 2.95s\tremaining: 1.4s\n",
      "678:\tlearn: 0.2804213\ttotal: 2.96s\tremaining: 1.4s\n",
      "679:\tlearn: 0.2802106\ttotal: 2.96s\tremaining: 1.39s\n",
      "680:\tlearn: 0.2799196\ttotal: 2.97s\tremaining: 1.39s\n",
      "681:\tlearn: 0.2795763\ttotal: 2.97s\tremaining: 1.38s\n",
      "682:\tlearn: 0.2793791\ttotal: 2.97s\tremaining: 1.38s\n",
      "683:\tlearn: 0.2792834\ttotal: 2.98s\tremaining: 1.38s\n",
      "684:\tlearn: 0.2788512\ttotal: 2.98s\tremaining: 1.37s\n",
      "685:\tlearn: 0.2784301\ttotal: 2.98s\tremaining: 1.37s\n",
      "686:\tlearn: 0.2782777\ttotal: 2.99s\tremaining: 1.36s\n"
     ]
    },
    {
     "name": "stdout",
     "output_type": "stream",
     "text": [
      "687:\tlearn: 0.2780998\ttotal: 3s\tremaining: 1.36s\n",
      "688:\tlearn: 0.2777655\ttotal: 3s\tremaining: 1.35s\n",
      "689:\tlearn: 0.2773918\ttotal: 3s\tremaining: 1.35s\n",
      "690:\tlearn: 0.2772021\ttotal: 3.01s\tremaining: 1.34s\n",
      "691:\tlearn: 0.2768734\ttotal: 3.01s\tremaining: 1.34s\n",
      "692:\tlearn: 0.2764099\ttotal: 3.02s\tremaining: 1.34s\n",
      "693:\tlearn: 0.2762387\ttotal: 3.02s\tremaining: 1.33s\n",
      "694:\tlearn: 0.2760962\ttotal: 3.03s\tremaining: 1.33s\n",
      "695:\tlearn: 0.2759592\ttotal: 3.03s\tremaining: 1.32s\n",
      "696:\tlearn: 0.2755461\ttotal: 3.03s\tremaining: 1.32s\n",
      "697:\tlearn: 0.2752277\ttotal: 3.04s\tremaining: 1.31s\n",
      "698:\tlearn: 0.2750603\ttotal: 3.04s\tremaining: 1.31s\n",
      "699:\tlearn: 0.2748922\ttotal: 3.05s\tremaining: 1.3s\n",
      "700:\tlearn: 0.2747763\ttotal: 3.05s\tremaining: 1.3s\n",
      "701:\tlearn: 0.2744921\ttotal: 3.05s\tremaining: 1.3s\n",
      "702:\tlearn: 0.2741700\ttotal: 3.06s\tremaining: 1.29s\n",
      "703:\tlearn: 0.2739667\ttotal: 3.06s\tremaining: 1.29s\n",
      "704:\tlearn: 0.2737784\ttotal: 3.06s\tremaining: 1.28s\n",
      "705:\tlearn: 0.2733980\ttotal: 3.07s\tremaining: 1.28s\n",
      "706:\tlearn: 0.2732135\ttotal: 3.07s\tremaining: 1.27s\n",
      "707:\tlearn: 0.2729636\ttotal: 3.08s\tremaining: 1.27s\n",
      "708:\tlearn: 0.2727125\ttotal: 3.08s\tremaining: 1.26s\n",
      "709:\tlearn: 0.2725643\ttotal: 3.08s\tremaining: 1.26s\n",
      "710:\tlearn: 0.2722871\ttotal: 3.09s\tremaining: 1.25s\n",
      "711:\tlearn: 0.2720875\ttotal: 3.09s\tremaining: 1.25s\n",
      "712:\tlearn: 0.2717734\ttotal: 3.1s\tremaining: 1.25s\n",
      "713:\tlearn: 0.2715568\ttotal: 3.1s\tremaining: 1.24s\n",
      "714:\tlearn: 0.2713334\ttotal: 3.1s\tremaining: 1.24s\n",
      "715:\tlearn: 0.2711643\ttotal: 3.11s\tremaining: 1.23s\n",
      "716:\tlearn: 0.2708809\ttotal: 3.11s\tremaining: 1.23s\n",
      "717:\tlearn: 0.2707535\ttotal: 3.12s\tremaining: 1.22s\n",
      "718:\tlearn: 0.2705291\ttotal: 3.12s\tremaining: 1.22s\n",
      "719:\tlearn: 0.2703092\ttotal: 3.12s\tremaining: 1.21s\n",
      "720:\tlearn: 0.2698799\ttotal: 3.13s\tremaining: 1.21s\n",
      "721:\tlearn: 0.2695117\ttotal: 3.13s\tremaining: 1.21s\n",
      "722:\tlearn: 0.2691096\ttotal: 3.13s\tremaining: 1.2s\n",
      "723:\tlearn: 0.2689475\ttotal: 3.14s\tremaining: 1.2s\n",
      "724:\tlearn: 0.2688304\ttotal: 3.14s\tremaining: 1.19s\n",
      "725:\tlearn: 0.2686678\ttotal: 3.15s\tremaining: 1.19s\n",
      "726:\tlearn: 0.2683857\ttotal: 3.15s\tremaining: 1.18s\n",
      "727:\tlearn: 0.2682888\ttotal: 3.15s\tremaining: 1.18s\n",
      "728:\tlearn: 0.2681534\ttotal: 3.16s\tremaining: 1.17s\n",
      "729:\tlearn: 0.2678461\ttotal: 3.16s\tremaining: 1.17s\n",
      "730:\tlearn: 0.2676915\ttotal: 3.17s\tremaining: 1.17s\n",
      "731:\tlearn: 0.2675472\ttotal: 3.17s\tremaining: 1.16s\n",
      "732:\tlearn: 0.2672442\ttotal: 3.18s\tremaining: 1.16s\n",
      "733:\tlearn: 0.2671035\ttotal: 3.18s\tremaining: 1.15s\n",
      "734:\tlearn: 0.2668893\ttotal: 3.19s\tremaining: 1.15s\n",
      "735:\tlearn: 0.2667165\ttotal: 3.19s\tremaining: 1.14s\n",
      "736:\tlearn: 0.2665443\ttotal: 3.19s\tremaining: 1.14s\n",
      "737:\tlearn: 0.2663046\ttotal: 3.2s\tremaining: 1.14s\n",
      "738:\tlearn: 0.2660283\ttotal: 3.2s\tremaining: 1.13s\n",
      "739:\tlearn: 0.2659071\ttotal: 3.21s\tremaining: 1.13s\n",
      "740:\tlearn: 0.2656698\ttotal: 3.21s\tremaining: 1.12s\n",
      "741:\tlearn: 0.2653548\ttotal: 3.21s\tremaining: 1.12s\n",
      "742:\tlearn: 0.2652226\ttotal: 3.22s\tremaining: 1.11s\n",
      "743:\tlearn: 0.2651037\ttotal: 3.22s\tremaining: 1.11s\n",
      "744:\tlearn: 0.2649184\ttotal: 3.23s\tremaining: 1.1s\n",
      "745:\tlearn: 0.2647335\ttotal: 3.23s\tremaining: 1.1s\n",
      "746:\tlearn: 0.2646522\ttotal: 3.23s\tremaining: 1.09s\n",
      "747:\tlearn: 0.2644324\ttotal: 3.24s\tremaining: 1.09s\n",
      "748:\tlearn: 0.2642788\ttotal: 3.24s\tremaining: 1.09s\n",
      "749:\tlearn: 0.2640669\ttotal: 3.25s\tremaining: 1.08s\n",
      "750:\tlearn: 0.2639494\ttotal: 3.25s\tremaining: 1.08s\n",
      "751:\tlearn: 0.2635529\ttotal: 3.25s\tremaining: 1.07s\n",
      "752:\tlearn: 0.2633589\ttotal: 3.26s\tremaining: 1.07s\n",
      "753:\tlearn: 0.2631934\ttotal: 3.26s\tremaining: 1.06s\n",
      "754:\tlearn: 0.2629681\ttotal: 3.27s\tremaining: 1.06s\n",
      "755:\tlearn: 0.2628001\ttotal: 3.27s\tremaining: 1.06s\n",
      "756:\tlearn: 0.2625420\ttotal: 3.28s\tremaining: 1.05s\n",
      "757:\tlearn: 0.2623653\ttotal: 3.28s\tremaining: 1.05s\n",
      "758:\tlearn: 0.2621522\ttotal: 3.28s\tremaining: 1.04s\n",
      "759:\tlearn: 0.2618415\ttotal: 3.29s\tremaining: 1.04s\n",
      "760:\tlearn: 0.2615651\ttotal: 3.29s\tremaining: 1.03s\n",
      "761:\tlearn: 0.2614580\ttotal: 3.29s\tremaining: 1.03s\n",
      "762:\tlearn: 0.2612567\ttotal: 3.3s\tremaining: 1.02s\n",
      "763:\tlearn: 0.2609946\ttotal: 3.3s\tremaining: 1.02s\n",
      "764:\tlearn: 0.2608090\ttotal: 3.31s\tremaining: 1.01s\n",
      "765:\tlearn: 0.2605081\ttotal: 3.31s\tremaining: 1.01s\n",
      "766:\tlearn: 0.2603336\ttotal: 3.31s\tremaining: 1.01s\n",
      "767:\tlearn: 0.2600956\ttotal: 3.32s\tremaining: 1s\n",
      "768:\tlearn: 0.2598375\ttotal: 3.33s\tremaining: 999ms\n",
      "769:\tlearn: 0.2596590\ttotal: 3.33s\tremaining: 995ms\n",
      "770:\tlearn: 0.2594269\ttotal: 3.33s\tremaining: 991ms\n",
      "771:\tlearn: 0.2590752\ttotal: 3.34s\tremaining: 986ms\n",
      "772:\tlearn: 0.2587713\ttotal: 3.34s\tremaining: 982ms\n",
      "773:\tlearn: 0.2586639\ttotal: 3.35s\tremaining: 978ms\n",
      "774:\tlearn: 0.2582746\ttotal: 3.35s\tremaining: 973ms\n",
      "775:\tlearn: 0.2580847\ttotal: 3.35s\tremaining: 969ms\n",
      "776:\tlearn: 0.2579291\ttotal: 3.36s\tremaining: 964ms\n",
      "777:\tlearn: 0.2577155\ttotal: 3.36s\tremaining: 960ms\n",
      "778:\tlearn: 0.2575016\ttotal: 3.37s\tremaining: 955ms\n",
      "779:\tlearn: 0.2573489\ttotal: 3.37s\tremaining: 951ms\n",
      "780:\tlearn: 0.2571358\ttotal: 3.38s\tremaining: 947ms\n",
      "781:\tlearn: 0.2569336\ttotal: 3.38s\tremaining: 942ms\n",
      "782:\tlearn: 0.2567258\ttotal: 3.38s\tremaining: 938ms\n",
      "783:\tlearn: 0.2565130\ttotal: 3.39s\tremaining: 933ms\n",
      "784:\tlearn: 0.2564257\ttotal: 3.39s\tremaining: 929ms\n",
      "785:\tlearn: 0.2561589\ttotal: 3.4s\tremaining: 924ms\n",
      "786:\tlearn: 0.2560161\ttotal: 3.4s\tremaining: 920ms\n",
      "787:\tlearn: 0.2557009\ttotal: 3.4s\tremaining: 915ms\n",
      "788:\tlearn: 0.2554608\ttotal: 3.41s\tremaining: 911ms\n",
      "789:\tlearn: 0.2553808\ttotal: 3.41s\tremaining: 907ms\n",
      "790:\tlearn: 0.2551502\ttotal: 3.41s\tremaining: 902ms\n",
      "791:\tlearn: 0.2549581\ttotal: 3.42s\tremaining: 898ms\n",
      "792:\tlearn: 0.2545617\ttotal: 3.42s\tremaining: 893ms\n",
      "793:\tlearn: 0.2543052\ttotal: 3.42s\tremaining: 889ms\n",
      "794:\tlearn: 0.2540817\ttotal: 3.43s\tremaining: 884ms\n",
      "795:\tlearn: 0.2540157\ttotal: 3.43s\tremaining: 880ms\n",
      "796:\tlearn: 0.2537277\ttotal: 3.44s\tremaining: 875ms\n",
      "797:\tlearn: 0.2534629\ttotal: 3.44s\tremaining: 871ms\n",
      "798:\tlearn: 0.2530700\ttotal: 3.44s\tremaining: 867ms\n",
      "799:\tlearn: 0.2528611\ttotal: 3.45s\tremaining: 862ms\n",
      "800:\tlearn: 0.2526812\ttotal: 3.45s\tremaining: 858ms\n",
      "801:\tlearn: 0.2523937\ttotal: 3.46s\tremaining: 853ms\n",
      "802:\tlearn: 0.2520940\ttotal: 3.46s\tremaining: 849ms\n",
      "803:\tlearn: 0.2519739\ttotal: 3.46s\tremaining: 844ms\n",
      "804:\tlearn: 0.2519170\ttotal: 3.47s\tremaining: 840ms\n",
      "805:\tlearn: 0.2517096\ttotal: 3.47s\tremaining: 836ms\n",
      "806:\tlearn: 0.2515033\ttotal: 3.48s\tremaining: 831ms\n",
      "807:\tlearn: 0.2513408\ttotal: 3.48s\tremaining: 827ms\n",
      "808:\tlearn: 0.2512891\ttotal: 3.48s\tremaining: 822ms\n",
      "809:\tlearn: 0.2510570\ttotal: 3.49s\tremaining: 818ms\n",
      "810:\tlearn: 0.2508387\ttotal: 3.49s\tremaining: 814ms\n",
      "811:\tlearn: 0.2505377\ttotal: 3.5s\tremaining: 810ms\n",
      "812:\tlearn: 0.2501538\ttotal: 3.5s\tremaining: 806ms\n",
      "813:\tlearn: 0.2500013\ttotal: 3.51s\tremaining: 801ms\n",
      "814:\tlearn: 0.2498099\ttotal: 3.51s\tremaining: 797ms\n",
      "815:\tlearn: 0.2496151\ttotal: 3.52s\tremaining: 793ms\n",
      "816:\tlearn: 0.2495233\ttotal: 3.52s\tremaining: 788ms\n",
      "817:\tlearn: 0.2493167\ttotal: 3.52s\tremaining: 784ms\n",
      "818:\tlearn: 0.2492102\ttotal: 3.53s\tremaining: 779ms\n",
      "819:\tlearn: 0.2489330\ttotal: 3.53s\tremaining: 775ms\n",
      "820:\tlearn: 0.2488131\ttotal: 3.53s\tremaining: 771ms\n",
      "821:\tlearn: 0.2485946\ttotal: 3.54s\tremaining: 766ms\n",
      "822:\tlearn: 0.2485017\ttotal: 3.54s\tremaining: 762ms\n",
      "823:\tlearn: 0.2481905\ttotal: 3.55s\tremaining: 757ms\n",
      "824:\tlearn: 0.2477253\ttotal: 3.55s\tremaining: 753ms\n",
      "825:\tlearn: 0.2475475\ttotal: 3.55s\tremaining: 749ms\n",
      "826:\tlearn: 0.2473715\ttotal: 3.56s\tremaining: 744ms\n",
      "827:\tlearn: 0.2472002\ttotal: 3.56s\tremaining: 740ms\n",
      "828:\tlearn: 0.2469941\ttotal: 3.56s\tremaining: 735ms\n",
      "829:\tlearn: 0.2466527\ttotal: 3.57s\tremaining: 731ms\n",
      "830:\tlearn: 0.2464430\ttotal: 3.57s\tremaining: 727ms\n",
      "831:\tlearn: 0.2461151\ttotal: 3.58s\tremaining: 722ms\n",
      "832:\tlearn: 0.2457970\ttotal: 3.58s\tremaining: 718ms\n",
      "833:\tlearn: 0.2455901\ttotal: 3.58s\tremaining: 713ms\n",
      "834:\tlearn: 0.2452992\ttotal: 3.59s\tremaining: 709ms\n",
      "835:\tlearn: 0.2451277\ttotal: 3.59s\tremaining: 705ms\n",
      "836:\tlearn: 0.2447410\ttotal: 3.6s\tremaining: 700ms\n",
      "837:\tlearn: 0.2445201\ttotal: 3.6s\tremaining: 696ms\n",
      "838:\tlearn: 0.2443105\ttotal: 3.6s\tremaining: 692ms\n",
      "839:\tlearn: 0.2440616\ttotal: 3.61s\tremaining: 687ms\n",
      "840:\tlearn: 0.2438678\ttotal: 3.61s\tremaining: 683ms\n",
      "841:\tlearn: 0.2435659\ttotal: 3.62s\tremaining: 678ms\n",
      "842:\tlearn: 0.2432741\ttotal: 3.62s\tremaining: 674ms\n",
      "843:\tlearn: 0.2431029\ttotal: 3.62s\tremaining: 670ms\n",
      "844:\tlearn: 0.2429203\ttotal: 3.63s\tremaining: 665ms\n",
      "845:\tlearn: 0.2428023\ttotal: 3.63s\tremaining: 661ms\n",
      "846:\tlearn: 0.2424640\ttotal: 3.63s\tremaining: 657ms\n",
      "847:\tlearn: 0.2423001\ttotal: 3.64s\tremaining: 652ms\n",
      "848:\tlearn: 0.2420735\ttotal: 3.64s\tremaining: 648ms\n",
      "849:\tlearn: 0.2420084\ttotal: 3.65s\tremaining: 643ms\n",
      "850:\tlearn: 0.2417864\ttotal: 3.65s\tremaining: 639ms\n"
     ]
    },
    {
     "name": "stdout",
     "output_type": "stream",
     "text": [
      "851:\tlearn: 0.2416312\ttotal: 3.65s\tremaining: 635ms\n",
      "852:\tlearn: 0.2413680\ttotal: 3.66s\tremaining: 631ms\n",
      "853:\tlearn: 0.2412124\ttotal: 3.66s\tremaining: 627ms\n",
      "854:\tlearn: 0.2410154\ttotal: 3.67s\tremaining: 622ms\n",
      "855:\tlearn: 0.2408704\ttotal: 3.67s\tremaining: 618ms\n",
      "856:\tlearn: 0.2407793\ttotal: 3.68s\tremaining: 614ms\n",
      "857:\tlearn: 0.2404344\ttotal: 3.68s\tremaining: 610ms\n",
      "858:\tlearn: 0.2402560\ttotal: 3.69s\tremaining: 605ms\n",
      "859:\tlearn: 0.2398737\ttotal: 3.69s\tremaining: 601ms\n",
      "860:\tlearn: 0.2396611\ttotal: 3.69s\tremaining: 597ms\n",
      "861:\tlearn: 0.2394466\ttotal: 3.7s\tremaining: 592ms\n",
      "862:\tlearn: 0.2392354\ttotal: 3.7s\tremaining: 588ms\n",
      "863:\tlearn: 0.2391121\ttotal: 3.71s\tremaining: 583ms\n",
      "864:\tlearn: 0.2389406\ttotal: 3.71s\tremaining: 579ms\n",
      "865:\tlearn: 0.2386347\ttotal: 3.71s\tremaining: 575ms\n",
      "866:\tlearn: 0.2385575\ttotal: 3.72s\tremaining: 570ms\n",
      "867:\tlearn: 0.2383575\ttotal: 3.72s\tremaining: 566ms\n",
      "868:\tlearn: 0.2380460\ttotal: 3.73s\tremaining: 562ms\n",
      "869:\tlearn: 0.2377483\ttotal: 3.73s\tremaining: 557ms\n",
      "870:\tlearn: 0.2375726\ttotal: 3.73s\tremaining: 553ms\n",
      "871:\tlearn: 0.2372960\ttotal: 3.74s\tremaining: 549ms\n",
      "872:\tlearn: 0.2370233\ttotal: 3.74s\tremaining: 544ms\n",
      "873:\tlearn: 0.2368690\ttotal: 3.74s\tremaining: 540ms\n",
      "874:\tlearn: 0.2367533\ttotal: 3.75s\tremaining: 535ms\n",
      "875:\tlearn: 0.2366200\ttotal: 3.75s\tremaining: 531ms\n",
      "876:\tlearn: 0.2363331\ttotal: 3.76s\tremaining: 527ms\n",
      "877:\tlearn: 0.2361300\ttotal: 3.76s\tremaining: 522ms\n",
      "878:\tlearn: 0.2358234\ttotal: 3.76s\tremaining: 518ms\n",
      "879:\tlearn: 0.2356507\ttotal: 3.77s\tremaining: 514ms\n",
      "880:\tlearn: 0.2355343\ttotal: 3.77s\tremaining: 509ms\n",
      "881:\tlearn: 0.2351850\ttotal: 3.77s\tremaining: 505ms\n",
      "882:\tlearn: 0.2350543\ttotal: 3.78s\tremaining: 501ms\n",
      "883:\tlearn: 0.2347072\ttotal: 3.78s\tremaining: 496ms\n",
      "884:\tlearn: 0.2345145\ttotal: 3.79s\tremaining: 492ms\n",
      "885:\tlearn: 0.2343492\ttotal: 3.79s\tremaining: 488ms\n",
      "886:\tlearn: 0.2340319\ttotal: 3.79s\tremaining: 483ms\n",
      "887:\tlearn: 0.2338152\ttotal: 3.8s\tremaining: 479ms\n",
      "888:\tlearn: 0.2336786\ttotal: 3.8s\tremaining: 475ms\n",
      "889:\tlearn: 0.2334804\ttotal: 3.81s\tremaining: 471ms\n",
      "890:\tlearn: 0.2331008\ttotal: 3.81s\tremaining: 467ms\n",
      "891:\tlearn: 0.2328123\ttotal: 3.82s\tremaining: 462ms\n",
      "892:\tlearn: 0.2324952\ttotal: 3.82s\tremaining: 458ms\n",
      "893:\tlearn: 0.2322858\ttotal: 3.83s\tremaining: 454ms\n",
      "894:\tlearn: 0.2321078\ttotal: 3.83s\tremaining: 450ms\n",
      "895:\tlearn: 0.2318632\ttotal: 3.84s\tremaining: 445ms\n",
      "896:\tlearn: 0.2316696\ttotal: 3.84s\tremaining: 441ms\n",
      "897:\tlearn: 0.2313141\ttotal: 3.84s\tremaining: 437ms\n",
      "898:\tlearn: 0.2310384\ttotal: 3.85s\tremaining: 432ms\n",
      "899:\tlearn: 0.2308471\ttotal: 3.85s\tremaining: 428ms\n",
      "900:\tlearn: 0.2306039\ttotal: 3.85s\tremaining: 424ms\n",
      "901:\tlearn: 0.2304924\ttotal: 3.86s\tremaining: 419ms\n",
      "902:\tlearn: 0.2303643\ttotal: 3.86s\tremaining: 415ms\n",
      "903:\tlearn: 0.2301962\ttotal: 3.87s\tremaining: 411ms\n",
      "904:\tlearn: 0.2300043\ttotal: 3.87s\tremaining: 406ms\n",
      "905:\tlearn: 0.2298540\ttotal: 3.87s\tremaining: 402ms\n",
      "906:\tlearn: 0.2297126\ttotal: 3.88s\tremaining: 398ms\n",
      "907:\tlearn: 0.2294855\ttotal: 3.88s\tremaining: 393ms\n",
      "908:\tlearn: 0.2290991\ttotal: 3.88s\tremaining: 389ms\n",
      "909:\tlearn: 0.2289023\ttotal: 3.89s\tremaining: 385ms\n",
      "910:\tlearn: 0.2286474\ttotal: 3.89s\tremaining: 380ms\n",
      "911:\tlearn: 0.2284438\ttotal: 3.9s\tremaining: 376ms\n",
      "912:\tlearn: 0.2282227\ttotal: 3.9s\tremaining: 372ms\n",
      "913:\tlearn: 0.2279530\ttotal: 3.9s\tremaining: 367ms\n",
      "914:\tlearn: 0.2277938\ttotal: 3.91s\tremaining: 363ms\n",
      "915:\tlearn: 0.2276636\ttotal: 3.91s\tremaining: 359ms\n",
      "916:\tlearn: 0.2274553\ttotal: 3.92s\tremaining: 354ms\n",
      "917:\tlearn: 0.2271909\ttotal: 3.92s\tremaining: 350ms\n",
      "918:\tlearn: 0.2267150\ttotal: 3.92s\tremaining: 346ms\n",
      "919:\tlearn: 0.2264573\ttotal: 3.93s\tremaining: 342ms\n",
      "920:\tlearn: 0.2262776\ttotal: 3.93s\tremaining: 337ms\n",
      "921:\tlearn: 0.2261959\ttotal: 3.94s\tremaining: 333ms\n",
      "922:\tlearn: 0.2259906\ttotal: 3.94s\tremaining: 329ms\n",
      "923:\tlearn: 0.2257087\ttotal: 3.94s\tremaining: 324ms\n",
      "924:\tlearn: 0.2255685\ttotal: 3.95s\tremaining: 320ms\n",
      "925:\tlearn: 0.2253321\ttotal: 3.95s\tremaining: 316ms\n",
      "926:\tlearn: 0.2251327\ttotal: 3.95s\tremaining: 311ms\n",
      "927:\tlearn: 0.2249952\ttotal: 3.96s\tremaining: 307ms\n",
      "928:\tlearn: 0.2248877\ttotal: 3.96s\tremaining: 303ms\n",
      "929:\tlearn: 0.2247575\ttotal: 3.97s\tremaining: 299ms\n",
      "930:\tlearn: 0.2245515\ttotal: 3.97s\tremaining: 294ms\n",
      "931:\tlearn: 0.2244464\ttotal: 3.98s\tremaining: 290ms\n",
      "932:\tlearn: 0.2242453\ttotal: 3.98s\tremaining: 286ms\n",
      "933:\tlearn: 0.2240933\ttotal: 3.99s\tremaining: 282ms\n",
      "934:\tlearn: 0.2240094\ttotal: 3.99s\tremaining: 277ms\n",
      "935:\tlearn: 0.2238943\ttotal: 3.99s\tremaining: 273ms\n",
      "936:\tlearn: 0.2237235\ttotal: 4s\tremaining: 269ms\n",
      "937:\tlearn: 0.2235725\ttotal: 4s\tremaining: 265ms\n",
      "938:\tlearn: 0.2232675\ttotal: 4s\tremaining: 260ms\n",
      "939:\tlearn: 0.2229665\ttotal: 4.01s\tremaining: 256ms\n",
      "940:\tlearn: 0.2228382\ttotal: 4.01s\tremaining: 252ms\n",
      "941:\tlearn: 0.2226573\ttotal: 4.02s\tremaining: 247ms\n",
      "942:\tlearn: 0.2224769\ttotal: 4.02s\tremaining: 243ms\n",
      "943:\tlearn: 0.2222134\ttotal: 4.03s\tremaining: 239ms\n",
      "944:\tlearn: 0.2219684\ttotal: 4.03s\tremaining: 234ms\n",
      "945:\tlearn: 0.2216200\ttotal: 4.03s\tremaining: 230ms\n",
      "946:\tlearn: 0.2213506\ttotal: 4.04s\tremaining: 226ms\n",
      "947:\tlearn: 0.2212450\ttotal: 4.04s\tremaining: 222ms\n",
      "948:\tlearn: 0.2210993\ttotal: 4.04s\tremaining: 217ms\n",
      "949:\tlearn: 0.2210748\ttotal: 4.05s\tremaining: 213ms\n",
      "950:\tlearn: 0.2209998\ttotal: 4.05s\tremaining: 209ms\n",
      "951:\tlearn: 0.2207899\ttotal: 4.05s\tremaining: 204ms\n",
      "952:\tlearn: 0.2204685\ttotal: 4.06s\tremaining: 200ms\n",
      "953:\tlearn: 0.2202563\ttotal: 4.06s\tremaining: 196ms\n",
      "954:\tlearn: 0.2201134\ttotal: 4.07s\tremaining: 192ms\n",
      "955:\tlearn: 0.2199493\ttotal: 4.07s\tremaining: 187ms\n",
      "956:\tlearn: 0.2198277\ttotal: 4.07s\tremaining: 183ms\n",
      "957:\tlearn: 0.2196306\ttotal: 4.08s\tremaining: 179ms\n",
      "958:\tlearn: 0.2194657\ttotal: 4.08s\tremaining: 175ms\n",
      "959:\tlearn: 0.2193365\ttotal: 4.09s\tremaining: 170ms\n",
      "960:\tlearn: 0.2190508\ttotal: 4.09s\tremaining: 166ms\n",
      "961:\tlearn: 0.2188780\ttotal: 4.09s\tremaining: 162ms\n",
      "962:\tlearn: 0.2186982\ttotal: 4.1s\tremaining: 157ms\n",
      "963:\tlearn: 0.2184084\ttotal: 4.1s\tremaining: 153ms\n",
      "964:\tlearn: 0.2182851\ttotal: 4.11s\tremaining: 149ms\n",
      "965:\tlearn: 0.2181933\ttotal: 4.11s\tremaining: 145ms\n",
      "966:\tlearn: 0.2179541\ttotal: 4.11s\tremaining: 140ms\n",
      "967:\tlearn: 0.2178686\ttotal: 4.12s\tremaining: 136ms\n",
      "968:\tlearn: 0.2176379\ttotal: 4.12s\tremaining: 132ms\n",
      "969:\tlearn: 0.2174315\ttotal: 4.12s\tremaining: 128ms\n",
      "970:\tlearn: 0.2171641\ttotal: 4.13s\tremaining: 123ms\n",
      "971:\tlearn: 0.2170805\ttotal: 4.13s\tremaining: 119ms\n",
      "972:\tlearn: 0.2169286\ttotal: 4.14s\tremaining: 115ms\n",
      "973:\tlearn: 0.2167543\ttotal: 4.14s\tremaining: 111ms\n",
      "974:\tlearn: 0.2166748\ttotal: 4.15s\tremaining: 106ms\n",
      "975:\tlearn: 0.2165473\ttotal: 4.16s\tremaining: 102ms\n",
      "976:\tlearn: 0.2164787\ttotal: 4.16s\tremaining: 98ms\n",
      "977:\tlearn: 0.2163090\ttotal: 4.17s\tremaining: 93.7ms\n",
      "978:\tlearn: 0.2161029\ttotal: 4.17s\tremaining: 89.4ms\n",
      "979:\tlearn: 0.2159464\ttotal: 4.17s\tremaining: 85.2ms\n",
      "980:\tlearn: 0.2157806\ttotal: 4.18s\tremaining: 80.9ms\n",
      "981:\tlearn: 0.2155353\ttotal: 4.18s\tremaining: 76.6ms\n",
      "982:\tlearn: 0.2153520\ttotal: 4.18s\tremaining: 72.4ms\n",
      "983:\tlearn: 0.2150253\ttotal: 4.19s\tremaining: 68.1ms\n",
      "984:\tlearn: 0.2147992\ttotal: 4.19s\tremaining: 63.9ms\n",
      "985:\tlearn: 0.2144625\ttotal: 4.2s\tremaining: 59.6ms\n",
      "986:\tlearn: 0.2141519\ttotal: 4.2s\tremaining: 55.3ms\n",
      "987:\tlearn: 0.2141197\ttotal: 4.2s\tremaining: 51.1ms\n",
      "988:\tlearn: 0.2140360\ttotal: 4.21s\tremaining: 46.8ms\n",
      "989:\tlearn: 0.2138360\ttotal: 4.21s\tremaining: 42.5ms\n",
      "990:\tlearn: 0.2135982\ttotal: 4.22s\tremaining: 38.3ms\n",
      "991:\tlearn: 0.2135102\ttotal: 4.22s\tremaining: 34ms\n",
      "992:\tlearn: 0.2131976\ttotal: 4.22s\tremaining: 29.8ms\n",
      "993:\tlearn: 0.2129955\ttotal: 4.23s\tremaining: 25.5ms\n",
      "994:\tlearn: 0.2127261\ttotal: 4.23s\tremaining: 21.3ms\n",
      "995:\tlearn: 0.2123776\ttotal: 4.24s\tremaining: 17ms\n",
      "996:\tlearn: 0.2123060\ttotal: 4.24s\tremaining: 12.8ms\n",
      "997:\tlearn: 0.2122299\ttotal: 4.24s\tremaining: 8.5ms\n",
      "998:\tlearn: 0.2121843\ttotal: 4.25s\tremaining: 4.25ms\n",
      "999:\tlearn: 0.2119477\ttotal: 4.25s\tremaining: 0us\n",
      "\n",
      "=========================catboost=========================\n",
      "******************************************************\n",
      "Accuracy    :  0.776\n",
      "Recall:  0.696\n",
      "Precision    :  0.8285714285714286\n",
      "F1 Score    :  0.7565217391304347\n",
      "MSE   :  0.224\n",
      "\n",
      "=========================Random Forest=========================\n",
      "******************************************************\n",
      "Accuracy    :  0.8\n",
      "Recall:  0.704\n",
      "Precision    :  0.8712871287128713\n",
      "F1 Score    :  0.7787610619469026\n",
      "MSE   :  0.2\n"
     ]
    },
    {
     "name": "stdout",
     "output_type": "stream",
     "text": [
      "\n",
      "=========================Gradient Boosting=========================\n",
      "******************************************************\n",
      "Accuracy    :  0.776\n",
      "Recall:  0.736\n",
      "Precision    :  0.8\n",
      "F1 Score    :  0.7666666666666666\n",
      "MSE   :  0.224\n",
      "\n",
      "=========================ExtraTrees=========================\n",
      "******************************************************\n",
      "Accuracy    :  0.836\n",
      "Recall:  0.744\n",
      "Precision    :  0.9117647058823529\n",
      "F1 Score    :  0.8193832599118942\n",
      "MSE   :  0.164\n",
      "\n",
      "=========================Xgboost=========================\n",
      "******************************************************\n",
      "Accuracy    :  0.808\n",
      "Recall:  0.76\n",
      "Precision    :  0.8407079646017699\n",
      "F1 Score    :  0.7983193277310924\n",
      "MSE   :  0.192\n",
      "\n",
      "=========================Lightgbm=========================\n",
      "******************************************************\n",
      "Accuracy    :  0.808\n",
      "Recall:  0.728\n",
      "Precision    :  0.8666666666666667\n",
      "F1 Score    :  0.7913043478260869\n",
      "MSE   :  0.192\n",
      "\n",
      "=========================Decision Tree=========================\n",
      "******************************************************\n",
      "Accuracy    :  0.772\n",
      "Recall:  0.752\n",
      "Precision    :  0.7833333333333333\n",
      "F1 Score    :  0.7673469387755101\n",
      "MSE   :  0.228\n",
      "\n",
      "=========================Logistic=========================\n",
      "******************************************************\n",
      "Accuracy    :  0.736\n",
      "Recall:  0.592\n",
      "Precision    :  0.8314606741573034\n",
      "F1 Score    :  0.691588785046729\n",
      "MSE   :  0.264\n"
     ]
    }
   ],
   "source": [
    "# Preprocessing, fitting, making predictions and scoring for every model:\n",
    "# We used without tuning Algorithm,For prediction:\n",
    "models_data = {'Accuracy':{},\n",
    "               'Recall':{},\n",
    "               'Precision':{},\n",
    "               'F1 Score':{},\n",
    "              'MSE':{}}\n",
    "\n",
    "for name in models:\n",
    "    model = models[name].fit(x_train, y_train)    \n",
    "    y_pred = model.predict(x_test)\n",
    "    \n",
    "    #calculate the Accuracy of model with all algorithm\n",
    "    AccuracyScore = accuracy_score(y_test,y_pred)\n",
    "    models_data['Accuracy'][name]= AccuracyScore\n",
    "        \n",
    "    #calculate the RecallScore of model with all algorithm\n",
    "    RecallScore = recall_score(y_test, y_pred)         \n",
    "    models_data['Recall'][name] = RecallScore\n",
    "               \n",
    "    #calculate Precision Score of model with all algorithm\n",
    "    PrecisionScore= precision_score(y_test, y_pred)\n",
    "    models_data['Precision'][name]= PrecisionScore\n",
    "\n",
    "    #calculate F1 Score of model with all algorithm    \n",
    "    F1_Score = f1_score(y_test, y_pred)\n",
    "    models_data['F1 Score'][name]= F1_Score\n",
    "    \n",
    "    #calculate Mean Squared Error of model with all algorithm    \n",
    "    MSE_value = mean_squared_error(y_test, y_pred)\n",
    "    models_data['MSE'][name]= MSE_value\n",
    "        \n",
    "    print('\\n========================={}========================='.format(name))\n",
    "    print('******************************************************')\n",
    "    print('Accuracy    : ',AccuracyScore)\n",
    "    print('Recall: ',RecallScore) \n",
    "    print('Precision    : ',PrecisionScore) \n",
    "    print('F1 Score    : ',F1_Score) \n",
    "    print('MSE   : ',MSE_value)   "
   ]
  },
  {
   "cell_type": "code",
   "execution_count": 56,
   "metadata": {},
   "outputs": [
    {
     "data": {
      "text/html": [
       "<div>\n",
       "<style scoped>\n",
       "    .dataframe tbody tr th:only-of-type {\n",
       "        vertical-align: middle;\n",
       "    }\n",
       "\n",
       "    .dataframe tbody tr th {\n",
       "        vertical-align: top;\n",
       "    }\n",
       "\n",
       "    .dataframe thead th {\n",
       "        text-align: right;\n",
       "    }\n",
       "</style>\n",
       "<table border=\"1\" class=\"dataframe\">\n",
       "  <thead>\n",
       "    <tr style=\"text-align: right;\">\n",
       "      <th></th>\n",
       "      <th>Accuracy</th>\n",
       "      <th>Recall</th>\n",
       "      <th>Precision</th>\n",
       "      <th>F1 Score</th>\n",
       "      <th>MSE</th>\n",
       "    </tr>\n",
       "  </thead>\n",
       "  <tbody>\n",
       "    <tr>\n",
       "      <th>catboost</th>\n",
       "      <td>0.776</td>\n",
       "      <td>0.696</td>\n",
       "      <td>0.828571</td>\n",
       "      <td>0.756522</td>\n",
       "      <td>0.224</td>\n",
       "    </tr>\n",
       "    <tr>\n",
       "      <th>Random Forest</th>\n",
       "      <td>0.800</td>\n",
       "      <td>0.704</td>\n",
       "      <td>0.871287</td>\n",
       "      <td>0.778761</td>\n",
       "      <td>0.200</td>\n",
       "    </tr>\n",
       "    <tr>\n",
       "      <th>Gradient Boosting</th>\n",
       "      <td>0.776</td>\n",
       "      <td>0.736</td>\n",
       "      <td>0.800000</td>\n",
       "      <td>0.766667</td>\n",
       "      <td>0.224</td>\n",
       "    </tr>\n",
       "    <tr>\n",
       "      <th>ExtraTrees</th>\n",
       "      <td>0.836</td>\n",
       "      <td>0.744</td>\n",
       "      <td>0.911765</td>\n",
       "      <td>0.819383</td>\n",
       "      <td>0.164</td>\n",
       "    </tr>\n",
       "    <tr>\n",
       "      <th>Xgboost</th>\n",
       "      <td>0.808</td>\n",
       "      <td>0.760</td>\n",
       "      <td>0.840708</td>\n",
       "      <td>0.798319</td>\n",
       "      <td>0.192</td>\n",
       "    </tr>\n",
       "    <tr>\n",
       "      <th>Lightgbm</th>\n",
       "      <td>0.808</td>\n",
       "      <td>0.728</td>\n",
       "      <td>0.866667</td>\n",
       "      <td>0.791304</td>\n",
       "      <td>0.192</td>\n",
       "    </tr>\n",
       "    <tr>\n",
       "      <th>Decision Tree</th>\n",
       "      <td>0.772</td>\n",
       "      <td>0.752</td>\n",
       "      <td>0.783333</td>\n",
       "      <td>0.767347</td>\n",
       "      <td>0.228</td>\n",
       "    </tr>\n",
       "    <tr>\n",
       "      <th>Logistic</th>\n",
       "      <td>0.736</td>\n",
       "      <td>0.592</td>\n",
       "      <td>0.831461</td>\n",
       "      <td>0.691589</td>\n",
       "      <td>0.264</td>\n",
       "    </tr>\n",
       "  </tbody>\n",
       "</table>\n",
       "</div>"
      ],
      "text/plain": [
       "                   Accuracy  Recall  Precision  F1 Score    MSE\n",
       "catboost              0.776   0.696   0.828571  0.756522  0.224\n",
       "Random Forest         0.800   0.704   0.871287  0.778761  0.200\n",
       "Gradient Boosting     0.776   0.736   0.800000  0.766667  0.224\n",
       "ExtraTrees            0.836   0.744   0.911765  0.819383  0.164\n",
       "Xgboost               0.808   0.760   0.840708  0.798319  0.192\n",
       "Lightgbm              0.808   0.728   0.866667  0.791304  0.192\n",
       "Decision Tree         0.772   0.752   0.783333  0.767347  0.228\n",
       "Logistic              0.736   0.592   0.831461  0.691589  0.264"
      ]
     },
     "execution_count": 56,
     "metadata": {},
     "output_type": "execute_result"
    }
   ],
   "source": [
    "Score_value = pd.DataFrame(models_data)\n",
    "Score_value"
   ]
  },
  {
   "cell_type": "code",
   "execution_count": 57,
   "metadata": {},
   "outputs": [
    {
     "name": "stdout",
     "output_type": "stream",
     "text": [
      "Learning rate set to 0.008176\n",
      "0:\tlearn: 0.6903983\ttotal: 25.5ms\tremaining: 25.5s\n",
      "1:\tlearn: 0.6872035\ttotal: 37.1ms\tremaining: 18.5s\n",
      "2:\tlearn: 0.6837245\ttotal: 48.8ms\tremaining: 16.2s\n",
      "3:\tlearn: 0.6809885\ttotal: 58.7ms\tremaining: 14.6s\n",
      "4:\tlearn: 0.6780973\ttotal: 64ms\tremaining: 12.7s\n",
      "5:\tlearn: 0.6753095\ttotal: 69.6ms\tremaining: 11.5s\n",
      "6:\tlearn: 0.6726596\ttotal: 75.1ms\tremaining: 10.7s\n",
      "7:\tlearn: 0.6699266\ttotal: 80.2ms\tremaining: 9.94s\n",
      "8:\tlearn: 0.6669160\ttotal: 84.6ms\tremaining: 9.31s\n",
      "9:\tlearn: 0.6641515\ttotal: 88.5ms\tremaining: 8.76s\n",
      "10:\tlearn: 0.6618410\ttotal: 92.2ms\tremaining: 8.29s\n",
      "11:\tlearn: 0.6588714\ttotal: 96ms\tremaining: 7.9s\n",
      "12:\tlearn: 0.6565603\ttotal: 99.8ms\tremaining: 7.57s\n",
      "13:\tlearn: 0.6539848\ttotal: 104ms\tremaining: 7.29s\n",
      "14:\tlearn: 0.6515151\ttotal: 107ms\tremaining: 7.06s\n",
      "15:\tlearn: 0.6490901\ttotal: 111ms\tremaining: 6.84s\n",
      "16:\tlearn: 0.6464068\ttotal: 115ms\tremaining: 6.65s\n",
      "17:\tlearn: 0.6438778\ttotal: 119ms\tremaining: 6.48s\n",
      "18:\tlearn: 0.6413879\ttotal: 123ms\tremaining: 6.34s\n",
      "19:\tlearn: 0.6393246\ttotal: 127ms\tremaining: 6.2s\n",
      "20:\tlearn: 0.6371418\ttotal: 130ms\tremaining: 6.08s\n",
      "21:\tlearn: 0.6348234\ttotal: 134ms\tremaining: 5.96s\n",
      "22:\tlearn: 0.6322338\ttotal: 138ms\tremaining: 5.86s\n",
      "23:\tlearn: 0.6301960\ttotal: 142ms\tremaining: 5.77s\n",
      "24:\tlearn: 0.6284688\ttotal: 146ms\tremaining: 5.69s\n",
      "25:\tlearn: 0.6259860\ttotal: 150ms\tremaining: 5.61s\n",
      "26:\tlearn: 0.6235070\ttotal: 154ms\tremaining: 5.53s\n",
      "27:\tlearn: 0.6214933\ttotal: 157ms\tremaining: 5.46s\n",
      "28:\tlearn: 0.6197785\ttotal: 163ms\tremaining: 5.47s\n",
      "29:\tlearn: 0.6173508\ttotal: 168ms\tremaining: 5.42s\n",
      "30:\tlearn: 0.6151793\ttotal: 172ms\tremaining: 5.39s\n",
      "31:\tlearn: 0.6128338\ttotal: 177ms\tremaining: 5.36s\n",
      "32:\tlearn: 0.6108951\ttotal: 182ms\tremaining: 5.34s\n",
      "33:\tlearn: 0.6090887\ttotal: 190ms\tremaining: 5.39s\n",
      "34:\tlearn: 0.6071987\ttotal: 195ms\tremaining: 5.37s\n",
      "35:\tlearn: 0.6050485\ttotal: 200ms\tremaining: 5.35s\n",
      "36:\tlearn: 0.6027441\ttotal: 204ms\tremaining: 5.31s\n",
      "37:\tlearn: 0.6004308\ttotal: 208ms\tremaining: 5.27s\n",
      "38:\tlearn: 0.5989519\ttotal: 213ms\tremaining: 5.24s\n",
      "39:\tlearn: 0.5975109\ttotal: 216ms\tremaining: 5.19s\n",
      "40:\tlearn: 0.5954632\ttotal: 220ms\tremaining: 5.15s\n",
      "41:\tlearn: 0.5937207\ttotal: 224ms\tremaining: 5.11s\n",
      "42:\tlearn: 0.5915601\ttotal: 228ms\tremaining: 5.08s\n",
      "43:\tlearn: 0.5898700\ttotal: 232ms\tremaining: 5.04s\n",
      "44:\tlearn: 0.5880424\ttotal: 236ms\tremaining: 5s\n",
      "45:\tlearn: 0.5866929\ttotal: 240ms\tremaining: 4.98s\n",
      "46:\tlearn: 0.5851439\ttotal: 245ms\tremaining: 4.97s\n",
      "47:\tlearn: 0.5834550\ttotal: 250ms\tremaining: 4.95s\n",
      "48:\tlearn: 0.5819436\ttotal: 254ms\tremaining: 4.93s\n",
      "49:\tlearn: 0.5802827\ttotal: 258ms\tremaining: 4.89s\n",
      "50:\tlearn: 0.5782925\ttotal: 261ms\tremaining: 4.87s\n",
      "51:\tlearn: 0.5765368\ttotal: 265ms\tremaining: 4.84s\n",
      "52:\tlearn: 0.5751326\ttotal: 269ms\tremaining: 4.81s\n",
      "53:\tlearn: 0.5732498\ttotal: 273ms\tremaining: 4.78s\n",
      "54:\tlearn: 0.5720551\ttotal: 277ms\tremaining: 4.76s\n",
      "55:\tlearn: 0.5702378\ttotal: 281ms\tremaining: 4.73s\n",
      "56:\tlearn: 0.5688924\ttotal: 285ms\tremaining: 4.71s\n",
      "57:\tlearn: 0.5673185\ttotal: 288ms\tremaining: 4.68s\n",
      "58:\tlearn: 0.5662214\ttotal: 292ms\tremaining: 4.66s\n",
      "59:\tlearn: 0.5649910\ttotal: 296ms\tremaining: 4.64s\n",
      "60:\tlearn: 0.5636743\ttotal: 300ms\tremaining: 4.62s\n",
      "61:\tlearn: 0.5622833\ttotal: 304ms\tremaining: 4.6s\n",
      "62:\tlearn: 0.5608993\ttotal: 308ms\tremaining: 4.58s\n",
      "63:\tlearn: 0.5593165\ttotal: 311ms\tremaining: 4.55s\n",
      "64:\tlearn: 0.5580471\ttotal: 315ms\tremaining: 4.54s\n",
      "65:\tlearn: 0.5569789\ttotal: 319ms\tremaining: 4.52s\n",
      "66:\tlearn: 0.5555093\ttotal: 323ms\tremaining: 4.5s\n",
      "67:\tlearn: 0.5539760\ttotal: 329ms\tremaining: 4.51s\n",
      "68:\tlearn: 0.5527643\ttotal: 334ms\tremaining: 4.51s\n",
      "69:\tlearn: 0.5512633\ttotal: 339ms\tremaining: 4.5s\n",
      "70:\tlearn: 0.5501862\ttotal: 343ms\tremaining: 4.49s\n",
      "71:\tlearn: 0.5486309\ttotal: 348ms\tremaining: 4.49s\n",
      "72:\tlearn: 0.5472054\ttotal: 356ms\tremaining: 4.51s\n",
      "73:\tlearn: 0.5451876\ttotal: 360ms\tremaining: 4.51s\n",
      "74:\tlearn: 0.5436098\ttotal: 365ms\tremaining: 4.5s\n",
      "75:\tlearn: 0.5423196\ttotal: 369ms\tremaining: 4.49s\n",
      "76:\tlearn: 0.5411324\ttotal: 373ms\tremaining: 4.47s\n",
      "77:\tlearn: 0.5401396\ttotal: 377ms\tremaining: 4.46s\n",
      "78:\tlearn: 0.5390031\ttotal: 381ms\tremaining: 4.44s\n",
      "79:\tlearn: 0.5375343\ttotal: 385ms\tremaining: 4.43s\n",
      "80:\tlearn: 0.5362893\ttotal: 389ms\tremaining: 4.41s\n",
      "81:\tlearn: 0.5351315\ttotal: 393ms\tremaining: 4.4s\n",
      "82:\tlearn: 0.5341577\ttotal: 397ms\tremaining: 4.39s\n",
      "83:\tlearn: 0.5331113\ttotal: 401ms\tremaining: 4.37s\n",
      "84:\tlearn: 0.5314215\ttotal: 405ms\tremaining: 4.36s\n",
      "85:\tlearn: 0.5305302\ttotal: 409ms\tremaining: 4.34s\n",
      "86:\tlearn: 0.5296198\ttotal: 413ms\tremaining: 4.33s\n",
      "87:\tlearn: 0.5286418\ttotal: 416ms\tremaining: 4.32s\n",
      "88:\tlearn: 0.5274505\ttotal: 420ms\tremaining: 4.3s\n",
      "89:\tlearn: 0.5261266\ttotal: 424ms\tremaining: 4.29s\n",
      "90:\tlearn: 0.5252332\ttotal: 428ms\tremaining: 4.28s\n",
      "91:\tlearn: 0.5245156\ttotal: 432ms\tremaining: 4.26s\n",
      "92:\tlearn: 0.5236945\ttotal: 436ms\tremaining: 4.25s\n",
      "93:\tlearn: 0.5224607\ttotal: 440ms\tremaining: 4.24s\n",
      "94:\tlearn: 0.5214541\ttotal: 444ms\tremaining: 4.22s\n",
      "95:\tlearn: 0.5204219\ttotal: 448ms\tremaining: 4.22s\n",
      "96:\tlearn: 0.5194714\ttotal: 453ms\tremaining: 4.21s\n",
      "97:\tlearn: 0.5185333\ttotal: 457ms\tremaining: 4.21s\n",
      "98:\tlearn: 0.5176066\ttotal: 462ms\tremaining: 4.2s\n",
      "99:\tlearn: 0.5170154\ttotal: 466ms\tremaining: 4.2s\n",
      "100:\tlearn: 0.5161507\ttotal: 471ms\tremaining: 4.19s\n",
      "101:\tlearn: 0.5152248\ttotal: 476ms\tremaining: 4.19s\n",
      "102:\tlearn: 0.5140637\ttotal: 480ms\tremaining: 4.18s\n",
      "103:\tlearn: 0.5131351\ttotal: 485ms\tremaining: 4.18s\n",
      "104:\tlearn: 0.5124314\ttotal: 492ms\tremaining: 4.19s\n",
      "105:\tlearn: 0.5115332\ttotal: 497ms\tremaining: 4.19s\n",
      "106:\tlearn: 0.5103594\ttotal: 503ms\tremaining: 4.2s\n",
      "107:\tlearn: 0.5093947\ttotal: 509ms\tremaining: 4.2s\n",
      "108:\tlearn: 0.5086731\ttotal: 514ms\tremaining: 4.2s\n",
      "109:\tlearn: 0.5079098\ttotal: 521ms\tremaining: 4.22s\n",
      "110:\tlearn: 0.5071230\ttotal: 527ms\tremaining: 4.22s\n",
      "111:\tlearn: 0.5062995\ttotal: 531ms\tremaining: 4.21s\n",
      "112:\tlearn: 0.5051533\ttotal: 535ms\tremaining: 4.2s\n",
      "113:\tlearn: 0.5043390\ttotal: 539ms\tremaining: 4.19s\n",
      "114:\tlearn: 0.5034368\ttotal: 544ms\tremaining: 4.18s\n",
      "115:\tlearn: 0.5025202\ttotal: 548ms\tremaining: 4.17s\n",
      "116:\tlearn: 0.5017968\ttotal: 551ms\tremaining: 4.16s\n",
      "117:\tlearn: 0.5008576\ttotal: 556ms\tremaining: 4.15s\n",
      "118:\tlearn: 0.4999551\ttotal: 559ms\tremaining: 4.14s\n",
      "119:\tlearn: 0.4988267\ttotal: 563ms\tremaining: 4.13s\n",
      "120:\tlearn: 0.4979029\ttotal: 567ms\tremaining: 4.12s\n",
      "121:\tlearn: 0.4972074\ttotal: 572ms\tremaining: 4.11s\n",
      "122:\tlearn: 0.4967808\ttotal: 576ms\tremaining: 4.11s\n",
      "123:\tlearn: 0.4959472\ttotal: 580ms\tremaining: 4.1s\n",
      "124:\tlearn: 0.4949278\ttotal: 584ms\tremaining: 4.09s\n",
      "125:\tlearn: 0.4939241\ttotal: 588ms\tremaining: 4.08s\n",
      "126:\tlearn: 0.4929152\ttotal: 591ms\tremaining: 4.07s\n",
      "127:\tlearn: 0.4921716\ttotal: 595ms\tremaining: 4.05s\n",
      "128:\tlearn: 0.4915909\ttotal: 599ms\tremaining: 4.04s\n",
      "129:\tlearn: 0.4909852\ttotal: 603ms\tremaining: 4.04s\n",
      "130:\tlearn: 0.4901526\ttotal: 607ms\tremaining: 4.03s\n",
      "131:\tlearn: 0.4894002\ttotal: 611ms\tremaining: 4.02s\n",
      "132:\tlearn: 0.4886491\ttotal: 615ms\tremaining: 4.01s\n",
      "133:\tlearn: 0.4881062\ttotal: 619ms\tremaining: 4s\n",
      "134:\tlearn: 0.4872950\ttotal: 623ms\tremaining: 3.99s\n",
      "135:\tlearn: 0.4866148\ttotal: 627ms\tremaining: 3.98s\n",
      "136:\tlearn: 0.4858876\ttotal: 631ms\tremaining: 3.97s\n",
      "137:\tlearn: 0.4852388\ttotal: 635ms\tremaining: 3.96s\n",
      "138:\tlearn: 0.4844842\ttotal: 638ms\tremaining: 3.95s\n",
      "139:\tlearn: 0.4835513\ttotal: 642ms\tremaining: 3.94s\n",
      "140:\tlearn: 0.4828289\ttotal: 646ms\tremaining: 3.94s\n",
      "141:\tlearn: 0.4823005\ttotal: 650ms\tremaining: 3.93s\n",
      "142:\tlearn: 0.4817246\ttotal: 654ms\tremaining: 3.92s\n",
      "143:\tlearn: 0.4810284\ttotal: 660ms\tremaining: 3.92s\n",
      "144:\tlearn: 0.4802080\ttotal: 664ms\tremaining: 3.92s\n",
      "145:\tlearn: 0.4791896\ttotal: 670ms\tremaining: 3.92s\n",
      "146:\tlearn: 0.4786790\ttotal: 675ms\tremaining: 3.91s\n",
      "147:\tlearn: 0.4777610\ttotal: 679ms\tremaining: 3.91s\n",
      "148:\tlearn: 0.4769530\ttotal: 684ms\tremaining: 3.9s\n",
      "149:\tlearn: 0.4763386\ttotal: 693ms\tremaining: 3.93s\n",
      "150:\tlearn: 0.4757780\ttotal: 699ms\tremaining: 3.93s\n",
      "151:\tlearn: 0.4753941\ttotal: 704ms\tremaining: 3.93s\n",
      "152:\tlearn: 0.4746994\ttotal: 709ms\tremaining: 3.93s\n",
      "153:\tlearn: 0.4741403\ttotal: 714ms\tremaining: 3.92s\n",
      "154:\tlearn: 0.4735002\ttotal: 718ms\tremaining: 3.92s\n",
      "155:\tlearn: 0.4728673\ttotal: 724ms\tremaining: 3.92s\n",
      "156:\tlearn: 0.4722478\ttotal: 730ms\tremaining: 3.92s\n",
      "157:\tlearn: 0.4715092\ttotal: 736ms\tremaining: 3.92s\n",
      "158:\tlearn: 0.4709585\ttotal: 742ms\tremaining: 3.92s\n",
      "159:\tlearn: 0.4703204\ttotal: 746ms\tremaining: 3.92s\n",
      "160:\tlearn: 0.4696171\ttotal: 750ms\tremaining: 3.91s\n",
      "161:\tlearn: 0.4688903\ttotal: 754ms\tremaining: 3.9s\n",
      "162:\tlearn: 0.4679694\ttotal: 759ms\tremaining: 3.89s\n",
      "163:\tlearn: 0.4671741\ttotal: 762ms\tremaining: 3.89s\n",
      "164:\tlearn: 0.4662432\ttotal: 766ms\tremaining: 3.88s\n",
      "165:\tlearn: 0.4655097\ttotal: 770ms\tremaining: 3.87s\n",
      "166:\tlearn: 0.4647706\ttotal: 774ms\tremaining: 3.86s\n",
      "167:\tlearn: 0.4637764\ttotal: 778ms\tremaining: 3.85s\n",
      "168:\tlearn: 0.4631888\ttotal: 782ms\tremaining: 3.85s\n",
      "169:\tlearn: 0.4625400\ttotal: 786ms\tremaining: 3.84s\n",
      "170:\tlearn: 0.4621574\ttotal: 790ms\tremaining: 3.83s\n",
      "171:\tlearn: 0.4615924\ttotal: 794ms\tremaining: 3.82s\n",
      "172:\tlearn: 0.4606359\ttotal: 799ms\tremaining: 3.82s\n",
      "173:\tlearn: 0.4603920\ttotal: 804ms\tremaining: 3.82s\n",
      "174:\tlearn: 0.4600398\ttotal: 808ms\tremaining: 3.81s\n",
      "175:\tlearn: 0.4596381\ttotal: 812ms\tremaining: 3.8s\n",
      "176:\tlearn: 0.4589977\ttotal: 816ms\tremaining: 3.79s\n",
      "177:\tlearn: 0.4582258\ttotal: 820ms\tremaining: 3.79s\n"
     ]
    },
    {
     "name": "stdout",
     "output_type": "stream",
     "text": [
      "178:\tlearn: 0.4574904\ttotal: 826ms\tremaining: 3.79s\n",
      "179:\tlearn: 0.4569201\ttotal: 831ms\tremaining: 3.79s\n",
      "180:\tlearn: 0.4562440\ttotal: 836ms\tremaining: 3.78s\n",
      "181:\tlearn: 0.4553263\ttotal: 840ms\tremaining: 3.78s\n",
      "182:\tlearn: 0.4547174\ttotal: 845ms\tremaining: 3.77s\n",
      "183:\tlearn: 0.4541407\ttotal: 850ms\tremaining: 3.77s\n",
      "184:\tlearn: 0.4535502\ttotal: 856ms\tremaining: 3.77s\n",
      "185:\tlearn: 0.4528121\ttotal: 861ms\tremaining: 3.77s\n",
      "186:\tlearn: 0.4521757\ttotal: 865ms\tremaining: 3.76s\n",
      "187:\tlearn: 0.4514145\ttotal: 869ms\tremaining: 3.75s\n",
      "188:\tlearn: 0.4508375\ttotal: 873ms\tremaining: 3.75s\n",
      "189:\tlearn: 0.4503828\ttotal: 877ms\tremaining: 3.74s\n",
      "190:\tlearn: 0.4497973\ttotal: 881ms\tremaining: 3.73s\n",
      "191:\tlearn: 0.4494384\ttotal: 885ms\tremaining: 3.72s\n",
      "192:\tlearn: 0.4489549\ttotal: 889ms\tremaining: 3.72s\n",
      "193:\tlearn: 0.4482109\ttotal: 893ms\tremaining: 3.71s\n",
      "194:\tlearn: 0.4475785\ttotal: 897ms\tremaining: 3.7s\n",
      "195:\tlearn: 0.4468862\ttotal: 901ms\tremaining: 3.69s\n",
      "196:\tlearn: 0.4462483\ttotal: 904ms\tremaining: 3.69s\n",
      "197:\tlearn: 0.4457128\ttotal: 908ms\tremaining: 3.68s\n",
      "198:\tlearn: 0.4447650\ttotal: 912ms\tremaining: 3.67s\n",
      "199:\tlearn: 0.4441194\ttotal: 916ms\tremaining: 3.66s\n",
      "200:\tlearn: 0.4435520\ttotal: 920ms\tremaining: 3.66s\n",
      "201:\tlearn: 0.4427512\ttotal: 924ms\tremaining: 3.65s\n",
      "202:\tlearn: 0.4420596\ttotal: 928ms\tremaining: 3.64s\n",
      "203:\tlearn: 0.4414664\ttotal: 931ms\tremaining: 3.63s\n",
      "204:\tlearn: 0.4408697\ttotal: 935ms\tremaining: 3.63s\n",
      "205:\tlearn: 0.4404462\ttotal: 939ms\tremaining: 3.62s\n",
      "206:\tlearn: 0.4399064\ttotal: 943ms\tremaining: 3.61s\n",
      "207:\tlearn: 0.4390551\ttotal: 947ms\tremaining: 3.6s\n",
      "208:\tlearn: 0.4384221\ttotal: 951ms\tremaining: 3.6s\n",
      "209:\tlearn: 0.4379214\ttotal: 955ms\tremaining: 3.59s\n",
      "210:\tlearn: 0.4373637\ttotal: 959ms\tremaining: 3.58s\n",
      "211:\tlearn: 0.4366025\ttotal: 963ms\tremaining: 3.58s\n",
      "212:\tlearn: 0.4358522\ttotal: 967ms\tremaining: 3.57s\n",
      "213:\tlearn: 0.4350985\ttotal: 971ms\tremaining: 3.56s\n",
      "214:\tlearn: 0.4346590\ttotal: 975ms\tremaining: 3.56s\n",
      "215:\tlearn: 0.4339533\ttotal: 978ms\tremaining: 3.55s\n",
      "216:\tlearn: 0.4333246\ttotal: 982ms\tremaining: 3.54s\n",
      "217:\tlearn: 0.4329043\ttotal: 986ms\tremaining: 3.54s\n",
      "218:\tlearn: 0.4323469\ttotal: 992ms\tremaining: 3.54s\n",
      "219:\tlearn: 0.4316819\ttotal: 997ms\tremaining: 3.53s\n",
      "220:\tlearn: 0.4310045\ttotal: 1s\tremaining: 3.53s\n",
      "221:\tlearn: 0.4308351\ttotal: 1s\tremaining: 3.52s\n",
      "222:\tlearn: 0.4303987\ttotal: 1.01s\tremaining: 3.52s\n",
      "223:\tlearn: 0.4298174\ttotal: 1.01s\tremaining: 3.52s\n",
      "224:\tlearn: 0.4294306\ttotal: 1.02s\tremaining: 3.51s\n",
      "225:\tlearn: 0.4286486\ttotal: 1.02s\tremaining: 3.5s\n",
      "226:\tlearn: 0.4280950\ttotal: 1.03s\tremaining: 3.5s\n",
      "227:\tlearn: 0.4276118\ttotal: 1.03s\tremaining: 3.49s\n",
      "228:\tlearn: 0.4270677\ttotal: 1.03s\tremaining: 3.48s\n",
      "229:\tlearn: 0.4267973\ttotal: 1.04s\tremaining: 3.48s\n",
      "230:\tlearn: 0.4263153\ttotal: 1.04s\tremaining: 3.47s\n",
      "231:\tlearn: 0.4258370\ttotal: 1.05s\tremaining: 3.46s\n",
      "232:\tlearn: 0.4251590\ttotal: 1.05s\tremaining: 3.46s\n",
      "233:\tlearn: 0.4247560\ttotal: 1.05s\tremaining: 3.45s\n",
      "234:\tlearn: 0.4241758\ttotal: 1.06s\tremaining: 3.45s\n",
      "235:\tlearn: 0.4235052\ttotal: 1.06s\tremaining: 3.44s\n",
      "236:\tlearn: 0.4229392\ttotal: 1.07s\tremaining: 3.43s\n",
      "237:\tlearn: 0.4222443\ttotal: 1.07s\tremaining: 3.43s\n",
      "238:\tlearn: 0.4217194\ttotal: 1.08s\tremaining: 3.43s\n",
      "239:\tlearn: 0.4213177\ttotal: 1.08s\tremaining: 3.42s\n",
      "240:\tlearn: 0.4208021\ttotal: 1.08s\tremaining: 3.42s\n",
      "241:\tlearn: 0.4199988\ttotal: 1.09s\tremaining: 3.41s\n",
      "242:\tlearn: 0.4191517\ttotal: 1.09s\tremaining: 3.4s\n",
      "243:\tlearn: 0.4186139\ttotal: 1.1s\tremaining: 3.4s\n",
      "244:\tlearn: 0.4181896\ttotal: 1.1s\tremaining: 3.39s\n",
      "245:\tlearn: 0.4176288\ttotal: 1.1s\tremaining: 3.39s\n",
      "246:\tlearn: 0.4171915\ttotal: 1.11s\tremaining: 3.38s\n",
      "247:\tlearn: 0.4166707\ttotal: 1.11s\tremaining: 3.37s\n",
      "248:\tlearn: 0.4161102\ttotal: 1.12s\tremaining: 3.37s\n",
      "249:\tlearn: 0.4156975\ttotal: 1.12s\tremaining: 3.36s\n",
      "250:\tlearn: 0.4150761\ttotal: 1.12s\tremaining: 3.36s\n",
      "251:\tlearn: 0.4145308\ttotal: 1.13s\tremaining: 3.35s\n",
      "252:\tlearn: 0.4141776\ttotal: 1.13s\tremaining: 3.35s\n",
      "253:\tlearn: 0.4136773\ttotal: 1.14s\tremaining: 3.35s\n",
      "254:\tlearn: 0.4132895\ttotal: 1.14s\tremaining: 3.34s\n",
      "255:\tlearn: 0.4128909\ttotal: 1.15s\tremaining: 3.34s\n",
      "256:\tlearn: 0.4124344\ttotal: 1.16s\tremaining: 3.34s\n",
      "257:\tlearn: 0.4120411\ttotal: 1.16s\tremaining: 3.34s\n",
      "258:\tlearn: 0.4116119\ttotal: 1.17s\tremaining: 3.33s\n",
      "259:\tlearn: 0.4114276\ttotal: 1.17s\tremaining: 3.33s\n",
      "260:\tlearn: 0.4110873\ttotal: 1.18s\tremaining: 3.33s\n",
      "261:\tlearn: 0.4107337\ttotal: 1.18s\tremaining: 3.32s\n",
      "262:\tlearn: 0.4102456\ttotal: 1.18s\tremaining: 3.32s\n",
      "263:\tlearn: 0.4098027\ttotal: 1.19s\tremaining: 3.31s\n",
      "264:\tlearn: 0.4094263\ttotal: 1.19s\tremaining: 3.31s\n",
      "265:\tlearn: 0.4090719\ttotal: 1.2s\tremaining: 3.32s\n",
      "266:\tlearn: 0.4087094\ttotal: 1.21s\tremaining: 3.32s\n",
      "267:\tlearn: 0.4083130\ttotal: 1.21s\tremaining: 3.31s\n",
      "268:\tlearn: 0.4081240\ttotal: 1.22s\tremaining: 3.31s\n",
      "269:\tlearn: 0.4075839\ttotal: 1.22s\tremaining: 3.31s\n",
      "270:\tlearn: 0.4072670\ttotal: 1.23s\tremaining: 3.3s\n",
      "271:\tlearn: 0.4067724\ttotal: 1.23s\tremaining: 3.29s\n",
      "272:\tlearn: 0.4063057\ttotal: 1.24s\tremaining: 3.29s\n",
      "273:\tlearn: 0.4060497\ttotal: 1.24s\tremaining: 3.28s\n",
      "274:\tlearn: 0.4054214\ttotal: 1.24s\tremaining: 3.28s\n",
      "275:\tlearn: 0.4051796\ttotal: 1.25s\tremaining: 3.27s\n",
      "276:\tlearn: 0.4049266\ttotal: 1.25s\tremaining: 3.27s\n",
      "277:\tlearn: 0.4044323\ttotal: 1.26s\tremaining: 3.27s\n",
      "278:\tlearn: 0.4041528\ttotal: 1.26s\tremaining: 3.27s\n",
      "279:\tlearn: 0.4037590\ttotal: 1.27s\tremaining: 3.27s\n",
      "280:\tlearn: 0.4035499\ttotal: 1.28s\tremaining: 3.27s\n",
      "281:\tlearn: 0.4030546\ttotal: 1.28s\tremaining: 3.27s\n",
      "282:\tlearn: 0.4023836\ttotal: 1.29s\tremaining: 3.26s\n",
      "283:\tlearn: 0.4017637\ttotal: 1.29s\tremaining: 3.26s\n",
      "284:\tlearn: 0.4013156\ttotal: 1.3s\tremaining: 3.26s\n",
      "285:\tlearn: 0.4008272\ttotal: 1.3s\tremaining: 3.26s\n",
      "286:\tlearn: 0.4000762\ttotal: 1.31s\tremaining: 3.25s\n",
      "287:\tlearn: 0.3997413\ttotal: 1.32s\tremaining: 3.25s\n",
      "288:\tlearn: 0.3993114\ttotal: 1.32s\tremaining: 3.25s\n",
      "289:\tlearn: 0.3990477\ttotal: 1.33s\tremaining: 3.26s\n",
      "290:\tlearn: 0.3986601\ttotal: 1.33s\tremaining: 3.25s\n",
      "291:\tlearn: 0.3981996\ttotal: 1.34s\tremaining: 3.25s\n",
      "292:\tlearn: 0.3978741\ttotal: 1.34s\tremaining: 3.25s\n",
      "293:\tlearn: 0.3974595\ttotal: 1.35s\tremaining: 3.24s\n",
      "294:\tlearn: 0.3970724\ttotal: 1.35s\tremaining: 3.24s\n",
      "295:\tlearn: 0.3967902\ttotal: 1.36s\tremaining: 3.23s\n",
      "296:\tlearn: 0.3964155\ttotal: 1.36s\tremaining: 3.23s\n",
      "297:\tlearn: 0.3960938\ttotal: 1.37s\tremaining: 3.22s\n",
      "298:\tlearn: 0.3956868\ttotal: 1.37s\tremaining: 3.22s\n",
      "299:\tlearn: 0.3953438\ttotal: 1.38s\tremaining: 3.21s\n",
      "300:\tlearn: 0.3949316\ttotal: 1.38s\tremaining: 3.21s\n",
      "301:\tlearn: 0.3945523\ttotal: 1.38s\tremaining: 3.2s\n",
      "302:\tlearn: 0.3941169\ttotal: 1.39s\tremaining: 3.19s\n",
      "303:\tlearn: 0.3936781\ttotal: 1.39s\tremaining: 3.19s\n",
      "304:\tlearn: 0.3933091\ttotal: 1.4s\tremaining: 3.18s\n",
      "305:\tlearn: 0.3928540\ttotal: 1.4s\tremaining: 3.17s\n",
      "306:\tlearn: 0.3923739\ttotal: 1.4s\tremaining: 3.17s\n",
      "307:\tlearn: 0.3922390\ttotal: 1.41s\tremaining: 3.16s\n",
      "308:\tlearn: 0.3913101\ttotal: 1.41s\tremaining: 3.16s\n",
      "309:\tlearn: 0.3909097\ttotal: 1.42s\tremaining: 3.15s\n",
      "310:\tlearn: 0.3905162\ttotal: 1.42s\tremaining: 3.15s\n",
      "311:\tlearn: 0.3899490\ttotal: 1.42s\tremaining: 3.14s\n",
      "312:\tlearn: 0.3896770\ttotal: 1.43s\tremaining: 3.13s\n",
      "313:\tlearn: 0.3892809\ttotal: 1.43s\tremaining: 3.13s\n",
      "314:\tlearn: 0.3887462\ttotal: 1.44s\tremaining: 3.12s\n",
      "315:\tlearn: 0.3882283\ttotal: 1.44s\tremaining: 3.12s\n",
      "316:\tlearn: 0.3878046\ttotal: 1.45s\tremaining: 3.12s\n",
      "317:\tlearn: 0.3875692\ttotal: 1.45s\tremaining: 3.11s\n",
      "318:\tlearn: 0.3873589\ttotal: 1.46s\tremaining: 3.11s\n",
      "319:\tlearn: 0.3870433\ttotal: 1.46s\tremaining: 3.11s\n",
      "320:\tlearn: 0.3867294\ttotal: 1.47s\tremaining: 3.1s\n",
      "321:\tlearn: 0.3864813\ttotal: 1.47s\tremaining: 3.1s\n",
      "322:\tlearn: 0.3861037\ttotal: 1.48s\tremaining: 3.1s\n",
      "323:\tlearn: 0.3856288\ttotal: 1.48s\tremaining: 3.09s\n",
      "324:\tlearn: 0.3851655\ttotal: 1.49s\tremaining: 3.09s\n",
      "325:\tlearn: 0.3848597\ttotal: 1.49s\tremaining: 3.08s\n",
      "326:\tlearn: 0.3845545\ttotal: 1.5s\tremaining: 3.08s\n",
      "327:\tlearn: 0.3843391\ttotal: 1.5s\tremaining: 3.08s\n",
      "328:\tlearn: 0.3841526\ttotal: 1.51s\tremaining: 3.07s\n",
      "329:\tlearn: 0.3836661\ttotal: 1.51s\tremaining: 3.07s\n",
      "330:\tlearn: 0.3833202\ttotal: 1.52s\tremaining: 3.07s\n",
      "331:\tlearn: 0.3828086\ttotal: 1.52s\tremaining: 3.07s\n",
      "332:\tlearn: 0.3825388\ttotal: 1.53s\tremaining: 3.06s\n",
      "333:\tlearn: 0.3819648\ttotal: 1.53s\tremaining: 3.06s\n",
      "334:\tlearn: 0.3814535\ttotal: 1.54s\tremaining: 3.05s\n",
      "335:\tlearn: 0.3811066\ttotal: 1.54s\tremaining: 3.04s\n",
      "336:\tlearn: 0.3807909\ttotal: 1.54s\tremaining: 3.04s\n",
      "337:\tlearn: 0.3806231\ttotal: 1.55s\tremaining: 3.03s\n",
      "338:\tlearn: 0.3802803\ttotal: 1.55s\tremaining: 3.03s\n",
      "339:\tlearn: 0.3799516\ttotal: 1.56s\tremaining: 3.02s\n",
      "340:\tlearn: 0.3794519\ttotal: 1.56s\tremaining: 3.02s\n",
      "341:\tlearn: 0.3791570\ttotal: 1.56s\tremaining: 3.01s\n",
      "342:\tlearn: 0.3790317\ttotal: 1.57s\tremaining: 3s\n",
      "343:\tlearn: 0.3784834\ttotal: 1.57s\tremaining: 3s\n",
      "344:\tlearn: 0.3782879\ttotal: 1.57s\tremaining: 2.99s\n",
      "345:\tlearn: 0.3779003\ttotal: 1.58s\tremaining: 2.99s\n",
      "346:\tlearn: 0.3776232\ttotal: 1.58s\tremaining: 2.98s\n",
      "347:\tlearn: 0.3772969\ttotal: 1.59s\tremaining: 2.97s\n",
      "348:\tlearn: 0.3767467\ttotal: 1.59s\tremaining: 2.97s\n",
      "349:\tlearn: 0.3764842\ttotal: 1.59s\tremaining: 2.96s\n",
      "350:\tlearn: 0.3761025\ttotal: 1.6s\tremaining: 2.96s\n",
      "351:\tlearn: 0.3757877\ttotal: 1.6s\tremaining: 2.95s\n",
      "352:\tlearn: 0.3755382\ttotal: 1.61s\tremaining: 2.95s\n",
      "353:\tlearn: 0.3748662\ttotal: 1.61s\tremaining: 2.94s\n",
      "354:\tlearn: 0.3746088\ttotal: 1.62s\tremaining: 2.94s\n",
      "355:\tlearn: 0.3743251\ttotal: 1.62s\tremaining: 2.93s\n",
      "356:\tlearn: 0.3739593\ttotal: 1.62s\tremaining: 2.92s\n",
      "357:\tlearn: 0.3736896\ttotal: 1.63s\tremaining: 2.92s\n",
      "358:\tlearn: 0.3735132\ttotal: 1.63s\tremaining: 2.92s\n",
      "359:\tlearn: 0.3729249\ttotal: 1.64s\tremaining: 2.91s\n"
     ]
    },
    {
     "name": "stdout",
     "output_type": "stream",
     "text": [
      "360:\tlearn: 0.3724370\ttotal: 1.64s\tremaining: 2.91s\n",
      "361:\tlearn: 0.3722305\ttotal: 1.65s\tremaining: 2.91s\n",
      "362:\tlearn: 0.3717461\ttotal: 1.65s\tremaining: 2.9s\n",
      "363:\tlearn: 0.3715190\ttotal: 1.66s\tremaining: 2.9s\n",
      "364:\tlearn: 0.3711644\ttotal: 1.66s\tremaining: 2.89s\n",
      "365:\tlearn: 0.3707818\ttotal: 1.67s\tremaining: 2.89s\n",
      "366:\tlearn: 0.3705526\ttotal: 1.67s\tremaining: 2.89s\n",
      "367:\tlearn: 0.3701029\ttotal: 1.68s\tremaining: 2.88s\n",
      "368:\tlearn: 0.3697966\ttotal: 1.68s\tremaining: 2.88s\n",
      "369:\tlearn: 0.3694805\ttotal: 1.69s\tremaining: 2.87s\n",
      "370:\tlearn: 0.3690016\ttotal: 1.69s\tremaining: 2.87s\n",
      "371:\tlearn: 0.3687040\ttotal: 1.7s\tremaining: 2.86s\n",
      "372:\tlearn: 0.3682061\ttotal: 1.7s\tremaining: 2.85s\n",
      "373:\tlearn: 0.3678687\ttotal: 1.7s\tremaining: 2.85s\n",
      "374:\tlearn: 0.3674660\ttotal: 1.71s\tremaining: 2.85s\n",
      "375:\tlearn: 0.3670083\ttotal: 1.71s\tremaining: 2.84s\n",
      "376:\tlearn: 0.3667520\ttotal: 1.71s\tremaining: 2.83s\n",
      "377:\tlearn: 0.3665686\ttotal: 1.72s\tremaining: 2.83s\n",
      "378:\tlearn: 0.3661976\ttotal: 1.72s\tremaining: 2.82s\n",
      "379:\tlearn: 0.3659994\ttotal: 1.73s\tremaining: 2.82s\n",
      "380:\tlearn: 0.3656017\ttotal: 1.73s\tremaining: 2.81s\n",
      "381:\tlearn: 0.3654009\ttotal: 1.74s\tremaining: 2.81s\n",
      "382:\tlearn: 0.3649152\ttotal: 1.74s\tremaining: 2.8s\n",
      "383:\tlearn: 0.3644530\ttotal: 1.75s\tremaining: 2.8s\n",
      "384:\tlearn: 0.3641227\ttotal: 1.75s\tremaining: 2.79s\n",
      "385:\tlearn: 0.3639411\ttotal: 1.75s\tremaining: 2.79s\n",
      "386:\tlearn: 0.3636307\ttotal: 1.76s\tremaining: 2.78s\n",
      "387:\tlearn: 0.3633398\ttotal: 1.76s\tremaining: 2.78s\n",
      "388:\tlearn: 0.3629636\ttotal: 1.76s\tremaining: 2.77s\n",
      "389:\tlearn: 0.3627482\ttotal: 1.77s\tremaining: 2.77s\n",
      "390:\tlearn: 0.3623825\ttotal: 1.77s\tremaining: 2.76s\n",
      "391:\tlearn: 0.3619484\ttotal: 1.78s\tremaining: 2.76s\n",
      "392:\tlearn: 0.3617327\ttotal: 1.78s\tremaining: 2.75s\n",
      "393:\tlearn: 0.3611762\ttotal: 1.78s\tremaining: 2.74s\n",
      "394:\tlearn: 0.3606655\ttotal: 1.79s\tremaining: 2.74s\n",
      "395:\tlearn: 0.3605498\ttotal: 1.79s\tremaining: 2.73s\n",
      "396:\tlearn: 0.3602621\ttotal: 1.8s\tremaining: 2.73s\n",
      "397:\tlearn: 0.3599078\ttotal: 1.8s\tremaining: 2.72s\n",
      "398:\tlearn: 0.3595247\ttotal: 1.8s\tremaining: 2.72s\n",
      "399:\tlearn: 0.3591971\ttotal: 1.81s\tremaining: 2.71s\n",
      "400:\tlearn: 0.3589748\ttotal: 1.81s\tremaining: 2.71s\n",
      "401:\tlearn: 0.3586317\ttotal: 1.82s\tremaining: 2.71s\n",
      "402:\tlearn: 0.3581780\ttotal: 1.82s\tremaining: 2.7s\n",
      "403:\tlearn: 0.3579152\ttotal: 1.83s\tremaining: 2.7s\n",
      "404:\tlearn: 0.3573956\ttotal: 1.83s\tremaining: 2.69s\n",
      "405:\tlearn: 0.3570674\ttotal: 1.84s\tremaining: 2.69s\n",
      "406:\tlearn: 0.3565373\ttotal: 1.84s\tremaining: 2.68s\n",
      "407:\tlearn: 0.3562060\ttotal: 1.84s\tremaining: 2.68s\n",
      "408:\tlearn: 0.3559221\ttotal: 1.85s\tremaining: 2.67s\n",
      "409:\tlearn: 0.3555145\ttotal: 1.85s\tremaining: 2.67s\n",
      "410:\tlearn: 0.3550828\ttotal: 1.86s\tremaining: 2.66s\n",
      "411:\tlearn: 0.3548217\ttotal: 1.86s\tremaining: 2.66s\n",
      "412:\tlearn: 0.3546013\ttotal: 1.87s\tremaining: 2.65s\n",
      "413:\tlearn: 0.3542581\ttotal: 1.87s\tremaining: 2.65s\n",
      "414:\tlearn: 0.3539262\ttotal: 1.88s\tremaining: 2.65s\n",
      "415:\tlearn: 0.3535950\ttotal: 1.88s\tremaining: 2.64s\n",
      "416:\tlearn: 0.3534650\ttotal: 1.89s\tremaining: 2.64s\n",
      "417:\tlearn: 0.3530792\ttotal: 1.89s\tremaining: 2.63s\n",
      "418:\tlearn: 0.3528667\ttotal: 1.9s\tremaining: 2.63s\n",
      "419:\tlearn: 0.3523850\ttotal: 1.9s\tremaining: 2.62s\n",
      "420:\tlearn: 0.3520959\ttotal: 1.9s\tremaining: 2.62s\n",
      "421:\tlearn: 0.3516072\ttotal: 1.91s\tremaining: 2.61s\n",
      "422:\tlearn: 0.3513737\ttotal: 1.91s\tremaining: 2.61s\n",
      "423:\tlearn: 0.3508396\ttotal: 1.91s\tremaining: 2.6s\n",
      "424:\tlearn: 0.3503841\ttotal: 1.92s\tremaining: 2.6s\n",
      "425:\tlearn: 0.3501309\ttotal: 1.92s\tremaining: 2.59s\n",
      "426:\tlearn: 0.3497576\ttotal: 1.93s\tremaining: 2.58s\n",
      "427:\tlearn: 0.3493792\ttotal: 1.93s\tremaining: 2.58s\n",
      "428:\tlearn: 0.3490107\ttotal: 1.94s\tremaining: 2.58s\n",
      "429:\tlearn: 0.3486737\ttotal: 1.94s\tremaining: 2.57s\n",
      "430:\tlearn: 0.3482052\ttotal: 1.94s\tremaining: 2.57s\n",
      "431:\tlearn: 0.3479756\ttotal: 1.95s\tremaining: 2.56s\n",
      "432:\tlearn: 0.3476728\ttotal: 1.95s\tremaining: 2.56s\n",
      "433:\tlearn: 0.3474723\ttotal: 1.96s\tremaining: 2.55s\n",
      "434:\tlearn: 0.3472444\ttotal: 1.96s\tremaining: 2.54s\n",
      "435:\tlearn: 0.3468072\ttotal: 1.96s\tremaining: 2.54s\n",
      "436:\tlearn: 0.3466095\ttotal: 1.97s\tremaining: 2.53s\n",
      "437:\tlearn: 0.3462066\ttotal: 1.97s\tremaining: 2.53s\n",
      "438:\tlearn: 0.3458962\ttotal: 1.98s\tremaining: 2.53s\n",
      "439:\tlearn: 0.3456414\ttotal: 1.98s\tremaining: 2.52s\n",
      "440:\tlearn: 0.3452764\ttotal: 1.99s\tremaining: 2.52s\n",
      "441:\tlearn: 0.3449729\ttotal: 1.99s\tremaining: 2.51s\n",
      "442:\tlearn: 0.3446459\ttotal: 2s\tremaining: 2.51s\n",
      "443:\tlearn: 0.3444307\ttotal: 2s\tremaining: 2.51s\n",
      "444:\tlearn: 0.3442674\ttotal: 2.01s\tremaining: 2.5s\n",
      "445:\tlearn: 0.3438151\ttotal: 2.01s\tremaining: 2.5s\n",
      "446:\tlearn: 0.3435356\ttotal: 2.02s\tremaining: 2.5s\n",
      "447:\tlearn: 0.3432279\ttotal: 2.02s\tremaining: 2.49s\n",
      "448:\tlearn: 0.3430796\ttotal: 2.03s\tremaining: 2.49s\n",
      "449:\tlearn: 0.3425166\ttotal: 2.03s\tremaining: 2.48s\n",
      "450:\tlearn: 0.3422509\ttotal: 2.03s\tremaining: 2.48s\n",
      "451:\tlearn: 0.3420441\ttotal: 2.04s\tremaining: 2.47s\n",
      "452:\tlearn: 0.3417583\ttotal: 2.04s\tremaining: 2.47s\n",
      "453:\tlearn: 0.3415808\ttotal: 2.05s\tremaining: 2.46s\n",
      "454:\tlearn: 0.3411967\ttotal: 2.05s\tremaining: 2.46s\n",
      "455:\tlearn: 0.3409267\ttotal: 2.05s\tremaining: 2.45s\n",
      "456:\tlearn: 0.3405822\ttotal: 2.06s\tremaining: 2.44s\n",
      "457:\tlearn: 0.3404288\ttotal: 2.06s\tremaining: 2.44s\n",
      "458:\tlearn: 0.3400877\ttotal: 2.07s\tremaining: 2.44s\n",
      "459:\tlearn: 0.3398089\ttotal: 2.07s\tremaining: 2.43s\n",
      "460:\tlearn: 0.3395204\ttotal: 2.07s\tremaining: 2.42s\n",
      "461:\tlearn: 0.3391919\ttotal: 2.08s\tremaining: 2.42s\n",
      "462:\tlearn: 0.3387871\ttotal: 2.08s\tremaining: 2.41s\n",
      "463:\tlearn: 0.3384878\ttotal: 2.09s\tremaining: 2.41s\n",
      "464:\tlearn: 0.3381758\ttotal: 2.09s\tremaining: 2.4s\n",
      "465:\tlearn: 0.3376845\ttotal: 2.09s\tremaining: 2.4s\n",
      "466:\tlearn: 0.3373552\ttotal: 2.1s\tremaining: 2.4s\n",
      "467:\tlearn: 0.3368917\ttotal: 2.1s\tremaining: 2.39s\n",
      "468:\tlearn: 0.3366906\ttotal: 2.11s\tremaining: 2.38s\n",
      "469:\tlearn: 0.3364976\ttotal: 2.11s\tremaining: 2.38s\n",
      "470:\tlearn: 0.3360953\ttotal: 2.11s\tremaining: 2.37s\n",
      "471:\tlearn: 0.3358645\ttotal: 2.12s\tremaining: 2.37s\n",
      "472:\tlearn: 0.3356416\ttotal: 2.12s\tremaining: 2.36s\n",
      "473:\tlearn: 0.3353120\ttotal: 2.13s\tremaining: 2.36s\n",
      "474:\tlearn: 0.3351245\ttotal: 2.13s\tremaining: 2.35s\n",
      "475:\tlearn: 0.3349717\ttotal: 2.13s\tremaining: 2.35s\n",
      "476:\tlearn: 0.3348091\ttotal: 2.14s\tremaining: 2.35s\n",
      "477:\tlearn: 0.3345473\ttotal: 2.14s\tremaining: 2.34s\n",
      "478:\tlearn: 0.3343739\ttotal: 2.15s\tremaining: 2.34s\n",
      "479:\tlearn: 0.3340942\ttotal: 2.15s\tremaining: 2.33s\n",
      "480:\tlearn: 0.3339016\ttotal: 2.16s\tremaining: 2.33s\n",
      "481:\tlearn: 0.3334710\ttotal: 2.17s\tremaining: 2.33s\n",
      "482:\tlearn: 0.3332206\ttotal: 2.17s\tremaining: 2.32s\n",
      "483:\tlearn: 0.3328253\ttotal: 2.17s\tremaining: 2.32s\n",
      "484:\tlearn: 0.3325149\ttotal: 2.18s\tremaining: 2.31s\n",
      "485:\tlearn: 0.3321831\ttotal: 2.18s\tremaining: 2.31s\n",
      "486:\tlearn: 0.3319315\ttotal: 2.19s\tremaining: 2.3s\n",
      "487:\tlearn: 0.3315663\ttotal: 2.19s\tremaining: 2.3s\n",
      "488:\tlearn: 0.3310780\ttotal: 2.19s\tremaining: 2.29s\n",
      "489:\tlearn: 0.3307928\ttotal: 2.2s\tremaining: 2.29s\n",
      "490:\tlearn: 0.3305262\ttotal: 2.2s\tremaining: 2.28s\n",
      "491:\tlearn: 0.3302417\ttotal: 2.21s\tremaining: 2.28s\n",
      "492:\tlearn: 0.3297057\ttotal: 2.21s\tremaining: 2.27s\n",
      "493:\tlearn: 0.3294063\ttotal: 2.21s\tremaining: 2.27s\n",
      "494:\tlearn: 0.3291496\ttotal: 2.22s\tremaining: 2.26s\n",
      "495:\tlearn: 0.3287206\ttotal: 2.22s\tremaining: 2.26s\n",
      "496:\tlearn: 0.3285571\ttotal: 2.23s\tremaining: 2.25s\n",
      "497:\tlearn: 0.3281209\ttotal: 2.23s\tremaining: 2.25s\n",
      "498:\tlearn: 0.3277817\ttotal: 2.23s\tremaining: 2.24s\n",
      "499:\tlearn: 0.3275540\ttotal: 2.24s\tremaining: 2.24s\n",
      "500:\tlearn: 0.3271220\ttotal: 2.24s\tremaining: 2.23s\n",
      "501:\tlearn: 0.3267468\ttotal: 2.25s\tremaining: 2.23s\n",
      "502:\tlearn: 0.3264438\ttotal: 2.25s\tremaining: 2.22s\n",
      "503:\tlearn: 0.3260834\ttotal: 2.25s\tremaining: 2.22s\n",
      "504:\tlearn: 0.3257900\ttotal: 2.26s\tremaining: 2.21s\n",
      "505:\tlearn: 0.3253998\ttotal: 2.26s\tremaining: 2.21s\n",
      "506:\tlearn: 0.3251623\ttotal: 2.27s\tremaining: 2.2s\n",
      "507:\tlearn: 0.3249290\ttotal: 2.27s\tremaining: 2.2s\n",
      "508:\tlearn: 0.3246504\ttotal: 2.27s\tremaining: 2.19s\n",
      "509:\tlearn: 0.3242644\ttotal: 2.28s\tremaining: 2.19s\n",
      "510:\tlearn: 0.3239438\ttotal: 2.28s\tremaining: 2.18s\n",
      "511:\tlearn: 0.3234941\ttotal: 2.29s\tremaining: 2.18s\n",
      "512:\tlearn: 0.3231889\ttotal: 2.29s\tremaining: 2.17s\n",
      "513:\tlearn: 0.3229789\ttotal: 2.29s\tremaining: 2.17s\n",
      "514:\tlearn: 0.3227873\ttotal: 2.3s\tremaining: 2.16s\n",
      "515:\tlearn: 0.3224758\ttotal: 2.3s\tremaining: 2.16s\n",
      "516:\tlearn: 0.3223337\ttotal: 2.31s\tremaining: 2.15s\n",
      "517:\tlearn: 0.3222287\ttotal: 2.31s\tremaining: 2.15s\n",
      "518:\tlearn: 0.3220337\ttotal: 2.32s\tremaining: 2.15s\n",
      "519:\tlearn: 0.3215893\ttotal: 2.32s\tremaining: 2.14s\n",
      "520:\tlearn: 0.3214176\ttotal: 2.33s\tremaining: 2.14s\n",
      "521:\tlearn: 0.3211092\ttotal: 2.33s\tremaining: 2.13s\n",
      "522:\tlearn: 0.3206507\ttotal: 2.33s\tremaining: 2.13s\n",
      "523:\tlearn: 0.3203289\ttotal: 2.34s\tremaining: 2.13s\n",
      "524:\tlearn: 0.3201898\ttotal: 2.34s\tremaining: 2.12s\n",
      "525:\tlearn: 0.3199149\ttotal: 2.35s\tremaining: 2.12s\n",
      "526:\tlearn: 0.3196997\ttotal: 2.35s\tremaining: 2.11s\n",
      "527:\tlearn: 0.3193278\ttotal: 2.35s\tremaining: 2.1s\n",
      "528:\tlearn: 0.3189380\ttotal: 2.36s\tremaining: 2.1s\n",
      "529:\tlearn: 0.3185418\ttotal: 2.36s\tremaining: 2.1s\n",
      "530:\tlearn: 0.3183071\ttotal: 2.37s\tremaining: 2.09s\n",
      "531:\tlearn: 0.3179167\ttotal: 2.37s\tremaining: 2.08s\n",
      "532:\tlearn: 0.3177008\ttotal: 2.37s\tremaining: 2.08s\n",
      "533:\tlearn: 0.3174426\ttotal: 2.38s\tremaining: 2.08s\n",
      "534:\tlearn: 0.3170544\ttotal: 2.38s\tremaining: 2.07s\n",
      "535:\tlearn: 0.3166121\ttotal: 2.39s\tremaining: 2.06s\n",
      "536:\tlearn: 0.3164336\ttotal: 2.39s\tremaining: 2.06s\n",
      "537:\tlearn: 0.3160289\ttotal: 2.39s\tremaining: 2.06s\n",
      "538:\tlearn: 0.3156269\ttotal: 2.4s\tremaining: 2.05s\n",
      "539:\tlearn: 0.3152994\ttotal: 2.4s\tremaining: 2.04s\n",
      "540:\tlearn: 0.3149213\ttotal: 2.4s\tremaining: 2.04s\n",
      "541:\tlearn: 0.3146453\ttotal: 2.41s\tremaining: 2.04s\n",
      "542:\tlearn: 0.3143328\ttotal: 2.41s\tremaining: 2.03s\n",
      "543:\tlearn: 0.3142120\ttotal: 2.42s\tremaining: 2.03s\n",
      "544:\tlearn: 0.3140096\ttotal: 2.42s\tremaining: 2.02s\n",
      "545:\tlearn: 0.3137057\ttotal: 2.42s\tremaining: 2.02s\n",
      "546:\tlearn: 0.3134326\ttotal: 2.43s\tremaining: 2.01s\n",
      "547:\tlearn: 0.3131937\ttotal: 2.43s\tremaining: 2.01s\n",
      "548:\tlearn: 0.3128242\ttotal: 2.44s\tremaining: 2s\n",
      "549:\tlearn: 0.3124676\ttotal: 2.44s\tremaining: 2s\n",
      "550:\tlearn: 0.3121362\ttotal: 2.44s\tremaining: 1.99s\n",
      "551:\tlearn: 0.3118717\ttotal: 2.45s\tremaining: 1.99s\n",
      "552:\tlearn: 0.3116857\ttotal: 2.45s\tremaining: 1.98s\n",
      "553:\tlearn: 0.3114058\ttotal: 2.46s\tremaining: 1.98s\n",
      "554:\tlearn: 0.3109771\ttotal: 2.46s\tremaining: 1.97s\n",
      "555:\tlearn: 0.3108242\ttotal: 2.46s\tremaining: 1.97s\n",
      "556:\tlearn: 0.3105047\ttotal: 2.47s\tremaining: 1.96s\n"
     ]
    },
    {
     "name": "stdout",
     "output_type": "stream",
     "text": [
      "557:\tlearn: 0.3103011\ttotal: 2.47s\tremaining: 1.96s\n",
      "558:\tlearn: 0.3101388\ttotal: 2.48s\tremaining: 1.95s\n",
      "559:\tlearn: 0.3099384\ttotal: 2.48s\tremaining: 1.95s\n",
      "560:\tlearn: 0.3098210\ttotal: 2.49s\tremaining: 1.95s\n",
      "561:\tlearn: 0.3097432\ttotal: 2.49s\tremaining: 1.94s\n",
      "562:\tlearn: 0.3093146\ttotal: 2.5s\tremaining: 1.94s\n",
      "563:\tlearn: 0.3091228\ttotal: 2.5s\tremaining: 1.93s\n",
      "564:\tlearn: 0.3087913\ttotal: 2.5s\tremaining: 1.93s\n",
      "565:\tlearn: 0.3084951\ttotal: 2.51s\tremaining: 1.92s\n",
      "566:\tlearn: 0.3082365\ttotal: 2.51s\tremaining: 1.92s\n",
      "567:\tlearn: 0.3080879\ttotal: 2.52s\tremaining: 1.91s\n",
      "568:\tlearn: 0.3079187\ttotal: 2.52s\tremaining: 1.91s\n",
      "569:\tlearn: 0.3076242\ttotal: 2.52s\tremaining: 1.9s\n",
      "570:\tlearn: 0.3073901\ttotal: 2.53s\tremaining: 1.9s\n",
      "571:\tlearn: 0.3071931\ttotal: 2.53s\tremaining: 1.9s\n",
      "572:\tlearn: 0.3068995\ttotal: 2.54s\tremaining: 1.89s\n",
      "573:\tlearn: 0.3065909\ttotal: 2.54s\tremaining: 1.89s\n",
      "574:\tlearn: 0.3063995\ttotal: 2.54s\tremaining: 1.88s\n",
      "575:\tlearn: 0.3061245\ttotal: 2.55s\tremaining: 1.88s\n",
      "576:\tlearn: 0.3059387\ttotal: 2.55s\tremaining: 1.87s\n",
      "577:\tlearn: 0.3057644\ttotal: 2.56s\tremaining: 1.87s\n",
      "578:\tlearn: 0.3056015\ttotal: 2.56s\tremaining: 1.86s\n",
      "579:\tlearn: 0.3054169\ttotal: 2.56s\tremaining: 1.86s\n",
      "580:\tlearn: 0.3052301\ttotal: 2.57s\tremaining: 1.85s\n",
      "581:\tlearn: 0.3050935\ttotal: 2.57s\tremaining: 1.85s\n",
      "582:\tlearn: 0.3049122\ttotal: 2.58s\tremaining: 1.84s\n",
      "583:\tlearn: 0.3045689\ttotal: 2.58s\tremaining: 1.84s\n",
      "584:\tlearn: 0.3043786\ttotal: 2.58s\tremaining: 1.83s\n",
      "585:\tlearn: 0.3041001\ttotal: 2.59s\tremaining: 1.83s\n",
      "586:\tlearn: 0.3039421\ttotal: 2.59s\tremaining: 1.82s\n",
      "587:\tlearn: 0.3036763\ttotal: 2.59s\tremaining: 1.82s\n",
      "588:\tlearn: 0.3034727\ttotal: 2.6s\tremaining: 1.81s\n",
      "589:\tlearn: 0.3031936\ttotal: 2.6s\tremaining: 1.81s\n",
      "590:\tlearn: 0.3030359\ttotal: 2.61s\tremaining: 1.8s\n",
      "591:\tlearn: 0.3027911\ttotal: 2.61s\tremaining: 1.8s\n",
      "592:\tlearn: 0.3024130\ttotal: 2.61s\tremaining: 1.79s\n",
      "593:\tlearn: 0.3019850\ttotal: 2.62s\tremaining: 1.79s\n",
      "594:\tlearn: 0.3018217\ttotal: 2.62s\tremaining: 1.78s\n",
      "595:\tlearn: 0.3015763\ttotal: 2.63s\tremaining: 1.78s\n",
      "596:\tlearn: 0.3013085\ttotal: 2.63s\tremaining: 1.78s\n",
      "597:\tlearn: 0.3009703\ttotal: 2.64s\tremaining: 1.77s\n",
      "598:\tlearn: 0.3007278\ttotal: 2.64s\tremaining: 1.77s\n",
      "599:\tlearn: 0.3005316\ttotal: 2.65s\tremaining: 1.76s\n",
      "600:\tlearn: 0.3003358\ttotal: 2.65s\tremaining: 1.76s\n",
      "601:\tlearn: 0.3001171\ttotal: 2.66s\tremaining: 1.76s\n",
      "602:\tlearn: 0.2997622\ttotal: 2.66s\tremaining: 1.75s\n",
      "603:\tlearn: 0.2994511\ttotal: 2.66s\tremaining: 1.75s\n",
      "604:\tlearn: 0.2989403\ttotal: 2.67s\tremaining: 1.74s\n",
      "605:\tlearn: 0.2986845\ttotal: 2.67s\tremaining: 1.74s\n",
      "606:\tlearn: 0.2984287\ttotal: 2.67s\tremaining: 1.73s\n",
      "607:\tlearn: 0.2982596\ttotal: 2.68s\tremaining: 1.73s\n",
      "608:\tlearn: 0.2980307\ttotal: 2.68s\tremaining: 1.72s\n",
      "609:\tlearn: 0.2977958\ttotal: 2.69s\tremaining: 1.72s\n",
      "610:\tlearn: 0.2976153\ttotal: 2.69s\tremaining: 1.71s\n",
      "611:\tlearn: 0.2974086\ttotal: 2.69s\tremaining: 1.71s\n",
      "612:\tlearn: 0.2970504\ttotal: 2.7s\tremaining: 1.7s\n",
      "613:\tlearn: 0.2968036\ttotal: 2.7s\tremaining: 1.7s\n",
      "614:\tlearn: 0.2965259\ttotal: 2.71s\tremaining: 1.69s\n",
      "615:\tlearn: 0.2964097\ttotal: 2.71s\tremaining: 1.69s\n",
      "616:\tlearn: 0.2962194\ttotal: 2.71s\tremaining: 1.68s\n",
      "617:\tlearn: 0.2959674\ttotal: 2.72s\tremaining: 1.68s\n",
      "618:\tlearn: 0.2957924\ttotal: 2.72s\tremaining: 1.68s\n",
      "619:\tlearn: 0.2954320\ttotal: 2.73s\tremaining: 1.67s\n",
      "620:\tlearn: 0.2951445\ttotal: 2.73s\tremaining: 1.67s\n",
      "621:\tlearn: 0.2949299\ttotal: 2.73s\tremaining: 1.66s\n",
      "622:\tlearn: 0.2945867\ttotal: 2.74s\tremaining: 1.66s\n",
      "623:\tlearn: 0.2942172\ttotal: 2.74s\tremaining: 1.65s\n",
      "624:\tlearn: 0.2938660\ttotal: 2.75s\tremaining: 1.65s\n",
      "625:\tlearn: 0.2937709\ttotal: 2.75s\tremaining: 1.64s\n",
      "626:\tlearn: 0.2935726\ttotal: 2.75s\tremaining: 1.64s\n",
      "627:\tlearn: 0.2932977\ttotal: 2.76s\tremaining: 1.63s\n",
      "628:\tlearn: 0.2930286\ttotal: 2.76s\tremaining: 1.63s\n",
      "629:\tlearn: 0.2928204\ttotal: 2.76s\tremaining: 1.62s\n",
      "630:\tlearn: 0.2925666\ttotal: 2.77s\tremaining: 1.62s\n",
      "631:\tlearn: 0.2924391\ttotal: 2.77s\tremaining: 1.61s\n",
      "632:\tlearn: 0.2922301\ttotal: 2.78s\tremaining: 1.61s\n",
      "633:\tlearn: 0.2920249\ttotal: 2.78s\tremaining: 1.6s\n",
      "634:\tlearn: 0.2918731\ttotal: 2.78s\tremaining: 1.6s\n",
      "635:\tlearn: 0.2914958\ttotal: 2.79s\tremaining: 1.6s\n",
      "636:\tlearn: 0.2911980\ttotal: 2.79s\tremaining: 1.59s\n",
      "637:\tlearn: 0.2908056\ttotal: 2.8s\tremaining: 1.59s\n",
      "638:\tlearn: 0.2906092\ttotal: 2.8s\tremaining: 1.58s\n",
      "639:\tlearn: 0.2901976\ttotal: 2.81s\tremaining: 1.58s\n",
      "640:\tlearn: 0.2898671\ttotal: 2.81s\tremaining: 1.57s\n",
      "641:\tlearn: 0.2894744\ttotal: 2.82s\tremaining: 1.57s\n",
      "642:\tlearn: 0.2894149\ttotal: 2.82s\tremaining: 1.57s\n",
      "643:\tlearn: 0.2891425\ttotal: 2.83s\tremaining: 1.56s\n",
      "644:\tlearn: 0.2886182\ttotal: 2.83s\tremaining: 1.56s\n",
      "645:\tlearn: 0.2883109\ttotal: 2.83s\tremaining: 1.55s\n",
      "646:\tlearn: 0.2881232\ttotal: 2.84s\tremaining: 1.55s\n",
      "647:\tlearn: 0.2878932\ttotal: 2.84s\tremaining: 1.54s\n",
      "648:\tlearn: 0.2877421\ttotal: 2.85s\tremaining: 1.54s\n",
      "649:\tlearn: 0.2874466\ttotal: 2.85s\tremaining: 1.53s\n",
      "650:\tlearn: 0.2872241\ttotal: 2.85s\tremaining: 1.53s\n",
      "651:\tlearn: 0.2869097\ttotal: 2.86s\tremaining: 1.52s\n",
      "652:\tlearn: 0.2867584\ttotal: 2.86s\tremaining: 1.52s\n",
      "653:\tlearn: 0.2864996\ttotal: 2.86s\tremaining: 1.51s\n",
      "654:\tlearn: 0.2863397\ttotal: 2.87s\tremaining: 1.51s\n",
      "655:\tlearn: 0.2861016\ttotal: 2.87s\tremaining: 1.51s\n",
      "656:\tlearn: 0.2857364\ttotal: 2.88s\tremaining: 1.5s\n",
      "657:\tlearn: 0.2855899\ttotal: 2.88s\tremaining: 1.5s\n",
      "658:\tlearn: 0.2855001\ttotal: 2.88s\tremaining: 1.49s\n",
      "659:\tlearn: 0.2849807\ttotal: 2.89s\tremaining: 1.49s\n",
      "660:\tlearn: 0.2844953\ttotal: 2.9s\tremaining: 1.48s\n",
      "661:\tlearn: 0.2842926\ttotal: 2.9s\tremaining: 1.48s\n",
      "662:\tlearn: 0.2840254\ttotal: 2.9s\tremaining: 1.48s\n",
      "663:\tlearn: 0.2837445\ttotal: 2.91s\tremaining: 1.47s\n",
      "664:\tlearn: 0.2836261\ttotal: 2.91s\tremaining: 1.47s\n",
      "665:\tlearn: 0.2832867\ttotal: 2.91s\tremaining: 1.46s\n",
      "666:\tlearn: 0.2830260\ttotal: 2.92s\tremaining: 1.46s\n",
      "667:\tlearn: 0.2828824\ttotal: 2.92s\tremaining: 1.45s\n",
      "668:\tlearn: 0.2826503\ttotal: 2.92s\tremaining: 1.45s\n",
      "669:\tlearn: 0.2824456\ttotal: 2.93s\tremaining: 1.44s\n",
      "670:\tlearn: 0.2822707\ttotal: 2.93s\tremaining: 1.44s\n",
      "671:\tlearn: 0.2818192\ttotal: 2.94s\tremaining: 1.43s\n",
      "672:\tlearn: 0.2815513\ttotal: 2.94s\tremaining: 1.43s\n",
      "673:\tlearn: 0.2813578\ttotal: 2.94s\tremaining: 1.42s\n",
      "674:\tlearn: 0.2812220\ttotal: 2.95s\tremaining: 1.42s\n",
      "675:\tlearn: 0.2810673\ttotal: 2.95s\tremaining: 1.42s\n",
      "676:\tlearn: 0.2808722\ttotal: 2.96s\tremaining: 1.41s\n",
      "677:\tlearn: 0.2806202\ttotal: 2.96s\tremaining: 1.41s\n",
      "678:\tlearn: 0.2804213\ttotal: 2.97s\tremaining: 1.4s\n",
      "679:\tlearn: 0.2802106\ttotal: 2.97s\tremaining: 1.4s\n",
      "680:\tlearn: 0.2799196\ttotal: 2.98s\tremaining: 1.4s\n",
      "681:\tlearn: 0.2795763\ttotal: 2.98s\tremaining: 1.39s\n",
      "682:\tlearn: 0.2793791\ttotal: 2.99s\tremaining: 1.39s\n",
      "683:\tlearn: 0.2792834\ttotal: 2.99s\tremaining: 1.38s\n",
      "684:\tlearn: 0.2788512\ttotal: 2.99s\tremaining: 1.38s\n",
      "685:\tlearn: 0.2784301\ttotal: 3s\tremaining: 1.37s\n",
      "686:\tlearn: 0.2782777\ttotal: 3s\tremaining: 1.37s\n",
      "687:\tlearn: 0.2780998\ttotal: 3.01s\tremaining: 1.36s\n",
      "688:\tlearn: 0.2777655\ttotal: 3.01s\tremaining: 1.36s\n",
      "689:\tlearn: 0.2773918\ttotal: 3.01s\tremaining: 1.35s\n",
      "690:\tlearn: 0.2772021\ttotal: 3.02s\tremaining: 1.35s\n",
      "691:\tlearn: 0.2768734\ttotal: 3.02s\tremaining: 1.34s\n",
      "692:\tlearn: 0.2764099\ttotal: 3.02s\tremaining: 1.34s\n",
      "693:\tlearn: 0.2762387\ttotal: 3.03s\tremaining: 1.33s\n",
      "694:\tlearn: 0.2760962\ttotal: 3.03s\tremaining: 1.33s\n",
      "695:\tlearn: 0.2759592\ttotal: 3.04s\tremaining: 1.33s\n",
      "696:\tlearn: 0.2755461\ttotal: 3.04s\tremaining: 1.32s\n",
      "697:\tlearn: 0.2752277\ttotal: 3.04s\tremaining: 1.32s\n",
      "698:\tlearn: 0.2750603\ttotal: 3.05s\tremaining: 1.31s\n",
      "699:\tlearn: 0.2748922\ttotal: 3.05s\tremaining: 1.31s\n",
      "700:\tlearn: 0.2747763\ttotal: 3.06s\tremaining: 1.3s\n",
      "701:\tlearn: 0.2744921\ttotal: 3.06s\tremaining: 1.3s\n",
      "702:\tlearn: 0.2741700\ttotal: 3.06s\tremaining: 1.29s\n",
      "703:\tlearn: 0.2739667\ttotal: 3.07s\tremaining: 1.29s\n",
      "704:\tlearn: 0.2737784\ttotal: 3.07s\tremaining: 1.28s\n",
      "705:\tlearn: 0.2733980\ttotal: 3.08s\tremaining: 1.28s\n",
      "706:\tlearn: 0.2732135\ttotal: 3.08s\tremaining: 1.28s\n",
      "707:\tlearn: 0.2729636\ttotal: 3.08s\tremaining: 1.27s\n",
      "708:\tlearn: 0.2727125\ttotal: 3.09s\tremaining: 1.27s\n",
      "709:\tlearn: 0.2725643\ttotal: 3.09s\tremaining: 1.26s\n",
      "710:\tlearn: 0.2722871\ttotal: 3.1s\tremaining: 1.26s\n",
      "711:\tlearn: 0.2720875\ttotal: 3.1s\tremaining: 1.25s\n",
      "712:\tlearn: 0.2717734\ttotal: 3.1s\tremaining: 1.25s\n",
      "713:\tlearn: 0.2715568\ttotal: 3.11s\tremaining: 1.24s\n",
      "714:\tlearn: 0.2713334\ttotal: 3.11s\tremaining: 1.24s\n",
      "715:\tlearn: 0.2711643\ttotal: 3.11s\tremaining: 1.24s\n"
     ]
    },
    {
     "name": "stdout",
     "output_type": "stream",
     "text": [
      "716:\tlearn: 0.2708809\ttotal: 3.12s\tremaining: 1.23s\n",
      "717:\tlearn: 0.2707535\ttotal: 3.13s\tremaining: 1.23s\n",
      "718:\tlearn: 0.2705291\ttotal: 3.13s\tremaining: 1.22s\n",
      "719:\tlearn: 0.2703092\ttotal: 3.13s\tremaining: 1.22s\n",
      "720:\tlearn: 0.2698799\ttotal: 3.14s\tremaining: 1.21s\n",
      "721:\tlearn: 0.2695117\ttotal: 3.15s\tremaining: 1.21s\n",
      "722:\tlearn: 0.2691096\ttotal: 3.15s\tremaining: 1.21s\n",
      "723:\tlearn: 0.2689475\ttotal: 3.15s\tremaining: 1.2s\n",
      "724:\tlearn: 0.2688304\ttotal: 3.16s\tremaining: 1.2s\n",
      "725:\tlearn: 0.2686678\ttotal: 3.16s\tremaining: 1.19s\n",
      "726:\tlearn: 0.2683857\ttotal: 3.17s\tremaining: 1.19s\n",
      "727:\tlearn: 0.2682888\ttotal: 3.17s\tremaining: 1.18s\n",
      "728:\tlearn: 0.2681534\ttotal: 3.17s\tremaining: 1.18s\n",
      "729:\tlearn: 0.2678461\ttotal: 3.18s\tremaining: 1.18s\n",
      "730:\tlearn: 0.2676915\ttotal: 3.18s\tremaining: 1.17s\n",
      "731:\tlearn: 0.2675472\ttotal: 3.19s\tremaining: 1.17s\n",
      "732:\tlearn: 0.2672442\ttotal: 3.19s\tremaining: 1.16s\n",
      "733:\tlearn: 0.2671035\ttotal: 3.19s\tremaining: 1.16s\n",
      "734:\tlearn: 0.2668893\ttotal: 3.2s\tremaining: 1.15s\n",
      "735:\tlearn: 0.2667165\ttotal: 3.2s\tremaining: 1.15s\n",
      "736:\tlearn: 0.2665443\ttotal: 3.2s\tremaining: 1.14s\n",
      "737:\tlearn: 0.2663046\ttotal: 3.21s\tremaining: 1.14s\n",
      "738:\tlearn: 0.2660283\ttotal: 3.21s\tremaining: 1.13s\n",
      "739:\tlearn: 0.2659071\ttotal: 3.21s\tremaining: 1.13s\n",
      "740:\tlearn: 0.2656698\ttotal: 3.22s\tremaining: 1.13s\n",
      "741:\tlearn: 0.2653548\ttotal: 3.22s\tremaining: 1.12s\n",
      "742:\tlearn: 0.2652226\ttotal: 3.23s\tremaining: 1.12s\n",
      "743:\tlearn: 0.2651037\ttotal: 3.23s\tremaining: 1.11s\n",
      "744:\tlearn: 0.2649184\ttotal: 3.23s\tremaining: 1.11s\n",
      "745:\tlearn: 0.2647335\ttotal: 3.24s\tremaining: 1.1s\n",
      "746:\tlearn: 0.2646522\ttotal: 3.24s\tremaining: 1.1s\n",
      "747:\tlearn: 0.2644324\ttotal: 3.25s\tremaining: 1.09s\n",
      "748:\tlearn: 0.2642788\ttotal: 3.25s\tremaining: 1.09s\n",
      "749:\tlearn: 0.2640669\ttotal: 3.25s\tremaining: 1.08s\n",
      "750:\tlearn: 0.2639494\ttotal: 3.26s\tremaining: 1.08s\n",
      "751:\tlearn: 0.2635529\ttotal: 3.26s\tremaining: 1.07s\n",
      "752:\tlearn: 0.2633589\ttotal: 3.27s\tremaining: 1.07s\n",
      "753:\tlearn: 0.2631934\ttotal: 3.27s\tremaining: 1.07s\n",
      "754:\tlearn: 0.2629681\ttotal: 3.27s\tremaining: 1.06s\n",
      "755:\tlearn: 0.2628001\ttotal: 3.28s\tremaining: 1.06s\n",
      "756:\tlearn: 0.2625420\ttotal: 3.28s\tremaining: 1.05s\n",
      "757:\tlearn: 0.2623653\ttotal: 3.29s\tremaining: 1.05s\n",
      "758:\tlearn: 0.2621522\ttotal: 3.29s\tremaining: 1.04s\n",
      "759:\tlearn: 0.2618415\ttotal: 3.3s\tremaining: 1.04s\n",
      "760:\tlearn: 0.2615651\ttotal: 3.3s\tremaining: 1.04s\n",
      "761:\tlearn: 0.2614580\ttotal: 3.31s\tremaining: 1.03s\n",
      "762:\tlearn: 0.2612567\ttotal: 3.31s\tremaining: 1.03s\n",
      "763:\tlearn: 0.2609946\ttotal: 3.31s\tremaining: 1.02s\n",
      "764:\tlearn: 0.2608090\ttotal: 3.32s\tremaining: 1.02s\n",
      "765:\tlearn: 0.2605081\ttotal: 3.32s\tremaining: 1.01s\n",
      "766:\tlearn: 0.2603336\ttotal: 3.33s\tremaining: 1.01s\n",
      "767:\tlearn: 0.2600956\ttotal: 3.33s\tremaining: 1.01s\n",
      "768:\tlearn: 0.2598375\ttotal: 3.33s\tremaining: 1s\n",
      "769:\tlearn: 0.2596590\ttotal: 3.34s\tremaining: 997ms\n",
      "770:\tlearn: 0.2594269\ttotal: 3.34s\tremaining: 993ms\n",
      "771:\tlearn: 0.2590752\ttotal: 3.35s\tremaining: 988ms\n",
      "772:\tlearn: 0.2587713\ttotal: 3.35s\tremaining: 984ms\n",
      "773:\tlearn: 0.2586639\ttotal: 3.35s\tremaining: 979ms\n",
      "774:\tlearn: 0.2582746\ttotal: 3.36s\tremaining: 975ms\n",
      "775:\tlearn: 0.2580847\ttotal: 3.36s\tremaining: 970ms\n",
      "776:\tlearn: 0.2579291\ttotal: 3.37s\tremaining: 966ms\n",
      "777:\tlearn: 0.2577155\ttotal: 3.37s\tremaining: 962ms\n",
      "778:\tlearn: 0.2575016\ttotal: 3.37s\tremaining: 957ms\n",
      "779:\tlearn: 0.2573489\ttotal: 3.38s\tremaining: 953ms\n",
      "780:\tlearn: 0.2571358\ttotal: 3.38s\tremaining: 948ms\n",
      "781:\tlearn: 0.2569336\ttotal: 3.38s\tremaining: 944ms\n",
      "782:\tlearn: 0.2567258\ttotal: 3.39s\tremaining: 939ms\n",
      "783:\tlearn: 0.2565130\ttotal: 3.39s\tremaining: 935ms\n",
      "784:\tlearn: 0.2564257\ttotal: 3.4s\tremaining: 930ms\n",
      "785:\tlearn: 0.2561589\ttotal: 3.4s\tremaining: 926ms\n",
      "786:\tlearn: 0.2560161\ttotal: 3.4s\tremaining: 922ms\n",
      "787:\tlearn: 0.2557009\ttotal: 3.41s\tremaining: 917ms\n",
      "788:\tlearn: 0.2554608\ttotal: 3.41s\tremaining: 913ms\n",
      "789:\tlearn: 0.2553808\ttotal: 3.42s\tremaining: 908ms\n",
      "790:\tlearn: 0.2551502\ttotal: 3.42s\tremaining: 904ms\n",
      "791:\tlearn: 0.2549581\ttotal: 3.42s\tremaining: 899ms\n",
      "792:\tlearn: 0.2545617\ttotal: 3.43s\tremaining: 895ms\n",
      "793:\tlearn: 0.2543052\ttotal: 3.43s\tremaining: 891ms\n",
      "794:\tlearn: 0.2540817\ttotal: 3.44s\tremaining: 886ms\n",
      "795:\tlearn: 0.2540157\ttotal: 3.44s\tremaining: 882ms\n",
      "796:\tlearn: 0.2537277\ttotal: 3.44s\tremaining: 877ms\n",
      "797:\tlearn: 0.2534629\ttotal: 3.45s\tremaining: 873ms\n",
      "798:\tlearn: 0.2530700\ttotal: 3.45s\tremaining: 869ms\n",
      "799:\tlearn: 0.2528611\ttotal: 3.46s\tremaining: 865ms\n",
      "800:\tlearn: 0.2526812\ttotal: 3.46s\tremaining: 861ms\n",
      "801:\tlearn: 0.2523937\ttotal: 3.47s\tremaining: 857ms\n",
      "802:\tlearn: 0.2520940\ttotal: 3.47s\tremaining: 852ms\n",
      "803:\tlearn: 0.2519739\ttotal: 3.48s\tremaining: 848ms\n",
      "804:\tlearn: 0.2519170\ttotal: 3.48s\tremaining: 844ms\n",
      "805:\tlearn: 0.2517096\ttotal: 3.49s\tremaining: 839ms\n",
      "806:\tlearn: 0.2515033\ttotal: 3.49s\tremaining: 835ms\n",
      "807:\tlearn: 0.2513408\ttotal: 3.49s\tremaining: 830ms\n",
      "808:\tlearn: 0.2512891\ttotal: 3.5s\tremaining: 826ms\n",
      "809:\tlearn: 0.2510570\ttotal: 3.5s\tremaining: 821ms\n",
      "810:\tlearn: 0.2508387\ttotal: 3.51s\tremaining: 817ms\n",
      "811:\tlearn: 0.2505377\ttotal: 3.51s\tremaining: 813ms\n",
      "812:\tlearn: 0.2501538\ttotal: 3.51s\tremaining: 808ms\n",
      "813:\tlearn: 0.2500013\ttotal: 3.52s\tremaining: 804ms\n",
      "814:\tlearn: 0.2498099\ttotal: 3.52s\tremaining: 799ms\n",
      "815:\tlearn: 0.2496151\ttotal: 3.52s\tremaining: 795ms\n",
      "816:\tlearn: 0.2495233\ttotal: 3.53s\tremaining: 790ms\n",
      "817:\tlearn: 0.2493167\ttotal: 3.53s\tremaining: 786ms\n",
      "818:\tlearn: 0.2492102\ttotal: 3.54s\tremaining: 781ms\n",
      "819:\tlearn: 0.2489330\ttotal: 3.54s\tremaining: 777ms\n",
      "820:\tlearn: 0.2488131\ttotal: 3.54s\tremaining: 773ms\n",
      "821:\tlearn: 0.2485946\ttotal: 3.55s\tremaining: 768ms\n",
      "822:\tlearn: 0.2485017\ttotal: 3.55s\tremaining: 764ms\n",
      "823:\tlearn: 0.2481905\ttotal: 3.56s\tremaining: 759ms\n",
      "824:\tlearn: 0.2477253\ttotal: 3.56s\tremaining: 755ms\n",
      "825:\tlearn: 0.2475475\ttotal: 3.56s\tremaining: 751ms\n",
      "826:\tlearn: 0.2473715\ttotal: 3.57s\tremaining: 746ms\n",
      "827:\tlearn: 0.2472002\ttotal: 3.57s\tremaining: 742ms\n",
      "828:\tlearn: 0.2469941\ttotal: 3.57s\tremaining: 737ms\n",
      "829:\tlearn: 0.2466527\ttotal: 3.58s\tremaining: 733ms\n",
      "830:\tlearn: 0.2464430\ttotal: 3.58s\tremaining: 729ms\n",
      "831:\tlearn: 0.2461151\ttotal: 3.59s\tremaining: 724ms\n",
      "832:\tlearn: 0.2457970\ttotal: 3.59s\tremaining: 720ms\n",
      "833:\tlearn: 0.2455901\ttotal: 3.59s\tremaining: 715ms\n",
      "834:\tlearn: 0.2452992\ttotal: 3.6s\tremaining: 711ms\n",
      "835:\tlearn: 0.2451277\ttotal: 3.6s\tremaining: 706ms\n",
      "836:\tlearn: 0.2447410\ttotal: 3.6s\tremaining: 702ms\n",
      "837:\tlearn: 0.2445201\ttotal: 3.61s\tremaining: 698ms\n",
      "838:\tlearn: 0.2443105\ttotal: 3.62s\tremaining: 694ms\n",
      "839:\tlearn: 0.2440616\ttotal: 3.62s\tremaining: 690ms\n",
      "840:\tlearn: 0.2438678\ttotal: 3.63s\tremaining: 686ms\n",
      "841:\tlearn: 0.2435659\ttotal: 3.63s\tremaining: 681ms\n",
      "842:\tlearn: 0.2432741\ttotal: 3.63s\tremaining: 677ms\n",
      "843:\tlearn: 0.2431029\ttotal: 3.64s\tremaining: 673ms\n",
      "844:\tlearn: 0.2429203\ttotal: 3.64s\tremaining: 669ms\n",
      "845:\tlearn: 0.2428023\ttotal: 3.65s\tremaining: 664ms\n",
      "846:\tlearn: 0.2424640\ttotal: 3.65s\tremaining: 660ms\n",
      "847:\tlearn: 0.2423001\ttotal: 3.66s\tremaining: 656ms\n",
      "848:\tlearn: 0.2420735\ttotal: 3.66s\tremaining: 651ms\n",
      "849:\tlearn: 0.2420084\ttotal: 3.67s\tremaining: 647ms\n",
      "850:\tlearn: 0.2417864\ttotal: 3.67s\tremaining: 643ms\n",
      "851:\tlearn: 0.2416312\ttotal: 3.67s\tremaining: 638ms\n",
      "852:\tlearn: 0.2413680\ttotal: 3.68s\tremaining: 634ms\n",
      "853:\tlearn: 0.2412124\ttotal: 3.68s\tremaining: 629ms\n",
      "854:\tlearn: 0.2410154\ttotal: 3.69s\tremaining: 625ms\n",
      "855:\tlearn: 0.2408704\ttotal: 3.69s\tremaining: 621ms\n",
      "856:\tlearn: 0.2407793\ttotal: 3.69s\tremaining: 616ms\n",
      "857:\tlearn: 0.2404344\ttotal: 3.7s\tremaining: 612ms\n",
      "858:\tlearn: 0.2402560\ttotal: 3.7s\tremaining: 608ms\n",
      "859:\tlearn: 0.2398737\ttotal: 3.7s\tremaining: 603ms\n",
      "860:\tlearn: 0.2396611\ttotal: 3.71s\tremaining: 599ms\n",
      "861:\tlearn: 0.2394466\ttotal: 3.71s\tremaining: 594ms\n",
      "862:\tlearn: 0.2392354\ttotal: 3.72s\tremaining: 590ms\n",
      "863:\tlearn: 0.2391121\ttotal: 3.72s\tremaining: 586ms\n",
      "864:\tlearn: 0.2389406\ttotal: 3.72s\tremaining: 581ms\n",
      "865:\tlearn: 0.2386347\ttotal: 3.73s\tremaining: 577ms\n",
      "866:\tlearn: 0.2385575\ttotal: 3.73s\tremaining: 572ms\n",
      "867:\tlearn: 0.2383575\ttotal: 3.73s\tremaining: 568ms\n",
      "868:\tlearn: 0.2380460\ttotal: 3.74s\tremaining: 564ms\n",
      "869:\tlearn: 0.2377483\ttotal: 3.74s\tremaining: 559ms\n",
      "870:\tlearn: 0.2375726\ttotal: 3.75s\tremaining: 555ms\n",
      "871:\tlearn: 0.2372960\ttotal: 3.75s\tremaining: 551ms\n",
      "872:\tlearn: 0.2370233\ttotal: 3.76s\tremaining: 546ms\n",
      "873:\tlearn: 0.2368690\ttotal: 3.76s\tremaining: 542ms\n",
      "874:\tlearn: 0.2367533\ttotal: 3.77s\tremaining: 538ms\n",
      "875:\tlearn: 0.2366200\ttotal: 3.77s\tremaining: 534ms\n",
      "876:\tlearn: 0.2363331\ttotal: 3.77s\tremaining: 529ms\n"
     ]
    },
    {
     "name": "stdout",
     "output_type": "stream",
     "text": [
      "877:\tlearn: 0.2361300\ttotal: 3.78s\tremaining: 525ms\n",
      "878:\tlearn: 0.2358234\ttotal: 3.78s\tremaining: 521ms\n",
      "879:\tlearn: 0.2356507\ttotal: 3.79s\tremaining: 517ms\n",
      "880:\tlearn: 0.2355343\ttotal: 3.79s\tremaining: 512ms\n",
      "881:\tlearn: 0.2351850\ttotal: 3.8s\tremaining: 508ms\n",
      "882:\tlearn: 0.2350543\ttotal: 3.8s\tremaining: 504ms\n",
      "883:\tlearn: 0.2347072\ttotal: 3.81s\tremaining: 500ms\n",
      "884:\tlearn: 0.2345145\ttotal: 3.81s\tremaining: 495ms\n",
      "885:\tlearn: 0.2343492\ttotal: 3.82s\tremaining: 491ms\n",
      "886:\tlearn: 0.2340319\ttotal: 3.82s\tremaining: 487ms\n",
      "887:\tlearn: 0.2338152\ttotal: 3.82s\tremaining: 482ms\n",
      "888:\tlearn: 0.2336786\ttotal: 3.83s\tremaining: 478ms\n",
      "889:\tlearn: 0.2334804\ttotal: 3.83s\tremaining: 474ms\n",
      "890:\tlearn: 0.2331008\ttotal: 3.84s\tremaining: 469ms\n",
      "891:\tlearn: 0.2328123\ttotal: 3.84s\tremaining: 465ms\n",
      "892:\tlearn: 0.2324952\ttotal: 3.84s\tremaining: 461ms\n",
      "893:\tlearn: 0.2322858\ttotal: 3.85s\tremaining: 456ms\n",
      "894:\tlearn: 0.2321078\ttotal: 3.85s\tremaining: 452ms\n",
      "895:\tlearn: 0.2318632\ttotal: 3.85s\tremaining: 448ms\n",
      "896:\tlearn: 0.2316696\ttotal: 3.86s\tremaining: 443ms\n",
      "897:\tlearn: 0.2313141\ttotal: 3.86s\tremaining: 439ms\n",
      "898:\tlearn: 0.2310384\ttotal: 3.87s\tremaining: 435ms\n",
      "899:\tlearn: 0.2308471\ttotal: 3.87s\tremaining: 430ms\n",
      "900:\tlearn: 0.2306039\ttotal: 3.88s\tremaining: 426ms\n",
      "901:\tlearn: 0.2304924\ttotal: 3.88s\tremaining: 421ms\n",
      "902:\tlearn: 0.2303643\ttotal: 3.88s\tremaining: 417ms\n",
      "903:\tlearn: 0.2301962\ttotal: 3.89s\tremaining: 413ms\n",
      "904:\tlearn: 0.2300043\ttotal: 3.89s\tremaining: 408ms\n",
      "905:\tlearn: 0.2298540\ttotal: 3.89s\tremaining: 404ms\n",
      "906:\tlearn: 0.2297126\ttotal: 3.9s\tremaining: 400ms\n",
      "907:\tlearn: 0.2294855\ttotal: 3.9s\tremaining: 395ms\n",
      "908:\tlearn: 0.2290991\ttotal: 3.9s\tremaining: 391ms\n",
      "909:\tlearn: 0.2289023\ttotal: 3.91s\tremaining: 387ms\n",
      "910:\tlearn: 0.2286474\ttotal: 3.91s\tremaining: 382ms\n",
      "911:\tlearn: 0.2284438\ttotal: 3.92s\tremaining: 378ms\n",
      "912:\tlearn: 0.2282227\ttotal: 3.92s\tremaining: 374ms\n",
      "913:\tlearn: 0.2279530\ttotal: 3.92s\tremaining: 369ms\n",
      "914:\tlearn: 0.2277938\ttotal: 3.93s\tremaining: 365ms\n",
      "915:\tlearn: 0.2276636\ttotal: 3.93s\tremaining: 361ms\n",
      "916:\tlearn: 0.2274553\ttotal: 3.94s\tremaining: 356ms\n",
      "917:\tlearn: 0.2271909\ttotal: 3.94s\tremaining: 352ms\n",
      "918:\tlearn: 0.2267150\ttotal: 3.94s\tremaining: 348ms\n",
      "919:\tlearn: 0.2264573\ttotal: 3.95s\tremaining: 344ms\n",
      "920:\tlearn: 0.2262776\ttotal: 3.96s\tremaining: 339ms\n",
      "921:\tlearn: 0.2261959\ttotal: 3.96s\tremaining: 335ms\n",
      "922:\tlearn: 0.2259906\ttotal: 3.96s\tremaining: 331ms\n",
      "923:\tlearn: 0.2257087\ttotal: 3.97s\tremaining: 327ms\n",
      "924:\tlearn: 0.2255685\ttotal: 3.97s\tremaining: 322ms\n",
      "925:\tlearn: 0.2253321\ttotal: 3.98s\tremaining: 318ms\n",
      "926:\tlearn: 0.2251327\ttotal: 3.98s\tremaining: 314ms\n",
      "927:\tlearn: 0.2249952\ttotal: 3.98s\tremaining: 309ms\n",
      "928:\tlearn: 0.2248877\ttotal: 3.99s\tremaining: 305ms\n",
      "929:\tlearn: 0.2247575\ttotal: 3.99s\tremaining: 301ms\n",
      "930:\tlearn: 0.2245515\ttotal: 4s\tremaining: 296ms\n",
      "931:\tlearn: 0.2244464\ttotal: 4s\tremaining: 292ms\n",
      "932:\tlearn: 0.2242453\ttotal: 4s\tremaining: 288ms\n",
      "933:\tlearn: 0.2240933\ttotal: 4.01s\tremaining: 283ms\n",
      "934:\tlearn: 0.2240094\ttotal: 4.01s\tremaining: 279ms\n",
      "935:\tlearn: 0.2238943\ttotal: 4.02s\tremaining: 275ms\n",
      "936:\tlearn: 0.2237235\ttotal: 4.02s\tremaining: 270ms\n",
      "937:\tlearn: 0.2235725\ttotal: 4.02s\tremaining: 266ms\n",
      "938:\tlearn: 0.2232675\ttotal: 4.03s\tremaining: 262ms\n",
      "939:\tlearn: 0.2229665\ttotal: 4.03s\tremaining: 257ms\n",
      "940:\tlearn: 0.2228382\ttotal: 4.04s\tremaining: 253ms\n",
      "941:\tlearn: 0.2226573\ttotal: 4.04s\tremaining: 249ms\n",
      "942:\tlearn: 0.2224769\ttotal: 4.04s\tremaining: 244ms\n",
      "943:\tlearn: 0.2222134\ttotal: 4.05s\tremaining: 240ms\n",
      "944:\tlearn: 0.2219684\ttotal: 4.05s\tremaining: 236ms\n",
      "945:\tlearn: 0.2216200\ttotal: 4.05s\tremaining: 232ms\n",
      "946:\tlearn: 0.2213506\ttotal: 4.06s\tremaining: 227ms\n",
      "947:\tlearn: 0.2212450\ttotal: 4.06s\tremaining: 223ms\n",
      "948:\tlearn: 0.2210993\ttotal: 4.07s\tremaining: 219ms\n",
      "949:\tlearn: 0.2210748\ttotal: 4.07s\tremaining: 214ms\n",
      "950:\tlearn: 0.2209998\ttotal: 4.08s\tremaining: 210ms\n",
      "951:\tlearn: 0.2207899\ttotal: 4.08s\tremaining: 206ms\n",
      "952:\tlearn: 0.2204685\ttotal: 4.08s\tremaining: 201ms\n",
      "953:\tlearn: 0.2202563\ttotal: 4.09s\tremaining: 197ms\n",
      "954:\tlearn: 0.2201134\ttotal: 4.09s\tremaining: 193ms\n",
      "955:\tlearn: 0.2199493\ttotal: 4.09s\tremaining: 188ms\n",
      "956:\tlearn: 0.2198277\ttotal: 4.1s\tremaining: 184ms\n",
      "957:\tlearn: 0.2196306\ttotal: 4.1s\tremaining: 180ms\n",
      "958:\tlearn: 0.2194657\ttotal: 4.11s\tremaining: 176ms\n",
      "959:\tlearn: 0.2193365\ttotal: 4.11s\tremaining: 171ms\n",
      "960:\tlearn: 0.2190508\ttotal: 4.12s\tremaining: 167ms\n",
      "961:\tlearn: 0.2188780\ttotal: 4.12s\tremaining: 163ms\n",
      "962:\tlearn: 0.2186982\ttotal: 4.13s\tremaining: 159ms\n",
      "963:\tlearn: 0.2184084\ttotal: 4.13s\tremaining: 154ms\n",
      "964:\tlearn: 0.2182851\ttotal: 4.14s\tremaining: 150ms\n",
      "965:\tlearn: 0.2181933\ttotal: 4.14s\tremaining: 146ms\n",
      "966:\tlearn: 0.2179541\ttotal: 4.14s\tremaining: 141ms\n",
      "967:\tlearn: 0.2178686\ttotal: 4.15s\tremaining: 137ms\n",
      "968:\tlearn: 0.2176379\ttotal: 4.15s\tremaining: 133ms\n",
      "969:\tlearn: 0.2174315\ttotal: 4.16s\tremaining: 129ms\n",
      "970:\tlearn: 0.2171641\ttotal: 4.16s\tremaining: 124ms\n",
      "971:\tlearn: 0.2170805\ttotal: 4.16s\tremaining: 120ms\n",
      "972:\tlearn: 0.2169286\ttotal: 4.17s\tremaining: 116ms\n",
      "973:\tlearn: 0.2167543\ttotal: 4.17s\tremaining: 111ms\n",
      "974:\tlearn: 0.2166748\ttotal: 4.18s\tremaining: 107ms\n",
      "975:\tlearn: 0.2165473\ttotal: 4.18s\tremaining: 103ms\n",
      "976:\tlearn: 0.2164787\ttotal: 4.18s\tremaining: 98.5ms\n",
      "977:\tlearn: 0.2163090\ttotal: 4.19s\tremaining: 94.2ms\n",
      "978:\tlearn: 0.2161029\ttotal: 4.19s\tremaining: 89.9ms\n",
      "979:\tlearn: 0.2159464\ttotal: 4.2s\tremaining: 85.6ms\n",
      "980:\tlearn: 0.2157806\ttotal: 4.2s\tremaining: 81.3ms\n",
      "981:\tlearn: 0.2155353\ttotal: 4.2s\tremaining: 77ms\n",
      "982:\tlearn: 0.2153520\ttotal: 4.21s\tremaining: 72.8ms\n",
      "983:\tlearn: 0.2150253\ttotal: 4.21s\tremaining: 68.5ms\n",
      "984:\tlearn: 0.2147992\ttotal: 4.21s\tremaining: 64.2ms\n",
      "985:\tlearn: 0.2144625\ttotal: 4.22s\tremaining: 59.9ms\n",
      "986:\tlearn: 0.2141519\ttotal: 4.22s\tremaining: 55.6ms\n",
      "987:\tlearn: 0.2141197\ttotal: 4.23s\tremaining: 51.3ms\n",
      "988:\tlearn: 0.2140360\ttotal: 4.23s\tremaining: 47.1ms\n",
      "989:\tlearn: 0.2138360\ttotal: 4.23s\tremaining: 42.8ms\n",
      "990:\tlearn: 0.2135982\ttotal: 4.24s\tremaining: 38.5ms\n",
      "991:\tlearn: 0.2135102\ttotal: 4.24s\tremaining: 34.2ms\n",
      "992:\tlearn: 0.2131976\ttotal: 4.25s\tremaining: 29.9ms\n",
      "993:\tlearn: 0.2129955\ttotal: 4.25s\tremaining: 25.7ms\n",
      "994:\tlearn: 0.2127261\ttotal: 4.25s\tremaining: 21.4ms\n",
      "995:\tlearn: 0.2123776\ttotal: 4.26s\tremaining: 17.1ms\n",
      "996:\tlearn: 0.2123060\ttotal: 4.26s\tremaining: 12.8ms\n",
      "997:\tlearn: 0.2122299\ttotal: 4.27s\tremaining: 8.55ms\n",
      "998:\tlearn: 0.2121843\ttotal: 4.27s\tremaining: 4.27ms\n",
      "999:\tlearn: 0.2119477\ttotal: 4.27s\tremaining: 0us\n",
      "\n",
      "=========================catboost=========================\n",
      "******************************************************\n",
      "confusion_matrix    : \n",
      " [[ 87  38]\n",
      " [ 18 107]]\n",
      "\n",
      "classification_report    : \n",
      "               precision    recall  f1-score   support\n",
      "\n",
      "           1       0.83      0.70      0.76       125\n",
      "           2       0.74      0.86      0.79       125\n",
      "\n",
      "    accuracy                           0.78       250\n",
      "   macro avg       0.78      0.78      0.77       250\n",
      "weighted avg       0.78      0.78      0.77       250\n",
      "\n",
      "\n",
      "=========================Random Forest=========================\n",
      "******************************************************\n",
      "confusion_matrix    : \n",
      " [[ 91  34]\n",
      " [ 18 107]]\n",
      "\n",
      "classification_report    : \n",
      "               precision    recall  f1-score   support\n",
      "\n",
      "           1       0.83      0.73      0.78       125\n",
      "           2       0.76      0.86      0.80       125\n",
      "\n",
      "    accuracy                           0.79       250\n",
      "   macro avg       0.80      0.79      0.79       250\n",
      "weighted avg       0.80      0.79      0.79       250\n",
      "\n",
      "\n",
      "=========================Gradient Boosting=========================\n",
      "******************************************************\n",
      "confusion_matrix    : \n",
      " [[ 91  34]\n",
      " [ 23 102]]\n",
      "\n",
      "classification_report    : \n",
      "               precision    recall  f1-score   support\n",
      "\n",
      "           1       0.80      0.73      0.76       125\n",
      "           2       0.75      0.82      0.78       125\n",
      "\n",
      "    accuracy                           0.77       250\n",
      "   macro avg       0.77      0.77      0.77       250\n",
      "weighted avg       0.77      0.77      0.77       250\n",
      "\n",
      "\n",
      "=========================ExtraTrees=========================\n",
      "******************************************************\n",
      "confusion_matrix    : \n",
      " [[ 95  30]\n",
      " [ 10 115]]\n",
      "\n",
      "classification_report    : \n",
      "               precision    recall  f1-score   support\n",
      "\n",
      "           1       0.90      0.76      0.83       125\n",
      "           2       0.79      0.92      0.85       125\n",
      "\n",
      "    accuracy                           0.84       250\n",
      "   macro avg       0.85      0.84      0.84       250\n",
      "weighted avg       0.85      0.84      0.84       250\n",
      "\n"
     ]
    },
    {
     "name": "stdout",
     "output_type": "stream",
     "text": [
      "\n",
      "=========================Xgboost=========================\n",
      "******************************************************\n",
      "confusion_matrix    : \n",
      " [[ 95  30]\n",
      " [ 18 107]]\n",
      "\n",
      "classification_report    : \n",
      "               precision    recall  f1-score   support\n",
      "\n",
      "           1       0.84      0.76      0.80       125\n",
      "           2       0.78      0.86      0.82       125\n",
      "\n",
      "    accuracy                           0.81       250\n",
      "   macro avg       0.81      0.81      0.81       250\n",
      "weighted avg       0.81      0.81      0.81       250\n",
      "\n",
      "\n",
      "=========================Lightgbm=========================\n",
      "******************************************************\n",
      "confusion_matrix    : \n",
      " [[ 91  34]\n",
      " [ 14 111]]\n",
      "\n",
      "classification_report    : \n",
      "               precision    recall  f1-score   support\n",
      "\n",
      "           1       0.87      0.73      0.79       125\n",
      "           2       0.77      0.89      0.82       125\n",
      "\n",
      "    accuracy                           0.81       250\n",
      "   macro avg       0.82      0.81      0.81       250\n",
      "weighted avg       0.82      0.81      0.81       250\n",
      "\n",
      "\n",
      "=========================Decision Tree=========================\n",
      "******************************************************\n",
      "confusion_matrix    : \n",
      " [[89 36]\n",
      " [29 96]]\n",
      "\n",
      "classification_report    : \n",
      "               precision    recall  f1-score   support\n",
      "\n",
      "           1       0.75      0.71      0.73       125\n",
      "           2       0.73      0.77      0.75       125\n",
      "\n",
      "    accuracy                           0.74       250\n",
      "   macro avg       0.74      0.74      0.74       250\n",
      "weighted avg       0.74      0.74      0.74       250\n",
      "\n",
      "\n",
      "=========================Logistic=========================\n",
      "******************************************************\n",
      "confusion_matrix    : \n",
      " [[ 74  51]\n",
      " [ 15 110]]\n",
      "\n",
      "classification_report    : \n",
      "               precision    recall  f1-score   support\n",
      "\n",
      "           1       0.83      0.59      0.69       125\n",
      "           2       0.68      0.88      0.77       125\n",
      "\n",
      "    accuracy                           0.74       250\n",
      "   macro avg       0.76      0.74      0.73       250\n",
      "weighted avg       0.76      0.74      0.73       250\n",
      "\n"
     ]
    }
   ],
   "source": [
    "# Preprocessing, fitting, making predictions and scoring for every model:\n",
    "# We used without tuning Algorithm,For prediction:\n",
    "models_Evaluation_matrix = {'confusion_matrix':{},\n",
    "                          'classification_report':{}} \n",
    "for name in models:\n",
    "    model = models[name].fit(x_train, y_train)    \n",
    "    y_pred = model.predict(x_test)\n",
    "    \n",
    "    #calculate the Confusion matrix of model with all algorithm\n",
    "    ConfusionMatrix = confusion_matrix(y_test,y_pred)\n",
    "    models_Evaluation_matrix['confusion_matrix'][name]= ConfusionMatrix\n",
    "    \n",
    "    #calculate the Confusion matrix of model with all algorithm\n",
    "    ClassificationReport = classification_report(y_test,y_pred)\n",
    "    models_Evaluation_matrix['classification_report'][name]= ClassificationReport\n",
    "        \n",
    "    print('\\n========================={}========================='.format(name))\n",
    "    print('******************************************************')\n",
    "    print('confusion_matrix    : \\n',ConfusionMatrix)\n",
    "    print(\"\")\n",
    "    print('classification_report    : \\n',ClassificationReport)"
   ]
  },
  {
   "cell_type": "code",
   "execution_count": 58,
   "metadata": {},
   "outputs": [],
   "source": [
    "model_exT = ExtraTreesClassifier()"
   ]
  },
  {
   "cell_type": "code",
   "execution_count": 60,
   "metadata": {},
   "outputs": [
    {
     "data": {
      "text/plain": [
       "ExtraTreesClassifier()"
      ]
     },
     "execution_count": 60,
     "metadata": {},
     "output_type": "execute_result"
    }
   ],
   "source": [
    "model_exT.fit(x_train,y_train)"
   ]
  },
  {
   "cell_type": "code",
   "execution_count": 61,
   "metadata": {},
   "outputs": [],
   "source": [
    "y_prediction = model_exT.predict(x_test)"
   ]
  },
  {
   "cell_type": "code",
   "execution_count": 62,
   "metadata": {},
   "outputs": [
    {
     "name": "stdout",
     "output_type": "stream",
     "text": [
      "Accuracy score =  0.816\n",
      "####################\n",
      "Confusion matrix \n",
      " [[ 90  35]\n",
      " [ 11 114]]\n",
      "####################\n",
      "Classification report \n",
      "               precision    recall  f1-score   support\n",
      "\n",
      "           1       0.89      0.72      0.80       125\n",
      "           2       0.77      0.91      0.83       125\n",
      "\n",
      "    accuracy                           0.82       250\n",
      "   macro avg       0.83      0.82      0.81       250\n",
      "weighted avg       0.83      0.82      0.81       250\n",
      "\n"
     ]
    }
   ],
   "source": [
    "print(\"Accuracy score = \",accuracy_score(y_test,y_prediction))\n",
    "print(\"#\"*20)\n",
    "print(\"Confusion matrix \\n\",confusion_matrix(y_test,y_prediction))\n",
    "print(\"#\"*20)\n",
    "print(\"Classification report \\n\",classification_report(y_test,y_prediction))"
   ]
  },
  {
   "cell_type": "code",
   "execution_count": null,
   "metadata": {},
   "outputs": [],
   "source": []
  }
 ],
 "metadata": {
  "kernelspec": {
   "display_name": "Python 3",
   "language": "python",
   "name": "python3"
  },
  "language_info": {
   "codemirror_mode": {
    "name": "ipython",
    "version": 3
   },
   "file_extension": ".py",
   "mimetype": "text/x-python",
   "name": "python",
   "nbconvert_exporter": "python",
   "pygments_lexer": "ipython3",
   "version": "3.8.5"
  }
 },
 "nbformat": 4,
 "nbformat_minor": 4
}
